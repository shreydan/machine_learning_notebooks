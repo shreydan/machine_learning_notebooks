{
  "nbformat": 4,
  "nbformat_minor": 0,
  "metadata": {
    "colab": {
      "name": "torch_nn_FashionMNIST.ipynb",
      "provenance": [],
      "authorship_tag": "ABX9TyNItAOy1Let1Su5izS0eqqm"
    },
    "kernelspec": {
      "name": "python3",
      "display_name": "Python 3"
    },
    "language_info": {
      "name": "python"
    }
  },
  "cells": [
    {
      "cell_type": "markdown",
      "source": [
        "# **NEURAL NETWORKS USING PYTORCH**\n",
        "\n",
        "Resources:\n",
        "\n",
        "- [datasets](https://pytorch.org/tutorials/beginner/basics/data_tutorial.html)\n",
        "- [transforms](https://pytorch.org/tutorials/beginner/basics/transforms_tutorial.html)\n",
        "- [neural network: sequential model](https://pytorch.org/tutorials/beginner/basics/buildmodel_tutorial.html)\n",
        "- [Linear layer details](https://pytorch.org/docs/stable/generated/torch.nn.Linear.html)\n",
        "- [sentdex example](https://pythonprogramming.net/training-deep-learning-neural-network-pytorch/)\n",
        "- [sentdex deep-learning playlist](https://www.youtube.com/watch?v=BzcBsTou0C0&list=PLQVvvaa0QuDdeMyHEYc0gxFpYwHY2Qfdh)"
      ],
      "metadata": {
        "id": "fQU1pLWICzVy"
      }
    },
    {
      "cell_type": "code",
      "execution_count": 31,
      "metadata": {
        "id": "POCWFPNs-mYL"
      },
      "outputs": [],
      "source": [
        "import torch\n",
        "\n",
        "# dataset handling imports\n",
        "from torch.utils.data import Dataset\n",
        "from torch.utils.data import DataLoader\n",
        "from torchvision import datasets\n",
        "from torchvision.transforms import ToTensor, Lambda\n",
        "\n",
        "# neural network imports\n",
        "from torch import nn\n",
        "import torch.nn.functional as F \n",
        "from torch import optim\n",
        "\n",
        "# visualization import\n",
        "import matplotlib.pyplot as plt"
      ]
    },
    {
      "cell_type": "markdown",
      "source": [
        "## Dataset - Fashion MNIST"
      ],
      "metadata": {
        "id": "K6jOYd9Lni69"
      }
    },
    {
      "cell_type": "code",
      "source": [
        "train = datasets.FashionMNIST(\n",
        "    root = 'data',\n",
        "    train = True,\n",
        "    download = True,\n",
        "    transform = ToTensor(),\n",
        "    # target_transform = Lambda(\n",
        "    #     lambda y: torch.zeros(10, \n",
        "    #                           dtype=torch.float).scatter_(0, torch.tensor(y), value=1))\n",
        "    \n",
        ")\n",
        "\n",
        "test = datasets.FashionMNIST(\n",
        "    root = 'data',\n",
        "    train = False,\n",
        "    download = True,\n",
        "    transform = ToTensor(),\n",
        "    # target_transform = Lambda(\n",
        "    #     lambda y: torch.zeros(10, \n",
        "    #                           dtype=torch.float).scatter_(0, torch.tensor(y), value=1))\n",
        "   \n",
        ")\n",
        "\n",
        "# target_transform: \n",
        "# each y is int\n",
        "# gotta transform that to one-hot encoded labels\n",
        "# reason: that is how pytorch trains over data\n",
        "# Lambda generates zeros of shape (features,)\n",
        "# and scatter places value=1 at the label index 0-9\n"
      ],
      "metadata": {
        "id": "OSlpZQWaAng8"
      },
      "execution_count": 61,
      "outputs": []
    },
    {
      "cell_type": "code",
      "source": [
        "labels = {\n",
        "    0: \"T-Shirt\",\n",
        "    1: \"Trouser\",\n",
        "    2: \"Pullover\",\n",
        "    3: \"Dress\",\n",
        "    4: \"Coat\",\n",
        "    5: \"Sandal\",\n",
        "    6: \"Shirt\",\n",
        "    7: \"Sneaker\",\n",
        "    8: \"Bag\",\n",
        "    9: \"Ankle Boot\",\n",
        "}"
      ],
      "metadata": {
        "id": "Lbtlhc0kBEWW"
      },
      "execution_count": 62,
      "outputs": []
    },
    {
      "cell_type": "code",
      "source": [
        "# visualization!\n",
        "\n",
        "# figsize is in inches \n",
        "figure = plt.figure(figsize=(8,8))\n",
        "\n",
        "# total 10 items\n",
        "cols, rows = 3,3 \n",
        "\n",
        "for i in range(1, cols*rows+1):\n",
        "    index = torch.randint(len(train), size=(1,)).item()\n",
        "    \n",
        "    # train[index] = tuple(xX28x28_img, label)\n",
        "    img, label = train[index]\n",
        "\n",
        "    figure.add_subplot(rows,cols,i)\n",
        "\n",
        "    # argmax returns index of 1 in one-hot encoded labels + item to get int\n",
        "    # if using label -> one-hot encoding\n",
        "    #plt.title(labels[torch.argmax(label).item()])\n",
        "    plt.title(labels[label])\n",
        "    plt.axis('off')\n",
        "    # squeeze() : (1,28,28) -> (28,28)\n",
        "\n",
        "    plt.imshow(img.squeeze(), cmap='gray')\n",
        "    print(img.shape, img.squeeze().shape)"
      ],
      "metadata": {
        "colab": {
          "base_uri": "https://localhost:8080/",
          "height": 638
        },
        "id": "6Q1e-cMqBJxy",
        "outputId": "159845bc-d0c1-4d39-966a-c6a27d67259b"
      },
      "execution_count": 65,
      "outputs": [
        {
          "output_type": "stream",
          "name": "stdout",
          "text": [
            "torch.Size([1, 28, 28]) torch.Size([28, 28])\n",
            "torch.Size([1, 28, 28]) torch.Size([28, 28])\n",
            "torch.Size([1, 28, 28]) torch.Size([28, 28])\n",
            "torch.Size([1, 28, 28]) torch.Size([28, 28])\n",
            "torch.Size([1, 28, 28]) torch.Size([28, 28])\n",
            "torch.Size([1, 28, 28]) torch.Size([28, 28])\n",
            "torch.Size([1, 28, 28]) torch.Size([28, 28])\n",
            "torch.Size([1, 28, 28]) torch.Size([28, 28])\n",
            "torch.Size([1, 28, 28]) torch.Size([28, 28])\n"
          ]
        },
        {
          "output_type": "display_data",
          "data": {
            "image/png": "[encoded data removed]",
            "text/plain": [
              "<Figure size 576x576 with 9 Axes>"
            ]
          },
          "metadata": {
            "needs_background": "light"
          }
        }
      ]
    },
    {
      "cell_type": "code",
      "source": [
        "# preparing data\n",
        "\n",
        "\n",
        "train_dataloader = DataLoader(\n",
        "    train,\n",
        "    batch_size = 64,\n",
        "    shuffle = True\n",
        ")\n",
        "\n",
        "test_dataloader = DataLoader(\n",
        "    test,\n",
        "    batch_size = 64,\n",
        "    shuffle = True\n",
        ")"
      ],
      "metadata": {
        "id": "8jJiH8_lJ52P"
      },
      "execution_count": 66,
      "outputs": []
    },
    {
      "cell_type": "code",
      "source": [
        "# extracts each batch with next()\n",
        "\n",
        "train_features, train_labels = next(iter(train_dataloader))\n",
        "test_features, test_labels = next(iter(test_dataloader))"
      ],
      "metadata": {
        "id": "TvU-dJW1KGkq"
      },
      "execution_count": 67,
      "outputs": []
    },
    {
      "cell_type": "code",
      "source": [
        "print(train_features.shape, train_labels.shape)\n",
        "print(test_features.shape, test_labels.shape)"
      ],
      "metadata": {
        "colab": {
          "base_uri": "https://localhost:8080/"
        },
        "id": "xTxE4APpLbXd",
        "outputId": "b42986e6-c837-486a-f6c4-7206ae17db4f"
      },
      "execution_count": 68,
      "outputs": [
        {
          "output_type": "stream",
          "name": "stdout",
          "text": [
            "torch.Size([64, 1, 28, 28]) torch.Size([64])\n",
            "torch.Size([64, 1, 28, 28]) torch.Size([64])\n"
          ]
        }
      ]
    },
    {
      "cell_type": "markdown",
      "source": [
        "## Neural Network\n"
      ],
      "metadata": {
        "id": "tFZt_hdrngCb"
      }
    },
    {
      "cell_type": "code",
      "source": [
        "# Neural Network inherited class\n",
        "\n",
        "class NeuralNetwork(nn.Module):\n",
        "\n",
        "    def __init__(self):\n",
        "\n",
        "        # super initializes base nn.Module class\n",
        "        super(NeuralNetwork, self).__init__()\n",
        "\n",
        "        # first input Layer\n",
        "        # flattens 28*28 pixel values to 784 value 1D array\n",
        "\n",
        "        self.flatten = nn.Flatten()\n",
        "\n",
        "\n",
        "        # Linear(in_features, out_features,..)\n",
        "        # in_features: inputs\n",
        "        # out_features: no. of neurons basically which give 1 output each\n",
        "        # ReLU : rectified linear unit activation fn \n",
        "        # ReLU = max(0, z)\n",
        "        # SoftMax : \n",
        "\n",
        "        self.stack = nn.Sequential(\n",
        "            nn.Linear(28*28, 128), # data-input layer\n",
        "            nn.ReLU(), # data-input activation\n",
        "            nn.Linear(128,128), # 128 neuron hidden-layer 1\n",
        "            nn.ReLU(), # hidden-layer activation\n",
        "            nn.Linear(128,128), # 128 neuron hidden-layer 2\n",
        "            nn.ReLU(), # hidden-layer activation\n",
        "            nn.Linear(128,10), # output layer\n",
        "            nn.LogSoftmax() # log softmax: better for NLL Loss\n",
        "        )\n",
        "\n",
        "\n",
        "    # forward is called automatically\n",
        "    def forward(self, X):\n",
        "        X = self.flatten(X)\n",
        "\n",
        "        # a logit is a function that represents probability between 0 and 1\n",
        "        \n",
        "        logits = self.stack(X)\n",
        "        return logits\n"
      ],
      "metadata": {
        "id": "j2jS5_XSntzo"
      },
      "execution_count": 69,
      "outputs": []
    },
    {
      "cell_type": "code",
      "source": [
        "# model initialization\n",
        "\n",
        "model = NeuralNetwork()\n",
        "print(model)"
      ],
      "metadata": {
        "colab": {
          "base_uri": "https://localhost:8080/"
        },
        "id": "etgWLFACqrg3",
        "outputId": "12894c5d-5b49-4935-a200-6b3d2de0aaa8"
      },
      "execution_count": 70,
      "outputs": [
        {
          "output_type": "stream",
          "name": "stdout",
          "text": [
            "NeuralNetwork(\n",
            "  (flatten): Flatten(start_dim=1, end_dim=-1)\n",
            "  (stack): Sequential(\n",
            "    (0): Linear(in_features=784, out_features=128, bias=True)\n",
            "    (1): ReLU()\n",
            "    (2): Linear(in_features=128, out_features=128, bias=True)\n",
            "    (3): ReLU()\n",
            "    (4): Linear(in_features=128, out_features=128, bias=True)\n",
            "    (5): ReLU()\n",
            "    (6): Linear(in_features=128, out_features=10, bias=True)\n",
            "    (7): LogSoftmax(dim=None)\n",
            "  )\n",
            ")\n"
          ]
        }
      ]
    },
    {
      "cell_type": "code",
      "source": [
        "# loss and optimizer\n",
        "# LOSS fn: CrossEntropyLoss (alt: MSELoss)\n",
        "\n",
        "## Note:\n",
        "# since our labels our one-hot encoded: MSE is preferred\n",
        "# if our labels were int: Cross Entropy is preferred\n",
        "\n",
        "# OPTIMIZER: Adam (alt: SGD)\n",
        "\n",
        "LEARNING_RATE = 1e-3\n",
        "EPOCHS = 10\n",
        "\n",
        "loss_function = nn.CrossEntropyLoss()\n",
        "optimizer = optim.Adam(model.parameters(), lr=LEARNING_RATE)\n"
      ],
      "metadata": {
        "id": "BbGoyBUwqxu7"
      },
      "execution_count": 74,
      "outputs": []
    },
    {
      "cell_type": "code",
      "source": [
        "# TIME TO TRAIN!\n",
        "\n",
        "for epoch in range(EPOCHS):\n",
        "\n",
        "    for data in train_dataloader:\n",
        "        # X: batch of features\n",
        "        # y: batch of one-hot encoded labels\n",
        "        # batch_size: 64\n",
        "        X,y = data\n",
        "\n",
        "        # set weights to zero per batch before loss calculations\n",
        "        model.zero_grad()\n",
        "\n",
        "        # returns softmax outputs after feed forward\n",
        "        output = model(X)\n",
        "        # loss calculation using:\n",
        "        # NLL: negative log likelihood\n",
        "        loss = F.nll_loss(output, y)\n",
        "\n",
        "        # calculates gradients for backprop\n",
        "        loss.backward()\n",
        "\n",
        "        # simultaneous update of weights\n",
        "        optimizer.step()\n",
        "\n",
        "    print(loss)\n",
        "\n"
      ],
      "metadata": {
        "colab": {
          "base_uri": "https://localhost:8080/"
        },
        "id": "dMpQiQuMyS_1",
        "outputId": "e9e384ae-9d3c-4ef9-8ecd-388f8024c059"
      },
      "execution_count": 75,
      "outputs": [
        {
          "output_type": "stream",
          "name": "stderr",
          "text": [
            "/usr/local/lib/python3.7/dist-packages/torch/nn/modules/container.py:141: UserWarning: Implicit dimension choice for log_softmax has been deprecated. Change the call to include dim=X as an argument.\n",
            "  input = module(input)\n"
          ]
        },
        {
          "output_type": "stream",
          "name": "stdout",
          "text": [
            "tensor(0.1653, grad_fn=<NllLossBackward0>)\n",
            "tensor(0.1820, grad_fn=<NllLossBackward0>)\n",
            "tensor(0.0716, grad_fn=<NllLossBackward0>)\n",
            "tensor(0.2869, grad_fn=<NllLossBackward0>)\n",
            "tensor(0.2467, grad_fn=<NllLossBackward0>)\n",
            "tensor(0.3090, grad_fn=<NllLossBackward0>)\n",
            "tensor(0.2976, grad_fn=<NllLossBackward0>)\n",
            "tensor(0.2008, grad_fn=<NllLossBackward0>)\n",
            "tensor(0.2715, grad_fn=<NllLossBackward0>)\n",
            "tensor(0.1055, grad_fn=<NllLossBackward0>)\n"
          ]
        }
      ]
    },
    {
      "cell_type": "code",
      "source": [
        "# model evaluation\n",
        "\n",
        "\n",
        "correct = 0\n",
        "total = 0\n",
        "\n",
        "with torch.no_grad():\n",
        "    for data in test_dataloader:\n",
        "        output = model(X)\n",
        "\n",
        "        for index, i in enumerate(output):\n",
        "            if torch.argmax(i) == y[index]:\n",
        "                correct +=1\n",
        "            total +=1\n",
        "\n",
        "print(f\"ACCURACY: {round(correct/total, 3)}\")"
      ],
      "metadata": {
        "colab": {
          "base_uri": "https://localhost:8080/"
        },
        "id": "OXwrmIn9Bq2G",
        "outputId": "35e72eeb-f3b1-4301-c802-bbda186ca3ca"
      },
      "execution_count": 77,
      "outputs": [
        {
          "output_type": "stream",
          "name": "stderr",
          "text": [
            "/usr/local/lib/python3.7/dist-packages/torch/nn/modules/container.py:141: UserWarning: Implicit dimension choice for log_softmax has been deprecated. Change the call to include dim=X as an argument.\n",
            "  input = module(input)\n"
          ]
        },
        {
          "output_type": "stream",
          "name": "stdout",
          "text": [
            "ACCURACY: 0.969\n"
          ]
        }
      ]
    }
  ]
}