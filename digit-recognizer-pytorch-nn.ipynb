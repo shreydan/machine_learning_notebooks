{
 "cells": [
  {
   "cell_type": "markdown",
   "id": "63b4a09c",
   "metadata": {
    "papermill": {
     "duration": 0.033677,
     "end_time": "2022-04-13T13:07:18.093710",
     "exception": false,
     "start_time": "2022-04-13T13:07:18.060033",
     "status": "completed"
    },
    "tags": []
   },
   "source": [
    "# **Digit Recognizer**\n",
    "`Although I've worked with this dataset before, training and testing everything from scratch using Pytorch is new for me`\n",
    "\n",
    "##### >>> Using Pytorch\n",
    "##### >>> Basic neural network model with dense, dropout and activation layers\n",
    "##### >>> It's less about score and more about learning Pytorch :)\n",
    "\n",
    "---\n",
    "For anyone stumbling on this notebook, would really appreciate some feedback over everything I did, where I can improve, any newbie mistakes or some cool tips to get me going! Thank you!\n",
    "\n",
    "---"
   ]
  },
  {
   "cell_type": "code",
   "execution_count": 1,
   "id": "9482ed0f",
   "metadata": {
    "_cell_guid": "b1076dfc-b9ad-4769-8c92-a6c4dae69d19",
    "_kg_hide-input": true,
    "_uuid": "8f2839f25d086af736a60e9eeb907d3b93b6e0e5",
    "execution": {
     "iopub.execute_input": "2022-04-13T13:07:18.164140Z",
     "iopub.status.busy": "2022-04-13T13:07:18.162582Z",
     "iopub.status.idle": "2022-04-13T13:07:18.175529Z",
     "shell.execute_reply": "2022-04-13T13:07:18.176066Z",
     "shell.execute_reply.started": "2022-04-13T11:40:05.436460Z"
    },
    "papermill": {
     "duration": 0.049411,
     "end_time": "2022-04-13T13:07:18.176401",
     "exception": false,
     "start_time": "2022-04-13T13:07:18.126990",
     "status": "completed"
    },
    "tags": []
   },
   "outputs": [
    {
     "name": "stdout",
     "output_type": "stream",
     "text": [
      "/kaggle/input/digit-recognizer/sample_submission.csv\n",
      "/kaggle/input/digit-recognizer/train.csv\n",
      "/kaggle/input/digit-recognizer/test.csv\n"
     ]
    }
   ],
   "source": [
    "import numpy as np\n",
    "import pandas as pd \n",
    "import os\n",
    "for dirname, _, filenames in os.walk('/kaggle/input'):\n",
    "    for filename in filenames:\n",
    "        print(os.path.join(dirname, filename))"
   ]
  },
  {
   "cell_type": "code",
   "execution_count": 2,
   "id": "2bfcdab9",
   "metadata": {
    "execution": {
     "iopub.execute_input": "2022-04-13T13:07:18.245008Z",
     "iopub.status.busy": "2022-04-13T13:07:18.243999Z",
     "iopub.status.idle": "2022-04-13T13:07:24.161676Z",
     "shell.execute_reply": "2022-04-13T13:07:24.160566Z",
     "shell.execute_reply.started": "2022-04-13T11:40:08.861945Z"
    },
    "papermill": {
     "duration": 5.952731,
     "end_time": "2022-04-13T13:07:24.161853",
     "exception": false,
     "start_time": "2022-04-13T13:07:18.209122",
     "status": "completed"
    },
    "tags": []
   },
   "outputs": [],
   "source": [
    "train_df = pd.read_csv('/kaggle/input/digit-recognizer/train.csv')\n",
    "test_df = pd.read_csv('/kaggle/input/digit-recognizer/test.csv')"
   ]
  },
  {
   "cell_type": "code",
   "execution_count": 3,
   "id": "3cb0d4ab",
   "metadata": {
    "execution": {
     "iopub.execute_input": "2022-04-13T13:07:24.240071Z",
     "iopub.status.busy": "2022-04-13T13:07:24.239352Z",
     "iopub.status.idle": "2022-04-13T13:07:24.259296Z",
     "shell.execute_reply": "2022-04-13T13:07:24.259821Z",
     "shell.execute_reply.started": "2022-04-13T11:40:18.000436Z"
    },
    "papermill": {
     "duration": 0.064467,
     "end_time": "2022-04-13T13:07:24.260008",
     "exception": false,
     "start_time": "2022-04-13T13:07:24.195541",
     "status": "completed"
    },
    "tags": []
   },
   "outputs": [
    {
     "data": {
      "text/html": [
       "<div>\n",
       "<style scoped>\n",
       "    .dataframe tbody tr th:only-of-type {\n",
       "        vertical-align: middle;\n",
       "    }\n",
       "\n",
       "    .dataframe tbody tr th {\n",
       "        vertical-align: top;\n",
       "    }\n",
       "\n",
       "    .dataframe thead th {\n",
       "        text-align: right;\n",
       "    }\n",
       "</style>\n",
       "<table border=\"1\" class=\"dataframe\">\n",
       "  <thead>\n",
       "    <tr style=\"text-align: right;\">\n",
       "      <th></th>\n",
       "      <th>label</th>\n",
       "      <th>pixel0</th>\n",
       "      <th>pixel1</th>\n",
       "      <th>pixel2</th>\n",
       "      <th>pixel3</th>\n",
       "      <th>pixel4</th>\n",
       "      <th>pixel5</th>\n",
       "      <th>pixel6</th>\n",
       "      <th>pixel7</th>\n",
       "      <th>pixel8</th>\n",
       "      <th>...</th>\n",
       "      <th>pixel774</th>\n",
       "      <th>pixel775</th>\n",
       "      <th>pixel776</th>\n",
       "      <th>pixel777</th>\n",
       "      <th>pixel778</th>\n",
       "      <th>pixel779</th>\n",
       "      <th>pixel780</th>\n",
       "      <th>pixel781</th>\n",
       "      <th>pixel782</th>\n",
       "      <th>pixel783</th>\n",
       "    </tr>\n",
       "  </thead>\n",
       "  <tbody>\n",
       "    <tr>\n",
       "      <th>0</th>\n",
       "      <td>1</td>\n",
       "      <td>0</td>\n",
       "      <td>0</td>\n",
       "      <td>0</td>\n",
       "      <td>0</td>\n",
       "      <td>0</td>\n",
       "      <td>0</td>\n",
       "      <td>0</td>\n",
       "      <td>0</td>\n",
       "      <td>0</td>\n",
       "      <td>...</td>\n",
       "      <td>0</td>\n",
       "      <td>0</td>\n",
       "      <td>0</td>\n",
       "      <td>0</td>\n",
       "      <td>0</td>\n",
       "      <td>0</td>\n",
       "      <td>0</td>\n",
       "      <td>0</td>\n",
       "      <td>0</td>\n",
       "      <td>0</td>\n",
       "    </tr>\n",
       "    <tr>\n",
       "      <th>1</th>\n",
       "      <td>0</td>\n",
       "      <td>0</td>\n",
       "      <td>0</td>\n",
       "      <td>0</td>\n",
       "      <td>0</td>\n",
       "      <td>0</td>\n",
       "      <td>0</td>\n",
       "      <td>0</td>\n",
       "      <td>0</td>\n",
       "      <td>0</td>\n",
       "      <td>...</td>\n",
       "      <td>0</td>\n",
       "      <td>0</td>\n",
       "      <td>0</td>\n",
       "      <td>0</td>\n",
       "      <td>0</td>\n",
       "      <td>0</td>\n",
       "      <td>0</td>\n",
       "      <td>0</td>\n",
       "      <td>0</td>\n",
       "      <td>0</td>\n",
       "    </tr>\n",
       "    <tr>\n",
       "      <th>2</th>\n",
       "      <td>1</td>\n",
       "      <td>0</td>\n",
       "      <td>0</td>\n",
       "      <td>0</td>\n",
       "      <td>0</td>\n",
       "      <td>0</td>\n",
       "      <td>0</td>\n",
       "      <td>0</td>\n",
       "      <td>0</td>\n",
       "      <td>0</td>\n",
       "      <td>...</td>\n",
       "      <td>0</td>\n",
       "      <td>0</td>\n",
       "      <td>0</td>\n",
       "      <td>0</td>\n",
       "      <td>0</td>\n",
       "      <td>0</td>\n",
       "      <td>0</td>\n",
       "      <td>0</td>\n",
       "      <td>0</td>\n",
       "      <td>0</td>\n",
       "    </tr>\n",
       "    <tr>\n",
       "      <th>3</th>\n",
       "      <td>4</td>\n",
       "      <td>0</td>\n",
       "      <td>0</td>\n",
       "      <td>0</td>\n",
       "      <td>0</td>\n",
       "      <td>0</td>\n",
       "      <td>0</td>\n",
       "      <td>0</td>\n",
       "      <td>0</td>\n",
       "      <td>0</td>\n",
       "      <td>...</td>\n",
       "      <td>0</td>\n",
       "      <td>0</td>\n",
       "      <td>0</td>\n",
       "      <td>0</td>\n",
       "      <td>0</td>\n",
       "      <td>0</td>\n",
       "      <td>0</td>\n",
       "      <td>0</td>\n",
       "      <td>0</td>\n",
       "      <td>0</td>\n",
       "    </tr>\n",
       "    <tr>\n",
       "      <th>4</th>\n",
       "      <td>0</td>\n",
       "      <td>0</td>\n",
       "      <td>0</td>\n",
       "      <td>0</td>\n",
       "      <td>0</td>\n",
       "      <td>0</td>\n",
       "      <td>0</td>\n",
       "      <td>0</td>\n",
       "      <td>0</td>\n",
       "      <td>0</td>\n",
       "      <td>...</td>\n",
       "      <td>0</td>\n",
       "      <td>0</td>\n",
       "      <td>0</td>\n",
       "      <td>0</td>\n",
       "      <td>0</td>\n",
       "      <td>0</td>\n",
       "      <td>0</td>\n",
       "      <td>0</td>\n",
       "      <td>0</td>\n",
       "      <td>0</td>\n",
       "    </tr>\n",
       "  </tbody>\n",
       "</table>\n",
       "<p>5 rows × 785 columns</p>\n",
       "</div>"
      ],
      "text/plain": [
       "   label  pixel0  pixel1  pixel2  pixel3  pixel4  pixel5  pixel6  pixel7  \\\n",
       "0      1       0       0       0       0       0       0       0       0   \n",
       "1      0       0       0       0       0       0       0       0       0   \n",
       "2      1       0       0       0       0       0       0       0       0   \n",
       "3      4       0       0       0       0       0       0       0       0   \n",
       "4      0       0       0       0       0       0       0       0       0   \n",
       "\n",
       "   pixel8  ...  pixel774  pixel775  pixel776  pixel777  pixel778  pixel779  \\\n",
       "0       0  ...         0         0         0         0         0         0   \n",
       "1       0  ...         0         0         0         0         0         0   \n",
       "2       0  ...         0         0         0         0         0         0   \n",
       "3       0  ...         0         0         0         0         0         0   \n",
       "4       0  ...         0         0         0         0         0         0   \n",
       "\n",
       "   pixel780  pixel781  pixel782  pixel783  \n",
       "0         0         0         0         0  \n",
       "1         0         0         0         0  \n",
       "2         0         0         0         0  \n",
       "3         0         0         0         0  \n",
       "4         0         0         0         0  \n",
       "\n",
       "[5 rows x 785 columns]"
      ]
     },
     "execution_count": 3,
     "metadata": {},
     "output_type": "execute_result"
    }
   ],
   "source": [
    "train_df.head()"
   ]
  },
  {
   "cell_type": "code",
   "execution_count": 4,
   "id": "7d3fc004",
   "metadata": {
    "execution": {
     "iopub.execute_input": "2022-04-13T13:07:24.347542Z",
     "iopub.status.busy": "2022-04-13T13:07:24.346802Z",
     "iopub.status.idle": "2022-04-13T13:07:24.349858Z",
     "shell.execute_reply": "2022-04-13T13:07:24.350379Z",
     "shell.execute_reply.started": "2022-04-13T11:40:22.800279Z"
    },
    "papermill": {
     "duration": 0.055862,
     "end_time": "2022-04-13T13:07:24.350566",
     "exception": false,
     "start_time": "2022-04-13T13:07:24.294704",
     "status": "completed"
    },
    "tags": []
   },
   "outputs": [
    {
     "data": {
      "text/html": [
       "<div>\n",
       "<style scoped>\n",
       "    .dataframe tbody tr th:only-of-type {\n",
       "        vertical-align: middle;\n",
       "    }\n",
       "\n",
       "    .dataframe tbody tr th {\n",
       "        vertical-align: top;\n",
       "    }\n",
       "\n",
       "    .dataframe thead th {\n",
       "        text-align: right;\n",
       "    }\n",
       "</style>\n",
       "<table border=\"1\" class=\"dataframe\">\n",
       "  <thead>\n",
       "    <tr style=\"text-align: right;\">\n",
       "      <th></th>\n",
       "      <th>pixel0</th>\n",
       "      <th>pixel1</th>\n",
       "      <th>pixel2</th>\n",
       "      <th>pixel3</th>\n",
       "      <th>pixel4</th>\n",
       "      <th>pixel5</th>\n",
       "      <th>pixel6</th>\n",
       "      <th>pixel7</th>\n",
       "      <th>pixel8</th>\n",
       "      <th>pixel9</th>\n",
       "      <th>...</th>\n",
       "      <th>pixel774</th>\n",
       "      <th>pixel775</th>\n",
       "      <th>pixel776</th>\n",
       "      <th>pixel777</th>\n",
       "      <th>pixel778</th>\n",
       "      <th>pixel779</th>\n",
       "      <th>pixel780</th>\n",
       "      <th>pixel781</th>\n",
       "      <th>pixel782</th>\n",
       "      <th>pixel783</th>\n",
       "    </tr>\n",
       "  </thead>\n",
       "  <tbody>\n",
       "    <tr>\n",
       "      <th>0</th>\n",
       "      <td>0</td>\n",
       "      <td>0</td>\n",
       "      <td>0</td>\n",
       "      <td>0</td>\n",
       "      <td>0</td>\n",
       "      <td>0</td>\n",
       "      <td>0</td>\n",
       "      <td>0</td>\n",
       "      <td>0</td>\n",
       "      <td>0</td>\n",
       "      <td>...</td>\n",
       "      <td>0</td>\n",
       "      <td>0</td>\n",
       "      <td>0</td>\n",
       "      <td>0</td>\n",
       "      <td>0</td>\n",
       "      <td>0</td>\n",
       "      <td>0</td>\n",
       "      <td>0</td>\n",
       "      <td>0</td>\n",
       "      <td>0</td>\n",
       "    </tr>\n",
       "    <tr>\n",
       "      <th>1</th>\n",
       "      <td>0</td>\n",
       "      <td>0</td>\n",
       "      <td>0</td>\n",
       "      <td>0</td>\n",
       "      <td>0</td>\n",
       "      <td>0</td>\n",
       "      <td>0</td>\n",
       "      <td>0</td>\n",
       "      <td>0</td>\n",
       "      <td>0</td>\n",
       "      <td>...</td>\n",
       "      <td>0</td>\n",
       "      <td>0</td>\n",
       "      <td>0</td>\n",
       "      <td>0</td>\n",
       "      <td>0</td>\n",
       "      <td>0</td>\n",
       "      <td>0</td>\n",
       "      <td>0</td>\n",
       "      <td>0</td>\n",
       "      <td>0</td>\n",
       "    </tr>\n",
       "    <tr>\n",
       "      <th>2</th>\n",
       "      <td>0</td>\n",
       "      <td>0</td>\n",
       "      <td>0</td>\n",
       "      <td>0</td>\n",
       "      <td>0</td>\n",
       "      <td>0</td>\n",
       "      <td>0</td>\n",
       "      <td>0</td>\n",
       "      <td>0</td>\n",
       "      <td>0</td>\n",
       "      <td>...</td>\n",
       "      <td>0</td>\n",
       "      <td>0</td>\n",
       "      <td>0</td>\n",
       "      <td>0</td>\n",
       "      <td>0</td>\n",
       "      <td>0</td>\n",
       "      <td>0</td>\n",
       "      <td>0</td>\n",
       "      <td>0</td>\n",
       "      <td>0</td>\n",
       "    </tr>\n",
       "    <tr>\n",
       "      <th>3</th>\n",
       "      <td>0</td>\n",
       "      <td>0</td>\n",
       "      <td>0</td>\n",
       "      <td>0</td>\n",
       "      <td>0</td>\n",
       "      <td>0</td>\n",
       "      <td>0</td>\n",
       "      <td>0</td>\n",
       "      <td>0</td>\n",
       "      <td>0</td>\n",
       "      <td>...</td>\n",
       "      <td>0</td>\n",
       "      <td>0</td>\n",
       "      <td>0</td>\n",
       "      <td>0</td>\n",
       "      <td>0</td>\n",
       "      <td>0</td>\n",
       "      <td>0</td>\n",
       "      <td>0</td>\n",
       "      <td>0</td>\n",
       "      <td>0</td>\n",
       "    </tr>\n",
       "    <tr>\n",
       "      <th>4</th>\n",
       "      <td>0</td>\n",
       "      <td>0</td>\n",
       "      <td>0</td>\n",
       "      <td>0</td>\n",
       "      <td>0</td>\n",
       "      <td>0</td>\n",
       "      <td>0</td>\n",
       "      <td>0</td>\n",
       "      <td>0</td>\n",
       "      <td>0</td>\n",
       "      <td>...</td>\n",
       "      <td>0</td>\n",
       "      <td>0</td>\n",
       "      <td>0</td>\n",
       "      <td>0</td>\n",
       "      <td>0</td>\n",
       "      <td>0</td>\n",
       "      <td>0</td>\n",
       "      <td>0</td>\n",
       "      <td>0</td>\n",
       "      <td>0</td>\n",
       "    </tr>\n",
       "  </tbody>\n",
       "</table>\n",
       "<p>5 rows × 784 columns</p>\n",
       "</div>"
      ],
      "text/plain": [
       "   pixel0  pixel1  pixel2  pixel3  pixel4  pixel5  pixel6  pixel7  pixel8  \\\n",
       "0       0       0       0       0       0       0       0       0       0   \n",
       "1       0       0       0       0       0       0       0       0       0   \n",
       "2       0       0       0       0       0       0       0       0       0   \n",
       "3       0       0       0       0       0       0       0       0       0   \n",
       "4       0       0       0       0       0       0       0       0       0   \n",
       "\n",
       "   pixel9  ...  pixel774  pixel775  pixel776  pixel777  pixel778  pixel779  \\\n",
       "0       0  ...         0         0         0         0         0         0   \n",
       "1       0  ...         0         0         0         0         0         0   \n",
       "2       0  ...         0         0         0         0         0         0   \n",
       "3       0  ...         0         0         0         0         0         0   \n",
       "4       0  ...         0         0         0         0         0         0   \n",
       "\n",
       "   pixel780  pixel781  pixel782  pixel783  \n",
       "0         0         0         0         0  \n",
       "1         0         0         0         0  \n",
       "2         0         0         0         0  \n",
       "3         0         0         0         0  \n",
       "4         0         0         0         0  \n",
       "\n",
       "[5 rows x 784 columns]"
      ]
     },
     "execution_count": 4,
     "metadata": {},
     "output_type": "execute_result"
    }
   ],
   "source": [
    "test_df.head()"
   ]
  },
  {
   "cell_type": "code",
   "execution_count": 5,
   "id": "9dc8e6f6",
   "metadata": {
    "execution": {
     "iopub.execute_input": "2022-04-13T13:07:24.437291Z",
     "iopub.status.busy": "2022-04-13T13:07:24.436590Z",
     "iopub.status.idle": "2022-04-13T13:07:24.440518Z",
     "shell.execute_reply": "2022-04-13T13:07:24.441255Z",
     "shell.execute_reply.started": "2022-04-13T12:49:00.662058Z"
    },
    "papermill": {
     "duration": 0.056555,
     "end_time": "2022-04-13T13:07:24.441446",
     "exception": false,
     "start_time": "2022-04-13T13:07:24.384891",
     "status": "completed"
    },
    "tags": []
   },
   "outputs": [
    {
     "data": {
      "text/plain": [
       "28000"
      ]
     },
     "execution_count": 5,
     "metadata": {},
     "output_type": "execute_result"
    }
   ],
   "source": [
    "len(test_df)"
   ]
  },
  {
   "cell_type": "markdown",
   "id": "fafc4674",
   "metadata": {
    "papermill": {
     "duration": 0.033623,
     "end_time": "2022-04-13T13:07:24.513636",
     "exception": false,
     "start_time": "2022-04-13T13:07:24.480013",
     "status": "completed"
    },
    "tags": []
   },
   "source": [
    "# **Visualizing the digits** "
   ]
  },
  {
   "cell_type": "code",
   "execution_count": 6,
   "id": "7b4c2dab",
   "metadata": {
    "execution": {
     "iopub.execute_input": "2022-04-13T13:07:24.585517Z",
     "iopub.status.busy": "2022-04-13T13:07:24.584749Z",
     "iopub.status.idle": "2022-04-13T13:07:24.835191Z",
     "shell.execute_reply": "2022-04-13T13:07:24.834513Z",
     "shell.execute_reply.started": "2022-04-13T11:40:32.469992Z"
    },
    "papermill": {
     "duration": 0.28765,
     "end_time": "2022-04-13T13:07:24.835356",
     "exception": false,
     "start_time": "2022-04-13T13:07:24.547706",
     "status": "completed"
    },
    "tags": []
   },
   "outputs": [
    {
     "data": {
      "text/plain": [
       "<matplotlib.image.AxesImage at 0x7fcc3fb1b490>"
      ]
     },
     "execution_count": 6,
     "metadata": {},
     "output_type": "execute_result"
    },
    {
     "data": {
      "image/png": "[encoded data removed]",
      "text/plain": [
       "<Figure size 432x288 with 1 Axes>"
      ]
     },
     "metadata": {
      "needs_background": "light"
     },
     "output_type": "display_data"
    }
   ],
   "source": [
    "import matplotlib.pyplot as plt\n",
    "\n",
    "random_digit = train_df.sample().iloc[:,1:].values.reshape(28,28,1)\n",
    "plt.imshow(random_digit, cmap='gray')"
   ]
  },
  {
   "cell_type": "code",
   "execution_count": 7,
   "id": "0f95bd0b",
   "metadata": {
    "execution": {
     "iopub.execute_input": "2022-04-13T13:07:24.915411Z",
     "iopub.status.busy": "2022-04-13T13:07:24.914638Z",
     "iopub.status.idle": "2022-04-13T13:07:25.759581Z",
     "shell.execute_reply": "2022-04-13T13:07:25.760185Z",
     "shell.execute_reply.started": "2022-04-13T11:40:37.189080Z"
    },
    "papermill": {
     "duration": 0.889109,
     "end_time": "2022-04-13T13:07:25.760396",
     "exception": false,
     "start_time": "2022-04-13T13:07:24.871287",
     "status": "completed"
    },
    "tags": []
   },
   "outputs": [
    {
     "data": {
      "image/png": "[encoded data removed]",
      "text/plain": [
       "<Figure size 1440x216 with 10 Axes>"
      ]
     },
     "metadata": {
      "needs_background": "light"
     },
     "output_type": "display_data"
    }
   ],
   "source": [
    "all_randoms = train_df.sample(frac=1).drop_duplicates('label').sort_values(by='label')\n",
    "figure = plt.figure(figsize=(20,3))\n",
    "for i in range(1, 11):\n",
    "    img = all_randoms.iloc[i-1,1:].values.reshape(28,28)\n",
    "    label = all_randoms.iloc[i-1,0]\n",
    "    figure.add_subplot(1,10,i)\n",
    "    plt.title(label)\n",
    "    plt.axis('off')\n",
    "    plt.imshow(img, cmap='gray')"
   ]
  },
  {
   "cell_type": "code",
   "execution_count": 8,
   "id": "beabd443",
   "metadata": {
    "execution": {
     "iopub.execute_input": "2022-04-13T13:07:25.840821Z",
     "iopub.status.busy": "2022-04-13T13:07:25.840100Z",
     "iopub.status.idle": "2022-04-13T13:07:26.075192Z",
     "shell.execute_reply": "2022-04-13T13:07:26.074655Z",
     "shell.execute_reply.started": "2022-04-13T11:40:46.556285Z"
    },
    "papermill": {
     "duration": 0.276184,
     "end_time": "2022-04-13T13:07:26.075361",
     "exception": false,
     "start_time": "2022-04-13T13:07:25.799177",
     "status": "completed"
    },
    "tags": []
   },
   "outputs": [
    {
     "data": {
      "text/plain": [
       "<AxesSubplot:>"
      ]
     },
     "execution_count": 8,
     "metadata": {},
     "output_type": "execute_result"
    },
    {
     "data": {
      "image/png": "[encoded data removed]",
      "text/plain": [
       "<Figure size 432x288 with 1 Axes>"
      ]
     },
     "metadata": {
      "needs_background": "light"
     },
     "output_type": "display_data"
    }
   ],
   "source": [
    "train_df['label'].value_counts().plot.bar(rot=0)"
   ]
  },
  {
   "cell_type": "markdown",
   "id": "9ed58beb",
   "metadata": {
    "papermill": {
     "duration": 0.03724,
     "end_time": "2022-04-13T13:07:26.152582",
     "exception": false,
     "start_time": "2022-04-13T13:07:26.115342",
     "status": "completed"
    },
    "tags": []
   },
   "source": [
    "# **Pytorch**"
   ]
  },
  {
   "cell_type": "code",
   "execution_count": 9,
   "id": "fe011cf0",
   "metadata": {
    "execution": {
     "iopub.execute_input": "2022-04-13T13:07:26.236692Z",
     "iopub.status.busy": "2022-04-13T13:07:26.235666Z",
     "iopub.status.idle": "2022-04-13T13:07:27.612029Z",
     "shell.execute_reply": "2022-04-13T13:07:27.611175Z",
     "shell.execute_reply.started": "2022-04-13T11:40:58.529244Z"
    },
    "papermill": {
     "duration": 1.421599,
     "end_time": "2022-04-13T13:07:27.612190",
     "exception": false,
     "start_time": "2022-04-13T13:07:26.190591",
     "status": "completed"
    },
    "tags": []
   },
   "outputs": [],
   "source": [
    "import torch\n",
    "import torch.nn as nn"
   ]
  },
  {
   "cell_type": "markdown",
   "id": "fcac1ff3",
   "metadata": {
    "papermill": {
     "duration": 0.03651,
     "end_time": "2022-04-13T13:07:27.686566",
     "exception": false,
     "start_time": "2022-04-13T13:07:27.650056",
     "status": "completed"
    },
    "tags": []
   },
   "source": [
    "# **Custom Dataset**"
   ]
  },
  {
   "cell_type": "code",
   "execution_count": 10,
   "id": "1c0ebf36",
   "metadata": {
    "execution": {
     "iopub.execute_input": "2022-04-13T13:07:27.773295Z",
     "iopub.status.busy": "2022-04-13T13:07:27.772563Z",
     "iopub.status.idle": "2022-04-13T13:07:27.775411Z",
     "shell.execute_reply": "2022-04-13T13:07:27.776120Z",
     "shell.execute_reply.started": "2022-04-13T12:38:48.688185Z"
    },
    "papermill": {
     "duration": 0.051876,
     "end_time": "2022-04-13T13:07:27.776344",
     "exception": false,
     "start_time": "2022-04-13T13:07:27.724468",
     "status": "completed"
    },
    "tags": []
   },
   "outputs": [],
   "source": [
    "class DigitDataset:\n",
    "    \n",
    "    def __init__(self, data, labels = None, is_test = False):\n",
    "        self.data = data / 255.0\n",
    "        self.labels = labels if labels is not None else None\n",
    "        self.is_test = is_test\n",
    "    \n",
    "    def __len__(self):\n",
    "        return self.data.shape[0]\n",
    "    \n",
    "    def __getitem__(self, idx):\n",
    "        \n",
    "        sample = self.data[idx,:]\n",
    "        \n",
    "        if self.is_test is False:\n",
    "            \n",
    "            label = self.labels[idx]\n",
    "            \n",
    "            return (\n",
    "                torch.tensor(sample, dtype=torch.float),\n",
    "                torch.tensor(label, dtype=torch.long)\n",
    "            )\n",
    "        \n",
    "        else:\n",
    "            return torch.tensor(sample, dtype=torch.float)"
   ]
  },
  {
   "cell_type": "code",
   "execution_count": 11,
   "id": "5fb565b7",
   "metadata": {
    "execution": {
     "iopub.execute_input": "2022-04-13T13:07:27.858506Z",
     "iopub.status.busy": "2022-04-13T13:07:27.854411Z",
     "iopub.status.idle": "2022-04-13T13:07:29.625702Z",
     "shell.execute_reply": "2022-04-13T13:07:29.624894Z",
     "shell.execute_reply.started": "2022-04-13T12:46:55.698271Z"
    },
    "papermill": {
     "duration": 1.812057,
     "end_time": "2022-04-13T13:07:29.625869",
     "exception": false,
     "start_time": "2022-04-13T13:07:27.813812",
     "status": "completed"
    },
    "tags": []
   },
   "outputs": [],
   "source": [
    "from sklearn.model_selection import train_test_split\n",
    "\n",
    "# train and validation split\n",
    "X = train_df.iloc[:,1:].values\n",
    "y = train_df.iloc[:,0].values\n",
    "X_train, X_val, y_train, y_val = train_test_split(X,y, test_size=0.2)\n",
    "\n",
    "\n",
    "# test \n",
    "X_test = test_df.values\n",
    "\n",
    "train_ds = DigitDataset(X_train, y_train)\n",
    "val_ds = DigitDataset(X_val, y_val)\n",
    "test_ds = DigitDataset(X_test, is_test = True)"
   ]
  },
  {
   "cell_type": "markdown",
   "id": "0c95fa82",
   "metadata": {
    "papermill": {
     "duration": 0.037894,
     "end_time": "2022-04-13T13:07:29.704385",
     "exception": false,
     "start_time": "2022-04-13T13:07:29.666491",
     "status": "completed"
    },
    "tags": []
   },
   "source": [
    "## Config"
   ]
  },
  {
   "cell_type": "code",
   "execution_count": 12,
   "id": "07577bd7",
   "metadata": {
    "execution": {
     "iopub.execute_input": "2022-04-13T13:07:29.787289Z",
     "iopub.status.busy": "2022-04-13T13:07:29.786465Z",
     "iopub.status.idle": "2022-04-13T13:07:29.788652Z",
     "shell.execute_reply": "2022-04-13T13:07:29.787987Z",
     "shell.execute_reply.started": "2022-04-13T12:46:59.683669Z"
    },
    "papermill": {
     "duration": 0.045164,
     "end_time": "2022-04-13T13:07:29.788801",
     "exception": false,
     "start_time": "2022-04-13T13:07:29.743637",
     "status": "completed"
    },
    "tags": []
   },
   "outputs": [],
   "source": [
    "class Config:\n",
    "    learning_rate = 1e-3\n",
    "    epochs = 5\n",
    "    train_batch_size = 64\n",
    "    valid_batch_size = 64\n",
    "    test_batch_size = 64"
   ]
  },
  {
   "cell_type": "markdown",
   "id": "e656e852",
   "metadata": {
    "papermill": {
     "duration": 0.037334,
     "end_time": "2022-04-13T13:07:29.863620",
     "exception": false,
     "start_time": "2022-04-13T13:07:29.826286",
     "status": "completed"
    },
    "tags": []
   },
   "source": [
    "## Pytorch Dataloader"
   ]
  },
  {
   "cell_type": "code",
   "execution_count": 13,
   "id": "cac59fc3",
   "metadata": {
    "execution": {
     "iopub.execute_input": "2022-04-13T13:07:29.950004Z",
     "iopub.status.busy": "2022-04-13T13:07:29.949339Z",
     "iopub.status.idle": "2022-04-13T13:07:29.951238Z",
     "shell.execute_reply": "2022-04-13T13:07:29.951868Z",
     "shell.execute_reply.started": "2022-04-13T12:47:21.605455Z"
    },
    "papermill": {
     "duration": 0.048737,
     "end_time": "2022-04-13T13:07:29.952053",
     "exception": false,
     "start_time": "2022-04-13T13:07:29.903316",
     "status": "completed"
    },
    "tags": []
   },
   "outputs": [],
   "source": [
    "train_dataloader = torch.utils.data.DataLoader(dataset=train_ds, \n",
    "                                               batch_size=Config.train_batch_size, \n",
    "                                               num_workers=2, \n",
    "                                               shuffle=True\n",
    "                                              )\n",
    "\n",
    "val_dataloader = torch.utils.data.DataLoader(dataset=val_ds, \n",
    "                                             batch_size=Config.valid_batch_size, \n",
    "                                             num_workers=2, \n",
    "                                             shuffle=True\n",
    "                                            )\n",
    "\n",
    "test_dataloader = torch.utils.data.DataLoader(dataset=test_ds,\n",
    "                                             batch_size=Config.test_batch_size,\n",
    "                                             shuffle=False\n",
    "                                             )"
   ]
  },
  {
   "cell_type": "code",
   "execution_count": 14,
   "id": "b7997811",
   "metadata": {
    "execution": {
     "iopub.execute_input": "2022-04-13T13:07:30.030566Z",
     "iopub.status.busy": "2022-04-13T13:07:30.029875Z",
     "iopub.status.idle": "2022-04-13T13:07:30.035519Z",
     "shell.execute_reply": "2022-04-13T13:07:30.036083Z",
     "shell.execute_reply.started": "2022-04-13T12:47:25.961691Z"
    },
    "papermill": {
     "duration": 0.045912,
     "end_time": "2022-04-13T13:07:30.036298",
     "exception": false,
     "start_time": "2022-04-13T13:07:29.990386",
     "status": "completed"
    },
    "tags": []
   },
   "outputs": [
    {
     "data": {
      "text/plain": [
       "(525, 132, 438)"
      ]
     },
     "execution_count": 14,
     "metadata": {},
     "output_type": "execute_result"
    }
   ],
   "source": [
    "len(train_dataloader), len(val_dataloader), len(test_dataloader)"
   ]
  },
  {
   "cell_type": "markdown",
   "id": "31934fa2",
   "metadata": {
    "papermill": {
     "duration": 0.039617,
     "end_time": "2022-04-13T13:07:30.116697",
     "exception": false,
     "start_time": "2022-04-13T13:07:30.077080",
     "status": "completed"
    },
    "tags": []
   },
   "source": [
    "# **Model**\n",
    "\n",
    "\n",
    "- **Input layer:** 28*28 = 784 pixels\n",
    "- **Hidden layer 1:** 512 Neurons with ReLU activation\n",
    "- **Dropout layer 1:** probability of an element to be made zero = 0.2\n",
    "- **Hidden layer 2:** 256 Neurons with ReLU activation\n",
    "- **Dropout layer 2:** probability of an element to be made zero = 0.1\n",
    "- **Output layer:** 10 Neurons for the 10 output classes\n",
    "\n",
    "---\n",
    "\n",
    "##### **Loss:** Cross Entropy Loss\n",
    "##### **Optimizer:** Adam\n",
    "\n",
    "---\n",
    "\n",
    "#### Notes:\n",
    "\n",
    "- I could've added a [LogSoftmax()](https://pytorch.org/docs/stable/generated/torch.nn.LogSoftmax.html?highlight=logsoftmax#torch.nn.LogSoftmax) activation function for the output layer only if\n",
    "  I was using Pytorch [NLLLoss()](https://pytorch.org/docs/stable/generated/torch.nn.NLLLoss.html?highlight=nllloss#torch.nn.NLLLoss)\n",
    "  \n",
    "  from NLLLoss docs: `Obtaining log-probabilities in a neural network is easily achieved by adding a LogSoftmax layer in the last layer of your network. You may use CrossEntropyLoss instead, if you prefer not to add an extra layer.`\n",
    "  \n",
    "  Instead, If I use the [CrossEntropyLoss()](https://pytorch.org/docs/stable/generated/torch.nn.CrossEntropyLoss.html?highlight=crossentropyloss#torch.nn.CrossEntropyLoss), it combines LogSoftmax and NLLLoss in a single class,\n",
    "  hence, for CrossEntropyLoss, I don't have to apply LogSoftmax again, and CrossEntropyLoss\n",
    "  actually requires direct neuron outputs -- called \"Logits\"\n",
    "  \n",
    "  cool stackoverflow explanation: [pytorch-logsoftmax-vs-softmax-for-crossentropyloss](https://stackoverflow.com/questions/65192475/pytorch-logsoftmax-vs-softmax-for-crossentropyloss)\n",
    "\n",
    "- Activation Layer: \n",
    "```\n",
    "ReLU(X) = {\n",
    "                0,  X<=0\n",
    "                X,  X>0\n",
    "            }\n",
    "```\n",
    "\n",
    "- for training device, I'll stick to CPU since it's not that intensive.\n",
    "\n",
    "---\n",
    "\n"
   ]
  },
  {
   "cell_type": "code",
   "execution_count": 15,
   "id": "631c7cb6",
   "metadata": {
    "execution": {
     "iopub.execute_input": "2022-04-13T13:07:30.197645Z",
     "iopub.status.busy": "2022-04-13T13:07:30.196823Z",
     "iopub.status.idle": "2022-04-13T13:07:30.204041Z",
     "shell.execute_reply": "2022-04-13T13:07:30.204807Z",
     "shell.execute_reply.started": "2022-04-13T12:47:29.068322Z"
    },
    "papermill": {
     "duration": 0.049091,
     "end_time": "2022-04-13T13:07:30.205005",
     "exception": false,
     "start_time": "2022-04-13T13:07:30.155914",
     "status": "completed"
    },
    "tags": []
   },
   "outputs": [],
   "source": [
    "class DigitsModel(nn.Module):\n",
    "    \n",
    "    def __init__(self):\n",
    "        super(DigitsModel, self).__init__()\n",
    "        \n",
    "        self.stack = nn.Sequential(nn.Linear(28*28, 512),\n",
    "                                   nn.ReLU(),\n",
    "                                   nn.Linear(512,512),\n",
    "                                   nn.ReLU(),\n",
    "                                   nn.Dropout(0.2),\n",
    "                                   nn.Linear(512,256),\n",
    "                                   nn.ReLU(),\n",
    "                                   nn.Dropout(0.1),\n",
    "                                   nn.Linear(256,10),\n",
    "                                   # nn.LogSoftmax() -- only if NLLLoss()\n",
    "                                  )\n",
    "        \n",
    "    def forward(self, X):\n",
    "        logits = self.stack(X)\n",
    "        return logits"
   ]
  },
  {
   "cell_type": "code",
   "execution_count": 16,
   "id": "0c436a88",
   "metadata": {
    "execution": {
     "iopub.execute_input": "2022-04-13T13:07:30.287450Z",
     "iopub.status.busy": "2022-04-13T13:07:30.284087Z",
     "iopub.status.idle": "2022-04-13T13:07:30.332480Z",
     "shell.execute_reply": "2022-04-13T13:07:30.333773Z",
     "shell.execute_reply.started": "2022-04-13T12:47:32.085405Z"
    },
    "papermill": {
     "duration": 0.090532,
     "end_time": "2022-04-13T13:07:30.334355",
     "exception": false,
     "start_time": "2022-04-13T13:07:30.243823",
     "status": "completed"
    },
    "tags": []
   },
   "outputs": [
    {
     "name": "stdout",
     "output_type": "stream",
     "text": [
      "DigitsModel(\n",
      "  (stack): Sequential(\n",
      "    (0): Linear(in_features=784, out_features=512, bias=True)\n",
      "    (1): ReLU()\n",
      "    (2): Linear(in_features=512, out_features=512, bias=True)\n",
      "    (3): ReLU()\n",
      "    (4): Dropout(p=0.2, inplace=False)\n",
      "    (5): Linear(in_features=512, out_features=256, bias=True)\n",
      "    (6): ReLU()\n",
      "    (7): Dropout(p=0.1, inplace=False)\n",
      "    (8): Linear(in_features=256, out_features=10, bias=True)\n",
      "  )\n",
      ")\n"
     ]
    }
   ],
   "source": [
    "model = DigitsModel()\n",
    "print(model)"
   ]
  },
  {
   "cell_type": "markdown",
   "id": "2e1ba14b",
   "metadata": {
    "papermill": {
     "duration": 0.037616,
     "end_time": "2022-04-13T13:07:30.414815",
     "exception": false,
     "start_time": "2022-04-13T13:07:30.377199",
     "status": "completed"
    },
    "tags": []
   },
   "source": [
    "## Training and Validation Loops"
   ]
  },
  {
   "cell_type": "markdown",
   "id": "3487bdf8",
   "metadata": {
    "papermill": {
     "duration": 0.038057,
     "end_time": "2022-04-13T13:07:30.492081",
     "exception": false,
     "start_time": "2022-04-13T13:07:30.454024",
     "status": "completed"
    },
    "tags": []
   },
   "source": [
    "### Calculating Loss\n",
    "\n",
    "\n",
    "#### LOSS: \n",
    "- for every epoch, there is: **Running Loss** initialized to 0\n",
    "- Running Loss = Previous batch(s) running loss + (loss calculated by loss function for current batch) \n",
    "  ```\n",
    "      running_loss += loss\n",
    "      \n",
    "  ```\n",
    "    \n",
    "    \n",
    "- for every epoch: **Total Loss = Running Loss for that epoch / length of dataloader**\n"
   ]
  },
  {
   "cell_type": "code",
   "execution_count": 17,
   "id": "0c6bf190",
   "metadata": {
    "execution": {
     "iopub.execute_input": "2022-04-13T13:07:30.577529Z",
     "iopub.status.busy": "2022-04-13T13:07:30.576599Z",
     "iopub.status.idle": "2022-04-13T13:07:30.598132Z",
     "shell.execute_reply": "2022-04-13T13:07:30.598838Z",
     "shell.execute_reply.started": "2022-04-13T12:47:36.570225Z"
    },
    "papermill": {
     "duration": 0.065189,
     "end_time": "2022-04-13T13:07:30.599037",
     "exception": false,
     "start_time": "2022-04-13T13:07:30.533848",
     "status": "completed"
    },
    "tags": []
   },
   "outputs": [],
   "source": [
    "class Trainer:\n",
    "    def __init__(self, model, dataloaders, optimizer, loss_fn, Config):\n",
    "        self.model = model\n",
    "        self.train_loader, self.valid_loader = dataloaders\n",
    "        self.Config = Config\n",
    "        \n",
    "        if optimizer is 'Adam':\n",
    "            self.optimizer = torch.optim.Adam(self.model.parameters(), lr=self.Config.learning_rate)\n",
    "        if loss_fn is 'CrossEntropyLoss':\n",
    "            self.loss_fn = nn.CrossEntropyLoss()\n",
    "            \n",
    "    def accuracy(self, outputs, labels):\n",
    "        pred_labels = torch.argmax(outputs, dim=1)\n",
    "        return  (pred_labels == labels).sum().item() / len(pred_labels)\n",
    "        \n",
    "    def train_one_epoch(self):\n",
    "        \n",
    "        running_loss = 0.0\n",
    "        running_acc = 0.0\n",
    "        \n",
    "        for batch_num, (X,y) in enumerate(self.train_loader):\n",
    "            \n",
    "            # reset gradients to 0\n",
    "            self.optimizer.zero_grad()\n",
    "            \n",
    "            preds = self.model(X)\n",
    "            loss = self.loss_fn(preds, y)\n",
    "            \n",
    "            # calculate gradients\n",
    "            loss.backward()\n",
    "            \n",
    "            # update weights\n",
    "            self.optimizer.step()\n",
    "            \n",
    "            # updating running loss\n",
    "            running_loss += loss.item()\n",
    "            \n",
    "            # accuracy\n",
    "            running_acc += self.accuracy(preds, y)\n",
    "            \n",
    "        train_loss = running_loss / len(self.train_loader)\n",
    "        train_acc = running_acc / len(self.train_loader)\n",
    "        \n",
    "        return train_loss, train_acc\n",
    "        \n",
    "        \n",
    "    def valid_one_epoch(self):\n",
    "        \n",
    "        running_loss = 0.0\n",
    "        running_acc = 0.0\n",
    "        \n",
    "        for batch_num, (X,y) in enumerate(self.valid_loader):\n",
    "            \n",
    "            preds = self.model(X)\n",
    "            loss = self.loss_fn(preds, y)\n",
    "            \n",
    "            running_loss += loss.item()\n",
    "            \n",
    "            # accuracy\n",
    "            running_acc += self.accuracy(preds, y)\n",
    "            \n",
    "        valid_loss = running_loss / len(self.valid_loader)\n",
    "        valid_acc = running_acc / len(self.valid_loader)\n",
    "        \n",
    "        return valid_loss, valid_acc\n",
    "    \n",
    "    \n",
    "    def fit(self):\n",
    "        \n",
    "        train_losses, train_accuracies = [], []\n",
    "        valid_losses, valid_accuracies = [], []\n",
    "        \n",
    "        valid_preds = []\n",
    "        valid_labels = []\n",
    "        \n",
    "        for epoch in range(self.Config.epochs):\n",
    "                \n",
    "            self.model.train()\n",
    "            \n",
    "            train_loss, train_acc = self.train_one_epoch()\n",
    "            train_losses.append(train_loss)\n",
    "            train_accuracies.append(train_acc)\n",
    "            \n",
    "            with torch.no_grad():\n",
    "                \n",
    "                self.model.eval()\n",
    "                \n",
    "                valid_loss, valid_acc = self.valid_one_epoch()\n",
    "                valid_losses.append(valid_loss)\n",
    "                valid_accuracies.append(valid_acc)\n",
    "                \n",
    "                \n",
    "            print(f\"EPOCH: {epoch+1}\")\n",
    "            print(f\"Train: loss: {train_loss:.3f} accuracy: {train_acc:.3f}\")\n",
    "            print(f\"Validation: loss: {valid_loss:.3f} accuracy: {valid_acc:.3f}\\n\")\n",
    "            \n",
    "            \n",
    "        return (train_losses, train_accuracies), (valid_losses, valid_accuracies)\n",
    "    \n",
    "    \n",
    "    @torch.no_grad()\n",
    "    def predict(self, test_loader):\n",
    "        \n",
    "        self.model.eval()\n",
    "        \n",
    "        predictions = []\n",
    "        \n",
    "        for X in test_loader:\n",
    "            \n",
    "            preds = self.model(X)\n",
    "            pred_labels = torch.argmax(preds, dim=1)\n",
    "            predictions.append(pred_labels)\n",
    "            \n",
    "        return torch.cat(predictions).numpy()\n"
   ]
  },
  {
   "cell_type": "code",
   "execution_count": 18,
   "id": "150ff6e0",
   "metadata": {
    "execution": {
     "iopub.execute_input": "2022-04-13T13:07:30.678397Z",
     "iopub.status.busy": "2022-04-13T13:07:30.677555Z",
     "iopub.status.idle": "2022-04-13T13:08:11.329921Z",
     "shell.execute_reply": "2022-04-13T13:08:11.328786Z",
     "shell.execute_reply.started": "2022-04-13T12:47:41.201641Z"
    },
    "papermill": {
     "duration": 40.693459,
     "end_time": "2022-04-13T13:08:11.330083",
     "exception": false,
     "start_time": "2022-04-13T13:07:30.636624",
     "status": "completed"
    },
    "tags": []
   },
   "outputs": [
    {
     "name": "stdout",
     "output_type": "stream",
     "text": [
      "EPOCH: 1\n",
      "Train: loss: 0.321 accuracy: 0.902\n",
      "Validation: loss: 0.150 accuracy: 0.953\n",
      "\n",
      "EPOCH: 2\n",
      "Train: loss: 0.121 accuracy: 0.963\n",
      "Validation: loss: 0.102 accuracy: 0.968\n",
      "\n",
      "EPOCH: 3\n",
      "Train: loss: 0.077 accuracy: 0.976\n",
      "Validation: loss: 0.119 accuracy: 0.965\n",
      "\n",
      "EPOCH: 4\n",
      "Train: loss: 0.055 accuracy: 0.982\n",
      "Validation: loss: 0.091 accuracy: 0.974\n",
      "\n",
      "EPOCH: 5\n",
      "Train: loss: 0.047 accuracy: 0.985\n",
      "Validation: loss: 0.099 accuracy: 0.972\n",
      "\n"
     ]
    }
   ],
   "source": [
    "trainer = Trainer(model = model,\n",
    "                  dataloaders = (train_dataloader, val_dataloader),\n",
    "                  optimizer = \"Adam\",\n",
    "                  loss_fn = \"CrossEntropyLoss\",\n",
    "                  Config = Config\n",
    "                 )\n",
    "\n",
    "(train_losses, train_accuracies), (valid_losses, valid_accuracies) = trainer.fit()"
   ]
  },
  {
   "cell_type": "markdown",
   "id": "46a0bbcc",
   "metadata": {
    "papermill": {
     "duration": 0.038798,
     "end_time": "2022-04-13T13:08:11.409786",
     "exception": false,
     "start_time": "2022-04-13T13:08:11.370988",
     "status": "completed"
    },
    "tags": []
   },
   "source": [
    "## Plots"
   ]
  },
  {
   "cell_type": "code",
   "execution_count": 19,
   "id": "bcf9ee84",
   "metadata": {
    "execution": {
     "iopub.execute_input": "2022-04-13T13:08:11.502750Z",
     "iopub.status.busy": "2022-04-13T13:08:11.499825Z",
     "iopub.status.idle": "2022-04-13T13:08:11.720952Z",
     "shell.execute_reply": "2022-04-13T13:08:11.721436Z",
     "shell.execute_reply.started": "2022-04-13T12:48:21.255234Z"
    },
    "papermill": {
     "duration": 0.269782,
     "end_time": "2022-04-13T13:08:11.721617",
     "exception": false,
     "start_time": "2022-04-13T13:08:11.451835",
     "status": "completed"
    },
    "tags": []
   },
   "outputs": [
    {
     "data": {
      "text/plain": [
       "[<matplotlib.lines.Line2D at 0x7fcc0c179050>]"
      ]
     },
     "execution_count": 19,
     "metadata": {},
     "output_type": "execute_result"
    },
    {
     "data": {
      "image/png": "[encoded data removed]",
      "text/plain": [
       "<Figure size 432x288 with 1 Axes>"
      ]
     },
     "metadata": {
      "needs_background": "light"
     },
     "output_type": "display_data"
    }
   ],
   "source": [
    "plt.plot(train_losses, color='red')"
   ]
  },
  {
   "cell_type": "code",
   "execution_count": 20,
   "id": "847fd604",
   "metadata": {
    "execution": {
     "iopub.execute_input": "2022-04-13T13:08:11.809633Z",
     "iopub.status.busy": "2022-04-13T13:08:11.807947Z",
     "iopub.status.idle": "2022-04-13T13:08:12.032626Z",
     "shell.execute_reply": "2022-04-13T13:08:12.033130Z",
     "shell.execute_reply.started": "2022-04-13T12:48:24.437004Z"
    },
    "papermill": {
     "duration": 0.269358,
     "end_time": "2022-04-13T13:08:12.033364",
     "exception": false,
     "start_time": "2022-04-13T13:08:11.764006",
     "status": "completed"
    },
    "tags": []
   },
   "outputs": [
    {
     "data": {
      "text/plain": [
       "[<matplotlib.lines.Line2D at 0x7fcc0c215bd0>]"
      ]
     },
     "execution_count": 20,
     "metadata": {},
     "output_type": "execute_result"
    },
    {
     "data": {
      "image/png": "[encoded data removed]",
      "text/plain": [
       "<Figure size 432x288 with 1 Axes>"
      ]
     },
     "metadata": {
      "needs_background": "light"
     },
     "output_type": "display_data"
    }
   ],
   "source": [
    "plt.plot(valid_losses, color='orange')"
   ]
  },
  {
   "cell_type": "code",
   "execution_count": 21,
   "id": "cfea8777",
   "metadata": {
    "execution": {
     "iopub.execute_input": "2022-04-13T13:08:12.144203Z",
     "iopub.status.busy": "2022-04-13T13:08:12.143351Z",
     "iopub.status.idle": "2022-04-13T13:08:12.341078Z",
     "shell.execute_reply": "2022-04-13T13:08:12.340479Z",
     "shell.execute_reply.started": "2022-04-13T12:48:28.512102Z"
    },
    "papermill": {
     "duration": 0.265894,
     "end_time": "2022-04-13T13:08:12.341251",
     "exception": false,
     "start_time": "2022-04-13T13:08:12.075357",
     "status": "completed"
    },
    "tags": []
   },
   "outputs": [
    {
     "data": {
      "text/plain": [
       "[<matplotlib.lines.Line2D at 0x7fcc0c16c910>]"
      ]
     },
     "execution_count": 21,
     "metadata": {},
     "output_type": "execute_result"
    },
    {
     "data": {
      "image/png": "[encoded data removed]",
      "text/plain": [
       "<Figure size 432x288 with 1 Axes>"
      ]
     },
     "metadata": {
      "needs_background": "light"
     },
     "output_type": "display_data"
    }
   ],
   "source": [
    "plt.plot(train_accuracies, color='blue')\n",
    "plt.plot(valid_accuracies, color='green')"
   ]
  },
  {
   "cell_type": "markdown",
   "id": "88c58bde",
   "metadata": {
    "papermill": {
     "duration": 0.043108,
     "end_time": "2022-04-13T13:08:12.428041",
     "exception": false,
     "start_time": "2022-04-13T13:08:12.384933",
     "status": "completed"
    },
    "tags": []
   },
   "source": [
    "# Predictions"
   ]
  },
  {
   "cell_type": "code",
   "execution_count": 22,
   "id": "3470c453",
   "metadata": {
    "execution": {
     "iopub.execute_input": "2022-04-13T13:08:12.521209Z",
     "iopub.status.busy": "2022-04-13T13:08:12.520524Z",
     "iopub.status.idle": "2022-04-13T13:08:13.586057Z",
     "shell.execute_reply": "2022-04-13T13:08:13.586793Z",
     "shell.execute_reply.started": "2022-04-13T12:50:08.614215Z"
    },
    "papermill": {
     "duration": 1.115543,
     "end_time": "2022-04-13T13:08:13.586977",
     "exception": false,
     "start_time": "2022-04-13T13:08:12.471434",
     "status": "completed"
    },
    "tags": []
   },
   "outputs": [],
   "source": [
    "predictions = trainer.predict(test_dataloader)"
   ]
  },
  {
   "cell_type": "code",
   "execution_count": 23,
   "id": "16d2b874",
   "metadata": {
    "execution": {
     "iopub.execute_input": "2022-04-13T13:08:13.679053Z",
     "iopub.status.busy": "2022-04-13T13:08:13.677947Z",
     "iopub.status.idle": "2022-04-13T13:08:13.707343Z",
     "shell.execute_reply": "2022-04-13T13:08:13.706724Z",
     "shell.execute_reply.started": "2022-04-13T12:54:37.265276Z"
    },
    "papermill": {
     "duration": 0.076871,
     "end_time": "2022-04-13T13:08:13.707542",
     "exception": false,
     "start_time": "2022-04-13T13:08:13.630671",
     "status": "completed"
    },
    "tags": []
   },
   "outputs": [
    {
     "data": {
      "text/html": [
       "<div>\n",
       "<style scoped>\n",
       "    .dataframe tbody tr th:only-of-type {\n",
       "        vertical-align: middle;\n",
       "    }\n",
       "\n",
       "    .dataframe tbody tr th {\n",
       "        vertical-align: top;\n",
       "    }\n",
       "\n",
       "    .dataframe thead th {\n",
       "        text-align: right;\n",
       "    }\n",
       "</style>\n",
       "<table border=\"1\" class=\"dataframe\">\n",
       "  <thead>\n",
       "    <tr style=\"text-align: right;\">\n",
       "      <th></th>\n",
       "      <th>ImageId</th>\n",
       "      <th>Label</th>\n",
       "    </tr>\n",
       "  </thead>\n",
       "  <tbody>\n",
       "    <tr>\n",
       "      <th>0</th>\n",
       "      <td>1</td>\n",
       "      <td>2</td>\n",
       "    </tr>\n",
       "    <tr>\n",
       "      <th>1</th>\n",
       "      <td>2</td>\n",
       "      <td>0</td>\n",
       "    </tr>\n",
       "    <tr>\n",
       "      <th>2</th>\n",
       "      <td>3</td>\n",
       "      <td>9</td>\n",
       "    </tr>\n",
       "    <tr>\n",
       "      <th>3</th>\n",
       "      <td>4</td>\n",
       "      <td>9</td>\n",
       "    </tr>\n",
       "    <tr>\n",
       "      <th>4</th>\n",
       "      <td>5</td>\n",
       "      <td>3</td>\n",
       "    </tr>\n",
       "  </tbody>\n",
       "</table>\n",
       "</div>"
      ],
      "text/plain": [
       "   ImageId  Label\n",
       "0        1      2\n",
       "1        2      0\n",
       "2        3      9\n",
       "3        4      9\n",
       "4        5      3"
      ]
     },
     "execution_count": 23,
     "metadata": {},
     "output_type": "execute_result"
    }
   ],
   "source": [
    "submission_df = pd.DataFrame({'ImageId': list(range(1,len(test_df)+1)),\n",
    "                              'Label': predictions\n",
    "                             })\n",
    "\n",
    "submission_df.head()"
   ]
  },
  {
   "cell_type": "code",
   "execution_count": 24,
   "id": "e7883f37",
   "metadata": {
    "execution": {
     "iopub.execute_input": "2022-04-13T13:08:13.803295Z",
     "iopub.status.busy": "2022-04-13T13:08:13.802258Z",
     "iopub.status.idle": "2022-04-13T13:08:13.859427Z",
     "shell.execute_reply": "2022-04-13T13:08:13.858819Z",
     "shell.execute_reply.started": "2022-04-13T12:57:17.809138Z"
    },
    "papermill": {
     "duration": 0.10737,
     "end_time": "2022-04-13T13:08:13.859576",
     "exception": false,
     "start_time": "2022-04-13T13:08:13.752206",
     "status": "completed"
    },
    "tags": []
   },
   "outputs": [],
   "source": [
    "submission_df.to_csv('submission.csv', index=False)"
   ]
  }
 ],
 "metadata": {
  "kernelspec": {
   "display_name": "Python 3",
   "language": "python",
   "name": "python3"
  },
  "language_info": {
   "codemirror_mode": {
    "name": "ipython",
    "version": 3
   },
   "file_extension": ".py",
   "mimetype": "text/x-python",
   "name": "python",
   "nbconvert_exporter": "python",
   "pygments_lexer": "ipython3",
   "version": "3.7.12"
  },
  "papermill": {
   "default_parameters": {},
   "duration": 68.756759,
   "end_time": "2022-04-13T13:08:14.922187",
   "environment_variables": {},
   "exception": null,
   "input_path": "__notebook__.ipynb",
   "output_path": "__notebook__.ipynb",
   "parameters": {},
   "start_time": "2022-04-13T13:07:06.165428",
   "version": "2.3.3"
  }
 },
 "nbformat": 4,
 "nbformat_minor": 5
}
