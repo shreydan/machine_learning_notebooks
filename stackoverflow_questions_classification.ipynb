{
  "cells": [
    {
      "cell_type": "markdown",
      "metadata": {
        "id": "nUyPW3Nq2fOO"
      },
      "source": [
        "https://www.tensorflow.org/tutorials/keras/text_classification\n",
        "\n",
        "https://www.tensorflow.org/text/guide/word_embeddings\n",
        "\n",
        "https://www.tensorflow.org/api_docs/python/tf/keras/utils/get_file\n",
        "\n",
        "https://pynative.com/python-move-files/"
      ]
    },
    {
      "cell_type": "code",
      "execution_count": 1,
      "metadata": {
        "id": "1wGxDEd-0Xg7"
      },
      "outputs": [],
      "source": [
        "import tensorflow as tf\n",
        "import os\n",
        "from tensorflow.keras import layers\n",
        "from tensorflow.keras import losses"
      ]
    },
    {
      "cell_type": "code",
      "execution_count": 2,
      "metadata": {
        "colab": {
          "base_uri": "https://localhost:8080/"
        },
        "id": "q1--gUZQ0nIv",
        "outputId": "fd634f1a-2653-4a5f-807a-468d503cab37"
      },
      "outputs": [
        {
          "output_type": "stream",
          "name": "stdout",
          "text": [
            "Downloading data from https://storage.googleapis.com/download.tensorflow.org/data/stack_overflow_16k.tar.gz\n",
            "6053888/6053168 [==============================] - 0s 0us/step\n",
            "6062080/6053168 [==============================] - 0s 0us/step\n"
          ]
        }
      ],
      "source": [
        "# dataset\n",
        "\n",
        "url = \"https://storage.googleapis.com/download.tensorflow.org/data/stack_overflow_16k.tar.gz\"\n",
        "\n",
        "dataset_dir = os.path.join(os.getcwd(), 'stackoverflow')\n",
        "\n",
        "dataset = tf.keras.utils.get_file(dataset_dir, url,\n",
        "                                    extract=True, cache_dir='.',\n",
        "                                    cache_subdir='')\n",
        "\n"
      ]
    },
    {
      "cell_type": "code",
      "execution_count": 4,
      "metadata": {
        "colab": {
          "base_uri": "https://localhost:8080/"
        },
        "id": "TNdqH16_1gTg",
        "outputId": "4d9b4ecb-4c99-42e3-f5f2-f19d909a3937"
      },
      "outputs": [
        {
          "output_type": "execute_result",
          "data": {
            "text/plain": [
              "['train', 'test']"
            ]
          },
          "metadata": {},
          "execution_count": 4
        }
      ],
      "source": [
        "# had to manually move test and train into stackoverflow folder :|\n",
        "os.listdir(dataset_dir)"
      ]
    },
    {
      "cell_type": "code",
      "execution_count": 5,
      "metadata": {
        "id": "FIXTY_Nv1y1m"
      },
      "outputs": [],
      "source": [
        "train_dir = os.path.join(dataset_dir,'train')\n",
        "test_dir = os.path.join(dataset_dir, 'test')"
      ]
    },
    {
      "cell_type": "code",
      "execution_count": 6,
      "metadata": {
        "id": "iRRKwl223Ioj"
      },
      "outputs": [],
      "source": [
        "class_dirs = os.listdir(train_dir)"
      ]
    },
    {
      "cell_type": "code",
      "execution_count": 8,
      "metadata": {
        "colab": {
          "base_uri": "https://localhost:8080/"
        },
        "id": "6kqkrNdV3WxN",
        "outputId": "61ed8f80-f8c9-4921-94dc-205308f903e4"
      },
      "outputs": [
        {
          "output_type": "stream",
          "name": "stdout",
          "text": [
            "how do i fix this program so i can count the number of letters and how do i count words? how do i fix this program so i can count the number of letters and how do i count words?..import collections as c.text = input('enter text').print(len(text)).a = len(text).counts = c.counter(a).print(counts).spaces = counts(' ').print(specific).print(a-spaces).#i want to count the number of letters so i want the amount of characters - the amount of             .#spaces.\n",
            "\n",
            "\"adding results to objects i have a small function which adds a returned result to a list of objects but the problem i have is if there is a certain duplicate it will not allow it - but there are some aspects where duplication occurs and other aspects which do not.....i'll explain better with example:..var data = {\"\"24\"\":{\"\"16\"\":[\"\"172\"\"],\"\"15\"\":[\"\"160\"\"]}}...this list of data translates to :..var data = {\"\"x\"\":{\"\"y\"\":[\"\"id\"\"],\"\"y\"\":[\"\"id\"\"]}};...now im trying to insert new data like this:..    for(var key in result){              .      if(result.hasownproperty(key)){  .      data[key] = result[key];     .        }.    }...if you consider grid co-ordinates,  in my list of objects, y cannot be duplicated in the same x and x can not be duplicated at all...this is example data of \"\"result\"\" that im trying to insert:..{24: {13:[187]}}...thus turning var data to :..var data = {\"\"24\"\":{\"\"16\"\":[\"\"172\"\"],\"\"15\"\":[\"\"160\"\"],\"\"13\"\":[\"\"187\"\"]}};...does any one know how i can implement a duplication check for my loop ?\"\n",
            "\n",
            "showmodeldialog not supported in chrome window.open()...is not returning the value..like..var retval = window.showmodeldialog();...how to get it for chrome browser ?\n",
            "\n",
            "\"systems of equation program i am trying to make a systems of equations program in blank. i know how to solve the problem on paper, but i'm having a hard time putting it into code. i'm pretty new at this (started programming less than a month ago, and blank a few days ago), so i know this isn't correct but it is the best i could come up with. i tried searching on here and other sites for something to send me in the right direction, but couldn't find anything. i don't want you to write the entire program for me, just maybe a few lines to give me the right idea. here is what i have so far, i realize the errors in it and why it doesn't work, i just can't find out how to fix them. ..            console.writeline(\"\"enter first equation a: \"\");.            string str1a = console.readline();.            console.writeline(\"\"enter first equation b: \"\");.            string str1b = console.readline();.            console.writeline(\"\"enter first equation c: \"\");.            string str1c = console.readline();..            console.writeline(\"\"enter the second equation a: \"\");.            string str2a = console.readline();.            console.writeline(\"\"enter the second equation b: \"\");.            string str2b = console.readline();.            console.writeline(\"\"enter the second equation c: \"\");.            string str2c = console.readline();..            double dbl1a = convert.todouble(str1a);.            double dbl1b = convert.todouble(str1b);.            double dbl1c = convert.todouble(str1c);.            double dbl2a = convert.todouble(str2a);.            double dbl2b = convert.todouble(str2b);.            double dbl2c = convert.todouble(str2c);..            double dbl2an = dbl2a * -1;.            double dbl2bn = dbl2b * -1;.            double dbl2cn = dbl2c * -1;..            double dbl3a = dbl1a + dbl2an;.            double dbl3b = dbl1b + dbl2bn;.            double dbl3c = dbl1c + dbl2cn;..            console.writeline(dbl3a + \"\"+\"\" + dbl3b + \"\"+\"\" + dbl3c);.            console.readline();\"\n",
            "\n",
            "\"uncaught syntaxerror: invalid regular expression: missing forwardslash(/) what is wrong with the code below? i get this error:...  uncaught syntaxerror: invalid regular expression: missing /...$('#element').html($input.val().replace(/([^\\]*\\)*/,''));\"\n",
            "\n"
          ]
        }
      ],
      "source": [
        "import random\n",
        "for i in range(5):\n",
        "    random_dir = os.path.join(train_dir,class_dirs[random.randint(0,3)])\n",
        "    random_file = os.path.join(random_dir, random.choice(os.listdir(random_dir)))\n",
        "    with open(random_file) as f:\n",
        "        print(f.read())"
      ]
    },
    {
      "cell_type": "code",
      "source": [
        "# constants\n",
        "\n",
        "batch_size = 32\n",
        "seed = 1357"
      ],
      "metadata": {
        "id": "d_UWdOusa8CE"
      },
      "execution_count": 9,
      "outputs": []
    },
    {
      "cell_type": "code",
      "source": [
        "raw_train_data = tf.keras.utils.text_dataset_from_directory(\n",
        "    train_dir,\n",
        "    batch_size = batch_size,\n",
        "    validation_split = 0.2,\n",
        "    subset = 'training',\n",
        "    seed = seed\n",
        ")"
      ],
      "metadata": {
        "id": "nXKRv5JrHIUN",
        "colab": {
          "base_uri": "https://localhost:8080/"
        },
        "outputId": "17a46e53-6c87-41cb-c4cb-035ba6cea4f8"
      },
      "execution_count": 10,
      "outputs": [
        {
          "output_type": "stream",
          "name": "stdout",
          "text": [
            "Found 8000 files belonging to 4 classes.\n",
            "Using 6400 files for training.\n"
          ]
        }
      ]
    },
    {
      "cell_type": "code",
      "source": [
        "print(raw_train_data)"
      ],
      "metadata": {
        "colab": {
          "base_uri": "https://localhost:8080/"
        },
        "id": "8zHRiUTAeXC-",
        "outputId": "c539e500-a180-4b17-a9b1-5fd023925584"
      },
      "execution_count": 11,
      "outputs": [
        {
          "output_type": "stream",
          "name": "stdout",
          "text": [
            "<BatchDataset element_spec=(TensorSpec(shape=(None,), dtype=tf.string, name=None), TensorSpec(shape=(None,), dtype=tf.int32, name=None))>\n"
          ]
        }
      ]
    },
    {
      "cell_type": "code",
      "source": [
        "raw_test_data = tf.keras.utils.text_dataset_from_directory(\n",
        "    test_dir, \n",
        "    batch_size=batch_size\n",
        ")"
      ],
      "metadata": {
        "colab": {
          "base_uri": "https://localhost:8080/"
        },
        "id": "A5cyyTWmddMB",
        "outputId": "b98e0c36-f85b-4b37-9277-535de6f67284"
      },
      "execution_count": 12,
      "outputs": [
        {
          "output_type": "stream",
          "name": "stdout",
          "text": [
            "Found 8000 files belonging to 4 classes.\n"
          ]
        }
      ]
    },
    {
      "cell_type": "code",
      "source": [
        "raw_val_data = tf.keras.utils.text_dataset_from_directory(\n",
        "    train_dir, \n",
        "    batch_size=batch_size, \n",
        "    validation_split=0.2, \n",
        "    subset='validation', \n",
        "    seed=seed)\n"
      ],
      "metadata": {
        "colab": {
          "base_uri": "https://localhost:8080/"
        },
        "id": "2OuPFQK6puRt",
        "outputId": "5f973d9b-42d7-4596-d29c-29a196595062"
      },
      "execution_count": 13,
      "outputs": [
        {
          "output_type": "stream",
          "name": "stdout",
          "text": [
            "Found 8000 files belonging to 4 classes.\n",
            "Using 1600 files for validation.\n"
          ]
        }
      ]
    },
    {
      "cell_type": "code",
      "source": [
        "# text preprocessing\n",
        "# I've noticed: punctuations -- skipping since . ; ? : are parts of language syntax\n",
        "# no html elements\n",
        "# text seems already processed ?? \n",
        "# no uppercase visible when I run the random cell multiple times\n",
        "# I want to remove stop words as well --- but im lazy\n",
        "# if you scroll down you'll see the top words are the stop words"
      ],
      "metadata": {
        "id": "SWYYJEl2eokk"
      },
      "execution_count": null,
      "outputs": []
    },
    {
      "cell_type": "markdown",
      "source": [
        "#### time for some theory:\n",
        "\n",
        "**vectorization** is the conversion of words into integers indexed in a fixed-size vocabulary called features [more here...](https://www.tensorflow.org/api_docs/python/tf/keras/layers/TextVectorization)\n",
        "\n",
        "**Word embeddings** give us a way to use an efficient, dense representation in which similar words have a similar encoding. Importantly, you do not have to specify this encoding by hand. An embedding is a dense vector of floating point values (the length of the vector is a parameter you specify). Instead of specifying the values for the embedding manually, they are trainable parameters (weights learned by the model during training, in the same way a model learns weights for a dense layer). It is common to see word embeddings that are 8-dimensional (for small datasets), up to 1024-dimensions when working with large datasets. A higher dimensional embedding can capture fine-grained relationships between words, but takes more data to learn."
      ],
      "metadata": {
        "id": "kwCAcpasmoJW"
      }
    },
    {
      "cell_type": "code",
      "source": [
        "# vectorization layer initialization\n",
        "\n",
        "max_features = 8000\n",
        "sequence_length = 300\n",
        "\n",
        "vectorize_layer = layers.TextVectorization(\n",
        "    max_tokens=max_features,\n",
        "    output_mode='int',\n",
        "    output_sequence_length=sequence_length)\n"
      ],
      "metadata": {
        "id": "bg3GC7eXfjiL"
      },
      "execution_count": 14,
      "outputs": []
    },
    {
      "cell_type": "code",
      "source": [
        "# applying vectorization\n",
        "\n",
        "train_text = raw_train_data.map(lambda x,y: x) # getting text without its labels\n",
        "vectorize_layer.adapt(train_text) # fitting train_text over the vectorization layer"
      ],
      "metadata": {
        "id": "cr39cl2Hih9Y"
      },
      "execution_count": 15,
      "outputs": []
    },
    {
      "cell_type": "code",
      "source": [
        "# exploring vectorized texts:\n",
        "\n",
        "def vectorize_text(text, label):\n",
        "  text = tf.expand_dims(text, -1) # (28,28) --> (1,28,28)\n",
        "  return vectorize_layer(text), label\n",
        "\n",
        "# retrieve a batch (of 32 reviews and labels) from the dataset\n",
        "text_batch, label_batch = next(iter(raw_train_data))\n",
        "first_review, first_label = text_batch[0], label_batch[0]\n",
        "print(\"Review\", first_review)\n",
        "print(\"Label\", raw_train_data.class_names[first_label])\n",
        "print(\"Vectorized review\", vectorize_text(first_review, first_label))\n"
      ],
      "metadata": {
        "colab": {
          "base_uri": "https://localhost:8080/"
        },
        "id": "Z8h3zYfkgx_7",
        "outputId": "932f1b89-3b10-490a-ae61-9211fe9a5b87"
      },
      "execution_count": 16,
      "outputs": [
        {
          "output_type": "stream",
          "name": "stdout",
          "text": [
            "Review tf.Tensor(b'\"reader is not defined [blank] i am computing distance between attributes of different types...in the following code below when i do it for some 5-6 tuples it works fine but when i did it by reading .csv file its creating error...please tell me what is wrong..error:..traceback (most recent call last):.file \"\"bank.py\"\", line 91, in &lt;module&gt;.a, b, c, d, e, f, g, h, i, j, k, l, m, n, o, p, q = [dataitem(z) for z in reader].nameerror: name \\'reader\\' is not defined...i don\\'t know why reader got undefined all of sudden.?..i also did quiet research about the object that we create as a file reader represents in this case \"\"reader\"\". .what/how is this reader represented?..what i know about objects is that like in oop we create it for a method or class and use it to do operation anywhere in scope and in blank its an object that iterates over the file(external)...what is this reader object, is still questionable to me..does it represent the complete file? .can do a loop over the object? to access file elements?....edit1:: i am new to blank....edit2:: i have also updated the indent according to the discussion but cannot run to output.....new errors:..traceback (most recent call last):.file \"\"bank.py\"\", line 116, in &lt;module&gt;.main().file \"\"bank.py\"\", line 93, in main.a, b, c, d, e, f, g, h, i, j, k, l, m, n, o, p, q = [dataitem(z) for z in reader].file \"\"bank.py\"\", line 56, in __init__.self.values = [type_(value) for type_,value in zip(self.types, values)].valueerror: invalid literal for int() with base 10: \\'age;\"\"job\"\";\"\"marital\"\";\"\"education\"\";\"\"default\"\";\"\"balance\"\";\"\"housing\"\";\"\"loan\"\";\"\"contact\"\";\"\"day\"\";\"\"month\"\";\"\"duration\"\";\"\"campaign\"\";\"\"pdays\"\";\"\"previous\"\";\"\"poutcome\"\";\"\"y\"\"\\'...code..import csv..class nominaltype:.    name_values = {}   ...def __init__(self, name):.    self.name = name.    self.value = self.name_values[name]..def __str__(self):.    return self.name..def __sub__(self, other):.    assert type(self) == type(other), \"\"incompatible types, subtraction is undefined\"\".    return self.value - other.value.....def make_nominal_type(name_values):.    try:.        nv = dict(name_values).    except valueerror:.        nv = {item:i for i,item in enumerate(name_values)}.....class mynominaltype(nominaltype):.    name_values = nv.return mynominaltype....job = make_nominal_type([\"\"unemployed\"\", \"\"services\"\", \"\"management\"\", \"\"blue-collar\"\"]).contact = make_nominal_type([\"\"cellular\"\", \"\"unknown\"\"]).month = make_nominal_type([\"\"oct\"\", \"\"may\"\", \"\"apr\"\", \"\"jun\"\"]).outcome = make_nominal_type([\"\"unknown\"\", \"\"faliure\"\"]).y = make_nominal_type([\"\"no\"\", \"\"yes\"\"])....class mixedvectortype:.    types = []          .    distance_fn = none  ..def __init__(self, values):.    self.values = [type_(value) for type_,value in zip(self.types, values)]..def dist(self, other):.    return self.distance_fn([abs(s - o) for s,o in zip(self.values, other.values)])....def make_mixed_vector_type(types, distance_fn):.    tl = list(types).    df = distance_fn..class myvectortype(mixedvectortype):.    types = tl.    distance_fn = df.return myvectortype...def euclidean_dist(_, vector):.    return sum(v*v for v in vector) ** 0.5.....dataitem = make_mixed_vector_type(.[int, job, marital, education, default, int, housing, loan, contact, int, month, int, int, int, int, outcome, y],.euclidean_dist.).....def main():..    with open(\\'bank.csv\\', \\'rb\\') as csvfile:.         reader=csv.reader(csvfile)..         a, b, c, d, e, f, g, h, i, j, k, l, m, n, o, p, q = [dataitem(z) for z in reader]..         print(\"\"a to b, dist = {}\"\".format(a.dist(b))).         print(\"\"b to c, dist = {}\"\".format(b.dist(c))).         print(\"\"c to d, dist = {}\"\".format(c.dist(d))).         print(\"\"d to e, dist = {}\"\".format(d.dist(e))).         print(\"\"e to f, dist = {}\"\".format(e.dist(f))).         print(\"\"f to g, dist = {}\"\".format(f.dist(g))).         print(\"\"g to h, dist = {}\"\".format(g.dist(h))).         print(\"\"h to i, dist = {}\"\".format(h.dist(i))).         print(\"\"i to j, dist = {}\"\".format(i.dist(j))).         print(\"\"j to k, dist = {}\"\".format(j.dist(k))).         print(\"\"k to l, dist = {}\"\".format(k.dist(l))).         print(\"\"l to m, dist = {}\"\".format(l.dist(m))).         print(\"\"m to n, dist = {}\"\".format(m.dist(n))).         print(\"\"n to o, dist = {}\"\".format(n.dist(o))).         print(\"\"o to p, dist = {}\"\".format(o.dist(p))).         print(\"\"p to q, dist = {}\"\".format(p.dist(q))).....if __name__==\"\"__main__\"\":.    main()\"\\n', shape=(), dtype=string)\n",
            "Label python\n",
            "Vectorized review (<tf.Tensor: shape=(1, 300), dtype=int64, numpy=\n",
            "array([[ 824,    6,   22,  471,   16,    3,   34,    1, 1283,  221,  932,\n",
            "           9,  174,    1,    2,  124,   28,  165,   46,    3,   40,   11,\n",
            "          12,   83, 2735, 1735,   11,  186,  314,   26,   46,    3,  392,\n",
            "          11,   77,  447,  526,   39,   98,  362,    1,  428,   74,   53,\n",
            "           6,    1,  329,  661,  150, 3068,    1,   75, 5380,    7,    1,\n",
            "         114,  134,  264,  126,  274,  539,  656,    3,  188,  325,  537,\n",
            "         351,  123,  336,  347,  633,    1,   12,  460,    7,    1,   58,\n",
            "         824,    6,   22,    1,  129,  101,  110,  824,  290,  418,   73,\n",
            "           9,    1,  183,  392,    1, 2772,  203,    2,   63,   14,  172,\n",
            "         127,   36,    5,   39,  824, 1433,    7,   13,  136,  824,    1,\n",
            "           6,   13,  824,    1,    3,  101,  203,  218,    6,   14,   48,\n",
            "           7, 2910,  172,  127,   11,   12,    5,   66,   45,   30,    8,\n",
            "          70,   11,    4,   40,  830, 1730,    7, 1122,    8,    7,   16,\n",
            "          98,   32,   63,   14, 3936,  349,    2,    1,    6,   13,  824,\n",
            "          63,    6,  276,    1,    4,    1,   11, 1492,    2,  732,   39,\n",
            "          35,   40,    5,  128,  349,    2,   63,    4,  242,   39,    1,\n",
            "           3,   34,   15,    4,    1,    3,   17,  183, 1081,    2, 5763,\n",
            "        1332,    4,    2,    1,   26,  202,  140,    4,    1,    1,  329,\n",
            "         661,  150, 3068,    1,   75,    1,    7,    1,    1,   75, 4393,\n",
            "           7,    1,  114,  134,  264,  126,  274,  539,  656,    3,  188,\n",
            "         325,  537,  351,  123,  336,  347,  633,    1,   12,  460,    7,\n",
            "           1,    1,   75, 2735,    7,    1,    1,   12,    1,    7,    1,\n",
            "           1,  448, 1654,   12,   29,   23,  619,  142,    1,    1,    1,\n",
            "           1,  161,  655,   58, 1910,   58, 7373,    1, 3176,   25,    1,\n",
            "           1,  139, 3135,    1,    1, 3254,  580, 4134,    6,  418,   25,\n",
            "        7373,    1,    1,  117,    1,    1,  558, 1556,    1,    1,   12,\n",
            "           1,    7,    1,    1,    1,    1,    1,    1, 2300, 3062,    1,\n",
            "           1,    1,    1]])>, <tf.Tensor: shape=(), dtype=int32, numpy=3>)\n"
          ]
        }
      ]
    },
    {
      "cell_type": "code",
      "source": [
        "# words from the vocabulary\n",
        "\n",
        "print(vectorize_layer.get_vocabulary()[:50])\n",
        "print(\"1357 ---> \",vectorize_layer.get_vocabulary()[1357])\n",
        "print(\"215 ---> \",vectorize_layer.get_vocabulary()[215])\n",
        "print(f'Vocabulary size: {len(vectorize_layer.get_vocabulary())}')\n"
      ],
      "metadata": {
        "colab": {
          "base_uri": "https://localhost:8080/"
        },
        "id": "t_ZB4W6gkw_v",
        "outputId": "81b13b30-35dc-4d55-cb92-abf464482658"
      },
      "execution_count": 17,
      "outputs": [
        {
          "output_type": "stream",
          "name": "stdout",
          "text": [
            "['', '[UNK]', 'the', 'i', 'to', 'a', 'is', 'in', 'and', 'of', 'if', 'it', 'for', 'this', 'that', 'new', 'blank', 'have', 'string', '0', 'my', 'public', 'not', 'with', 'how', 'return', 'but', '1', 'code', 'int', 'class', 'from', 'an', 'be', 'am', 'can', 'as', 'on', 'function', 'file', 'do', 'get', 'void', 'var', 'want', 'or', 'when', 'using', 'like', 'else']\n",
            "1357 --->  asks\n",
            "215 --->  start\n",
            "Vocabulary size: 8000\n"
          ]
        }
      ]
    },
    {
      "cell_type": "markdown",
      "source": [
        "# vectorizing the entire datasets"
      ],
      "metadata": {
        "id": "w1DP93j2paCb"
      }
    },
    {
      "cell_type": "code",
      "source": [
        "train_ds = raw_train_data.map(vectorize_text)\n",
        "val_ds = raw_val_data.map(vectorize_text)\n",
        "test_ds = raw_test_data.map(vectorize_text)"
      ],
      "metadata": {
        "id": "F6k3UEYgpZBu"
      },
      "execution_count": 18,
      "outputs": []
    },
    {
      "cell_type": "markdown",
      "source": [
        "# MODEL\n",
        "\n",
        "- embedding layer\n",
        "- dropout - sets some input texts to 0 to avoid overfitting\n",
        "- global average pooling 1D - The GlobalAveragePooling1D layer returns a fixed-length output vector for each example by averaging over the sequence dimension. This allows the model to handle input of variable length, in the simplest way possible. [read more...](https://www.tensorflow.org/text/guide/word_embeddings#create_a_classification_model)"
      ],
      "metadata": {
        "id": "xj-cJ1LdoPHB"
      }
    },
    {
      "cell_type": "code",
      "source": [
        "embedding_dim = 18"
      ],
      "metadata": {
        "id": "JbdAXkCnoQef"
      },
      "execution_count": 19,
      "outputs": []
    },
    {
      "cell_type": "code",
      "source": [
        "model = tf.keras.Sequential([\n",
        "  layers.Embedding(max_features + 1, embedding_dim), # idk why max_features + 1, alright\n",
        "  layers.Dropout(0.2),\n",
        "  layers.GlobalAveragePooling1D(),\n",
        "  layers.Dropout(0.1),\n",
        "  layers.Dense(4)])\n",
        "\n",
        "model.summary()"
      ],
      "metadata": {
        "colab": {
          "base_uri": "https://localhost:8080/"
        },
        "id": "9FMwmvEMoWCr",
        "outputId": "4a7225f0-4f25-4be6-c741-e9e58328cd0b"
      },
      "execution_count": 20,
      "outputs": [
        {
          "output_type": "stream",
          "name": "stdout",
          "text": [
            "Model: \"sequential\"\n",
            "_________________________________________________________________\n",
            " Layer (type)                Output Shape              Param #   \n",
            "=================================================================\n",
            " embedding (Embedding)       (None, None, 18)          144018    \n",
            "                                                                 \n",
            " dropout (Dropout)           (None, None, 18)          0         \n",
            "                                                                 \n",
            " global_average_pooling1d (G  (None, 18)               0         \n",
            " lobalAveragePooling1D)                                          \n",
            "                                                                 \n",
            " dropout_1 (Dropout)         (None, 18)                0         \n",
            "                                                                 \n",
            " dense (Dense)               (None, 4)                 76        \n",
            "                                                                 \n",
            "=================================================================\n",
            "Total params: 144,094\n",
            "Trainable params: 144,094\n",
            "Non-trainable params: 0\n",
            "_________________________________________________________________\n"
          ]
        }
      ]
    },
    {
      "cell_type": "code",
      "source": [
        "model.compile(optimizer='adam',\n",
        "              loss=tf.keras.losses.SparseCategoricalCrossentropy(from_logits=True),\n",
        "              metrics=['accuracy'])"
      ],
      "metadata": {
        "id": "W_4M48IRpI8W"
      },
      "execution_count": 22,
      "outputs": []
    },
    {
      "cell_type": "code",
      "source": [
        "# training time!\n",
        "\n",
        "epochs = 10\n",
        "history = model.fit(\n",
        "    train_ds,\n",
        "    validation_data=val_ds,\n",
        "    epochs=epochs)"
      ],
      "metadata": {
        "id": "15ZueKx6p2Dp",
        "colab": {
          "base_uri": "https://localhost:8080/"
        },
        "outputId": "7f9801dd-05da-46ff-a0d9-28d9420682a2"
      },
      "execution_count": 23,
      "outputs": [
        {
          "output_type": "stream",
          "name": "stdout",
          "text": [
            "Epoch 1/10\n",
            "200/200 [==============================] - 5s 19ms/step - loss: 1.3779 - accuracy: 0.3572 - val_loss: 1.3657 - val_accuracy: 0.4013\n",
            "Epoch 2/10\n",
            "200/200 [==============================] - 4s 17ms/step - loss: 1.3464 - accuracy: 0.4378 - val_loss: 1.3239 - val_accuracy: 0.4650\n",
            "Epoch 3/10\n",
            "200/200 [==============================] - 4s 19ms/step - loss: 1.2899 - accuracy: 0.5256 - val_loss: 1.2619 - val_accuracy: 0.5081\n",
            "Epoch 4/10\n",
            "200/200 [==============================] - 4s 19ms/step - loss: 1.2163 - accuracy: 0.5895 - val_loss: 1.1898 - val_accuracy: 0.5644\n",
            "Epoch 5/10\n",
            "200/200 [==============================] - 4s 18ms/step - loss: 1.1351 - accuracy: 0.6353 - val_loss: 1.1191 - val_accuracy: 0.6156\n",
            "Epoch 6/10\n",
            "200/200 [==============================] - 4s 17ms/step - loss: 1.0576 - accuracy: 0.6841 - val_loss: 1.0532 - val_accuracy: 0.6725\n",
            "Epoch 7/10\n",
            "200/200 [==============================] - 4s 18ms/step - loss: 0.9865 - accuracy: 0.7194 - val_loss: 0.9947 - val_accuracy: 0.6956\n",
            "Epoch 8/10\n",
            "200/200 [==============================] - 4s 20ms/step - loss: 0.9220 - accuracy: 0.7458 - val_loss: 0.9436 - val_accuracy: 0.7113\n",
            "Epoch 9/10\n",
            "200/200 [==============================] - 4s 19ms/step - loss: 0.8647 - accuracy: 0.7623 - val_loss: 0.8983 - val_accuracy: 0.7244\n",
            "Epoch 10/10\n",
            "200/200 [==============================] - 4s 19ms/step - loss: 0.8156 - accuracy: 0.7742 - val_loss: 0.8602 - val_accuracy: 0.7306\n"
          ]
        }
      ]
    },
    {
      "cell_type": "markdown",
      "source": [
        "### Model evaluation"
      ],
      "metadata": {
        "id": "rgKkLtVuB_dU"
      }
    },
    {
      "cell_type": "code",
      "source": [
        "loss, accuracy = model.evaluate(test_ds)\n",
        "\n",
        "print(\"Loss: \", loss)\n",
        "print(\"Test Accuracy: \", accuracy)\n"
      ],
      "metadata": {
        "colab": {
          "base_uri": "https://localhost:8080/"
        },
        "id": "NI0pobQDB9dx",
        "outputId": "fe6e7670-cf29-48dd-e506-c8de3809a199"
      },
      "execution_count": 25,
      "outputs": [
        {
          "output_type": "stream",
          "name": "stdout",
          "text": [
            "250/250 [==============================] - 3s 10ms/step - loss: 0.8546 - accuracy: 0.7350\n",
            "Loss:  0.8545997142791748\n",
            "Test Accuracy:  0.7350000143051147\n"
          ]
        }
      ]
    },
    {
      "cell_type": "code",
      "source": [
        "loss, accuracy = model.evaluate(val_ds)\n",
        "\n",
        "print(\"Loss: \", loss)\n",
        "print(\"Validation Accuracy: \", accuracy)\n"
      ],
      "metadata": {
        "colab": {
          "base_uri": "https://localhost:8080/"
        },
        "id": "MUiBqRNHDHvY",
        "outputId": "af4046e8-6258-43d1-8f48-a1f475365c12"
      },
      "execution_count": 26,
      "outputs": [
        {
          "output_type": "stream",
          "name": "stdout",
          "text": [
            "50/50 [==============================] - 1s 9ms/step - loss: 0.8603 - accuracy: 0.7306\n",
            "Loss:  0.8602501153945923\n",
            "Validation Accuracy:  0.7306249737739563\n"
          ]
        }
      ]
    },
    {
      "cell_type": "markdown",
      "source": [
        "## Plots"
      ],
      "metadata": {
        "id": "dPx6Q0M2DWC0"
      }
    },
    {
      "cell_type": "code",
      "source": [
        "import matplotlib.pyplot as plt\n",
        "\n",
        "history_dict = history.history\n",
        "history_dict.keys()\n",
        "\n",
        "\n",
        "acc = history_dict['accuracy']\n",
        "val_acc = history_dict['val_accuracy']\n",
        "loss = history_dict['loss']\n",
        "val_loss = history_dict['val_loss']\n",
        "\n",
        "epochs = range(1, len(acc) + 1)\n",
        "\n",
        "# \"bo\" is for \"blue dot\"\n",
        "plt.plot(epochs, loss, 'bo', label='Training loss')\n",
        "# b is for \"solid blue line\"\n",
        "plt.plot(epochs, val_loss, 'b', label='Validation loss')\n",
        "plt.title('Training and validation loss')\n",
        "plt.xlabel('Epochs')\n",
        "plt.ylabel('Loss')\n",
        "plt.legend()\n",
        "\n",
        "plt.show()\n"
      ],
      "metadata": {
        "colab": {
          "base_uri": "https://localhost:8080/",
          "height": 295
        },
        "id": "UZyR3jTfG6CW",
        "outputId": "01f8bd01-49a7-4bc9-a8c0-730822d67ca5"
      },
      "execution_count": 28,
      "outputs": [
        {
          "output_type": "display_data",
          "data": {
            "text/plain": [
              "<Figure size 432x288 with 1 Axes>"
            ],
            "image/png": "[encoded data removed]"
          },
          "metadata": {
            "needs_background": "light"
          }
        }
      ]
    },
    {
      "cell_type": "code",
      "source": [
        "plt.plot(epochs, acc, 'bo', label='Training acc')\n",
        "plt.plot(epochs, val_acc, 'b', label='Validation acc')\n",
        "plt.title('Training and validation accuracy')\n",
        "plt.xlabel('Epochs')\n",
        "plt.ylabel('Accuracy')\n",
        "plt.legend(loc='lower right')\n",
        "\n",
        "plt.show()"
      ],
      "metadata": {
        "colab": {
          "base_uri": "https://localhost:8080/",
          "height": 295
        },
        "id": "ZsdSDBOtHPPr",
        "outputId": "618ea49e-bdca-4c07-ce78-ade2fcde869b"
      },
      "execution_count": 29,
      "outputs": [
        {
          "output_type": "display_data",
          "data": {
            "text/plain": [
              "<Figure size 432x288 with 1 Axes>"
            ],
            "image/png": "[encoded data removed]"
          },
          "metadata": {
            "needs_background": "light"
          }
        }
      ]
    },
    {
      "cell_type": "markdown",
      "source": [
        "## Export Model"
      ],
      "metadata": {
        "id": "LkkbHTFxHotA"
      }
    },
    {
      "cell_type": "code",
      "source": [
        "export_model = tf.keras.Sequential([\n",
        "  vectorize_layer,\n",
        "  model,\n",
        "  layers.Activation('sigmoid')\n",
        "])\n",
        "\n",
        "export_model.compile(\n",
        "    loss=losses.SparseCategoricalCrossentropy(from_logits=False), optimizer=\"adam\", metrics=['accuracy']\n",
        ")\n",
        "\n",
        "# Test it with `raw_test_ds`, which yields raw strings\n",
        "loss, accuracy = export_model.evaluate(raw_test_data)\n",
        "print(accuracy)\n"
      ],
      "metadata": {
        "colab": {
          "base_uri": "https://localhost:8080/"
        },
        "id": "CRpZb3hLHXMc",
        "outputId": "10eccd93-7e3a-410f-9df7-a1521793f5ee"
      },
      "execution_count": 30,
      "outputs": [
        {
          "output_type": "stream",
          "name": "stdout",
          "text": [
            "250/250 [==============================] - 3s 12ms/step - loss: 0.8546 - accuracy: 0.7350\n",
            "0.7350000143051147\n"
          ]
        }
      ]
    },
    {
      "cell_type": "code",
      "source": [
        "# prediction\n",
        "\n",
        "# labels\n",
        "# C#: 0\n",
        "# Java: 1\n",
        "# Javascript: 2\n",
        "# Python: 3\n",
        "\n",
        "\n",
        "examples = [\n",
        "    \"calling arbitrary function with blank 'apply' i want to pass a varying number of argument to varying functions. i set up this basic test:..function overview(arg1, arg2, arg3) {.    console.info('arg1 is ' + arg1);.    console.info('arg2 is ' + arg2);.    console.info('arg3 is ' + arg3);.}..function modules(method, args) {.    this[method].apply(null, args);.}..modules('overview', new array('test1', 'test2'));​...so, i use 'apply' to pass an array with arguments via the 'modules' function to the 'overview' function. this works fine, except for the this[method] part. i read about this in this q&amp;a: calling dynamic function with dynamic parameters in blank and it seems marvelous. however, i keep getting 'typeerror' errors and i can't figure out how to resolve this.  ..of course, i could use a switch within the modules function to call the correct method, but that is unnecessary bulk (hopefully!). i've made a jsfiddle to 'fiddle' with: http://jsfiddle.net/qfprc/. hope anyone can solve and/or explain this.\"\n",
        "] # javascript\n",
        "\n",
        "predictions = export_model.predict(examples)\n",
        "print(predictions)\n",
        "print(tf.argmax(predictions, axis=1))\n",
        "# should return 2 -- javascript"
      ],
      "metadata": {
        "colab": {
          "base_uri": "https://localhost:8080/"
        },
        "id": "Ew-efdhRHnBt",
        "outputId": "80f710c4-e329-49e1-8ef7-1217bd878bf7"
      },
      "execution_count": 40,
      "outputs": [
        {
          "output_type": "stream",
          "name": "stdout",
          "text": [
            "[[0.3279581  0.20556653 0.8195944  0.676149  ]]\n",
            "tf.Tensor([2], shape=(1,), dtype=int64)\n"
          ]
        }
      ]
    }
  ],
  "metadata": {
    "colab": {
      "collapsed_sections": [],
      "name": "stackoverflow_questions_classification.ipynb",
      "provenance": [],
      "authorship_tag": "ABX9TyNz5EOPx0hOLuDUMhUSHNR/"
    },
    "kernelspec": {
      "display_name": "Python 3",
      "name": "python3"
    },
    "language_info": {
      "name": "python"
    }
  },
  "nbformat": 4,
  "nbformat_minor": 0
}