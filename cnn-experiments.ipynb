{
 "cells": [
  {
   "cell_type": "code",
   "execution_count": 1,
   "id": "b737ed8d",
   "metadata": {
    "execution": {
     "iopub.execute_input": "2022-07-06T07:29:27.140945Z",
     "iopub.status.busy": "2022-07-06T07:29:27.140217Z",
     "iopub.status.idle": "2022-07-06T07:29:34.411494Z",
     "shell.execute_reply": "2022-07-06T07:29:34.409982Z"
    },
    "papermill": {
     "duration": 7.288485,
     "end_time": "2022-07-06T07:29:34.414936",
     "exception": false,
     "start_time": "2022-07-06T07:29:27.126451",
     "status": "completed"
    },
    "tags": []
   },
   "outputs": [],
   "source": [
    "from tensorflow import keras\n",
    "from tensorflow.keras.layers import Conv2D, MaxPooling2D, Flatten, Dense, Dropout, Rescaling\n",
    "from tensorflow.keras import layers\n",
    "from tensorflow.keras.models import Sequential"
   ]
  },
  {
   "cell_type": "code",
   "execution_count": 2,
   "id": "f84f8175",
   "metadata": {
    "execution": {
     "iopub.execute_input": "2022-07-06T07:29:34.443063Z",
     "iopub.status.busy": "2022-07-06T07:29:34.441432Z",
     "iopub.status.idle": "2022-07-06T07:29:34.449643Z",
     "shell.execute_reply": "2022-07-06T07:29:34.448241Z"
    },
    "papermill": {
     "duration": 0.027413,
     "end_time": "2022-07-06T07:29:34.453172",
     "exception": false,
     "start_time": "2022-07-06T07:29:34.425759",
     "status": "completed"
    },
    "tags": []
   },
   "outputs": [],
   "source": [
    "dataset_path = '../input/felidae-tiger-lion-cheetah-leopard-puma/Felidae'"
   ]
  },
  {
   "cell_type": "code",
   "execution_count": 3,
   "id": "9d5b8992",
   "metadata": {
    "execution": {
     "iopub.execute_input": "2022-07-06T07:29:34.473340Z",
     "iopub.status.busy": "2022-07-06T07:29:34.472978Z",
     "iopub.status.idle": "2022-07-06T07:29:34.478412Z",
     "shell.execute_reply": "2022-07-06T07:29:34.477304Z"
    },
    "papermill": {
     "duration": 0.017818,
     "end_time": "2022-07-06T07:29:34.480570",
     "exception": false,
     "start_time": "2022-07-06T07:29:34.462752",
     "status": "completed"
    },
    "tags": []
   },
   "outputs": [],
   "source": [
    "from pathlib import Path\n",
    "from collections import Counter\n",
    "\n",
    "dataset_path = Path(dataset_path)"
   ]
  },
  {
   "cell_type": "code",
   "execution_count": 4,
   "id": "acce6f58",
   "metadata": {
    "execution": {
     "iopub.execute_input": "2022-07-06T07:29:34.505151Z",
     "iopub.status.busy": "2022-07-06T07:29:34.504196Z",
     "iopub.status.idle": "2022-07-06T07:29:34.567294Z",
     "shell.execute_reply": "2022-07-06T07:29:34.566180Z"
    },
    "papermill": {
     "duration": 0.079132,
     "end_time": "2022-07-06T07:29:34.570934",
     "exception": false,
     "start_time": "2022-07-06T07:29:34.491802",
     "status": "completed"
    },
    "tags": []
   },
   "outputs": [
    {
     "data": {
      "text/plain": [
       "({'Cheetah': 56, 'Lion': 49, 'Tiger': 48, 'Puma': 40, 'Leopard': 50},\n",
       " {'.jpg': 243})"
      ]
     },
     "execution_count": 4,
     "metadata": {},
     "output_type": "execute_result"
    }
   ],
   "source": [
    "paths = list(dataset_path.glob('*/*'))\n",
    "classes = dict(Counter([path.parent.stem for path in paths]))\n",
    "extensions = dict(Counter([path.suffix for path in paths]))\n",
    "classes, extensions"
   ]
  },
  {
   "cell_type": "code",
   "execution_count": 5,
   "id": "2195ce05",
   "metadata": {
    "execution": {
     "iopub.execute_input": "2022-07-06T07:29:34.592701Z",
     "iopub.status.busy": "2022-07-06T07:29:34.592244Z",
     "iopub.status.idle": "2022-07-06T07:29:36.571204Z",
     "shell.execute_reply": "2022-07-06T07:29:36.570264Z"
    },
    "papermill": {
     "duration": 1.993538,
     "end_time": "2022-07-06T07:29:36.573439",
     "exception": false,
     "start_time": "2022-07-06T07:29:34.579901",
     "status": "completed"
    },
    "tags": []
   },
   "outputs": [
    {
     "data": {
      "text/plain": [
       "Counter({'JPEG': 180, 'WEBP': 61, 'PNG': 2})"
      ]
     },
     "execution_count": 5,
     "metadata": {},
     "output_type": "execute_result"
    }
   ],
   "source": [
    "# check dataset for non-jpg even though they have .jpg extension files:\n",
    "from PIL import Image\n",
    "\n",
    "formats = []\n",
    "for path in paths:\n",
    "    im = Image.open(path)\n",
    "    formats.append(im.format)\n",
    "    im.close()\n",
    "    \n",
    "Counter(formats)"
   ]
  },
  {
   "cell_type": "code",
   "execution_count": 6,
   "id": "ccae06b6",
   "metadata": {
    "execution": {
     "iopub.execute_input": "2022-07-06T07:29:36.596676Z",
     "iopub.status.busy": "2022-07-06T07:29:36.595500Z",
     "iopub.status.idle": "2022-07-06T07:29:36.606849Z",
     "shell.execute_reply": "2022-07-06T07:29:36.602942Z"
    },
    "papermill": {
     "duration": 0.026945,
     "end_time": "2022-07-06T07:29:36.609981",
     "exception": false,
     "start_time": "2022-07-06T07:29:36.583036",
     "status": "completed"
    },
    "tags": []
   },
   "outputs": [],
   "source": [
    "# tensorflow cannot handle webp images\n",
    "# converting webp and png to jpg\n",
    "\n",
    "new_ds_path = Path('./NewDataset')\n",
    "new_ds_path.mkdir(parents=True, exist_ok=True)\n",
    "for c in classes:\n",
    "    class_path = new_ds_path / c\n",
    "    class_path.mkdir(parents=True, exist_ok=True)"
   ]
  },
  {
   "cell_type": "code",
   "execution_count": 7,
   "id": "215b775a",
   "metadata": {
    "execution": {
     "iopub.execute_input": "2022-07-06T07:29:36.636921Z",
     "iopub.status.busy": "2022-07-06T07:29:36.636063Z",
     "iopub.status.idle": "2022-07-06T07:29:37.565916Z",
     "shell.execute_reply": "2022-07-06T07:29:37.562420Z"
    },
    "papermill": {
     "duration": 0.947871,
     "end_time": "2022-07-06T07:29:37.570302",
     "exception": false,
     "start_time": "2022-07-06T07:29:36.622431",
     "status": "completed"
    },
    "tags": []
   },
   "outputs": [
    {
     "name": "stdout",
     "output_type": "stream",
     "text": [
      "\u001b[01;34m.\u001b[00m\r\n",
      "├── \u001b[01;34mNewDataset\u001b[00m\r\n",
      "│   ├── \u001b[01;34mCheetah\u001b[00m\r\n",
      "│   ├── \u001b[01;34mLeopard\u001b[00m\r\n",
      "│   ├── \u001b[01;34mLion\u001b[00m\r\n",
      "│   ├── \u001b[01;34mPuma\u001b[00m\r\n",
      "│   └── \u001b[01;34mTiger\u001b[00m\r\n",
      "└── __notebook__.ipynb\r\n",
      "\r\n",
      "6 directories, 1 file\r\n"
     ]
    }
   ],
   "source": [
    "!tree"
   ]
  },
  {
   "cell_type": "code",
   "execution_count": 8,
   "id": "3147cada",
   "metadata": {
    "execution": {
     "iopub.execute_input": "2022-07-06T07:29:37.596504Z",
     "iopub.status.busy": "2022-07-06T07:29:37.595182Z",
     "iopub.status.idle": "2022-07-06T07:30:03.775344Z",
     "shell.execute_reply": "2022-07-06T07:30:03.774389Z"
    },
    "papermill": {
     "duration": 26.197507,
     "end_time": "2022-07-06T07:30:03.778004",
     "exception": false,
     "start_time": "2022-07-06T07:29:37.580497",
     "status": "completed"
    },
    "tags": []
   },
   "outputs": [],
   "source": [
    "for path in paths:\n",
    "    im = Image.open(path)\n",
    "    im = im.convert(mode='RGB')\n",
    "    class_name = path.parent.stem\n",
    "    file_name = path.stem\n",
    "    fp = new_ds_path.joinpath(class_name).joinpath(file_name)\n",
    "    fp = fp.parent / (fp.name + '.jpg')\n",
    "#     print(fp)\n",
    "    im.save(fp, format='JPEG')"
   ]
  },
  {
   "cell_type": "code",
   "execution_count": 9,
   "id": "4c36e15e",
   "metadata": {
    "execution": {
     "iopub.execute_input": "2022-07-06T07:30:03.812089Z",
     "iopub.status.busy": "2022-07-06T07:30:03.811505Z",
     "iopub.status.idle": "2022-07-06T07:30:03.817722Z",
     "shell.execute_reply": "2022-07-06T07:30:03.816412Z"
    },
    "papermill": {
     "duration": 0.028687,
     "end_time": "2022-07-06T07:30:03.820605",
     "exception": false,
     "start_time": "2022-07-06T07:30:03.791918",
     "status": "completed"
    },
    "tags": []
   },
   "outputs": [],
   "source": [
    "class Config:\n",
    "    batch_size = 16\n",
    "    img_dim = (224,224)\n",
    "    epochs = 20"
   ]
  },
  {
   "cell_type": "code",
   "execution_count": 10,
   "id": "89e099ee",
   "metadata": {
    "execution": {
     "iopub.execute_input": "2022-07-06T07:30:03.842995Z",
     "iopub.status.busy": "2022-07-06T07:30:03.842640Z",
     "iopub.status.idle": "2022-07-06T07:30:03.847096Z",
     "shell.execute_reply": "2022-07-06T07:30:03.846058Z"
    },
    "papermill": {
     "duration": 0.017278,
     "end_time": "2022-07-06T07:30:03.849191",
     "exception": false,
     "start_time": "2022-07-06T07:30:03.831913",
     "status": "completed"
    },
    "tags": []
   },
   "outputs": [],
   "source": [
    "dataset_path = Path('./NewDataset')"
   ]
  },
  {
   "cell_type": "code",
   "execution_count": 11,
   "id": "93d2dcb5",
   "metadata": {
    "execution": {
     "iopub.execute_input": "2022-07-06T07:30:03.868138Z",
     "iopub.status.busy": "2022-07-06T07:30:03.867822Z",
     "iopub.status.idle": "2022-07-06T07:30:07.618378Z",
     "shell.execute_reply": "2022-07-06T07:30:07.616846Z"
    },
    "papermill": {
     "duration": 3.765141,
     "end_time": "2022-07-06T07:30:07.623111",
     "exception": false,
     "start_time": "2022-07-06T07:30:03.857970",
     "status": "completed"
    },
    "tags": []
   },
   "outputs": [
    {
     "name": "stdout",
     "output_type": "stream",
     "text": [
      "Found 243 files belonging to 5 classes.\n",
      "Using 195 files for training.\n"
     ]
    },
    {
     "name": "stderr",
     "output_type": "stream",
     "text": [
      "2022-07-06 07:30:04.055735: I tensorflow/stream_executor/cuda/cuda_gpu_executor.cc:937] successful NUMA node read from SysFS had negative value (-1), but there must be at least one NUMA node, so returning NUMA node zero\n",
      "2022-07-06 07:30:04.203464: I tensorflow/stream_executor/cuda/cuda_gpu_executor.cc:937] successful NUMA node read from SysFS had negative value (-1), but there must be at least one NUMA node, so returning NUMA node zero\n",
      "2022-07-06 07:30:04.204467: I tensorflow/stream_executor/cuda/cuda_gpu_executor.cc:937] successful NUMA node read from SysFS had negative value (-1), but there must be at least one NUMA node, so returning NUMA node zero\n",
      "2022-07-06 07:30:04.207814: I tensorflow/core/platform/cpu_feature_guard.cc:142] This TensorFlow binary is optimized with oneAPI Deep Neural Network Library (oneDNN) to use the following CPU instructions in performance-critical operations:  AVX2 AVX512F FMA\n",
      "To enable them in other operations, rebuild TensorFlow with the appropriate compiler flags.\n",
      "2022-07-06 07:30:04.208466: I tensorflow/stream_executor/cuda/cuda_gpu_executor.cc:937] successful NUMA node read from SysFS had negative value (-1), but there must be at least one NUMA node, so returning NUMA "
     ]
    },
    {
     "name": "stdout",
     "output_type": "stream",
     "text": [
      "Found 243 files belonging to 5 classes.\n",
      "Using 48 files for validation.\n"
     ]
    },
    {
     "name": "stderr",
     "output_type": "stream",
     "text": [
      "node zero\n",
      "2022-07-06 07:30:04.210819: I tensorflow/stream_executor/cuda/cuda_gpu_executor.cc:937] successful NUMA node read from SysFS had negative value (-1), but there must be at least one NUMA node, so returning NUMA node zero\n",
      "2022-07-06 07:30:04.211927: I tensorflow/stream_executor/cuda/cuda_gpu_executor.cc:937] successful NUMA node read from SysFS had negative value (-1), but there must be at least one NUMA node, so returning NUMA node zero\n",
      "2022-07-06 07:30:07.058064: I tensorflow/stream_executor/cuda/cuda_gpu_executor.cc:937] successful NUMA node read from SysFS had negative value (-1), but there must be at least one NUMA node, so returning NUMA node zero\n",
      "2022-07-06 07:30:07.058994: I tensorflow/stream_executor/cuda/cuda_gpu_executor.cc:937] successful NUMA node read from SysFS had negative value (-1), but there must be at least one NUMA node, so returning NUMA node zero\n",
      "2022-07-06 07:30:07.059746: I tensorflow/stream_executor/cuda/cuda_gpu_executor.cc:937] successful NUMA node read from SysFS had negative value (-1), but there must be at least one NUMA node, so returning NUMA node zero\n",
      "2022-07-06 07:30:07.060408: I tensorflow/core/common_runtime/gpu/gpu_device.cc:1510] Created device /job:localhost/replica:0/task:0/device:GPU:0 with 15403 MB memory:  -> device: 0, name: Tesla P100-PCIE-16GB, pci bus id: 0000:00:04.0, compute capability: 6.0\n"
     ]
    }
   ],
   "source": [
    "train_ds = keras.utils.image_dataset_from_directory(dataset_path,\n",
    "                                                    subset = 'training',\n",
    "                                                    validation_split = 0.2,\n",
    "                                                    image_size = Config.img_dim,\n",
    "                                                    batch_size = Config.batch_size,\n",
    "                                                    seed=1\n",
    "                                                   )\n",
    "\n",
    "val_ds = keras.utils.image_dataset_from_directory(dataset_path,\n",
    "                                                  subset = 'validation',\n",
    "                                                  validation_split = 0.2,\n",
    "                                                  image_size = Config.img_dim, \n",
    "                                                  batch_size = Config.batch_size,\n",
    "                                                  seed=1\n",
    "                                                 )"
   ]
  },
  {
   "cell_type": "code",
   "execution_count": 12,
   "id": "cbaaa03a",
   "metadata": {
    "execution": {
     "iopub.execute_input": "2022-07-06T07:30:07.651840Z",
     "iopub.status.busy": "2022-07-06T07:30:07.651457Z",
     "iopub.status.idle": "2022-07-06T07:30:08.065698Z",
     "shell.execute_reply": "2022-07-06T07:30:08.064660Z"
    },
    "papermill": {
     "duration": 0.431567,
     "end_time": "2022-07-06T07:30:08.068503",
     "exception": false,
     "start_time": "2022-07-06T07:30:07.636936",
     "status": "completed"
    },
    "tags": []
   },
   "outputs": [],
   "source": [
    "data_augmentation = keras.Sequential(\n",
    "  [\n",
    "    layers.RandomFlip(\"horizontal\", input_shape=(*Config.img_dim, 3)),\n",
    "    layers.RandomContrast(0.2),\n",
    "    layers.RandomRotation(0.2),\n",
    "    layers.RandomZoom(0.3)\n",
    "  ]\n",
    ")\n"
   ]
  },
  {
   "cell_type": "markdown",
   "id": "fbb99839",
   "metadata": {
    "papermill": {
     "duration": 0.009875,
     "end_time": "2022-07-06T07:30:08.087452",
     "exception": false,
     "start_time": "2022-07-06T07:30:08.077577",
     "status": "completed"
    },
    "tags": []
   },
   "source": [
    "my usual design for CNNs"
   ]
  },
  {
   "cell_type": "code",
   "execution_count": 13,
   "id": "3a7c101c",
   "metadata": {
    "execution": {
     "iopub.execute_input": "2022-07-06T07:30:08.113386Z",
     "iopub.status.busy": "2022-07-06T07:30:08.111557Z",
     "iopub.status.idle": "2022-07-06T07:30:08.383722Z",
     "shell.execute_reply": "2022-07-06T07:30:08.382575Z"
    },
    "papermill": {
     "duration": 0.287994,
     "end_time": "2022-07-06T07:30:08.386810",
     "exception": false,
     "start_time": "2022-07-06T07:30:08.098816",
     "status": "completed"
    },
    "tags": []
   },
   "outputs": [],
   "source": [
    "model1 = Sequential([\n",
    "    data_augmentation,\n",
    "    Rescaling(1./255),\n",
    "    Conv2D(16, 5, activation='relu'),\n",
    "    MaxPooling2D(),\n",
    "    Conv2D(64, 3, activation='relu'),\n",
    "    MaxPooling2D(),\n",
    "    Conv2D(256, 3, activation='relu'),\n",
    "    MaxPooling2D(),\n",
    "    Dropout(0.2),\n",
    "    Flatten(),\n",
    "    Dense(256, activation='relu'),\n",
    "    Dense(128, activation='relu'),\n",
    "    Dense(32, activation='relu'),\n",
    "    Dropout(0.3),\n",
    "    Dense(5)\n",
    "])"
   ]
  },
  {
   "cell_type": "code",
   "execution_count": 14,
   "id": "ef992b6e",
   "metadata": {
    "execution": {
     "iopub.execute_input": "2022-07-06T07:30:08.411989Z",
     "iopub.status.busy": "2022-07-06T07:30:08.410776Z",
     "iopub.status.idle": "2022-07-06T07:30:08.421568Z",
     "shell.execute_reply": "2022-07-06T07:30:08.420135Z"
    },
    "papermill": {
     "duration": 0.030013,
     "end_time": "2022-07-06T07:30:08.428298",
     "exception": false,
     "start_time": "2022-07-06T07:30:08.398285",
     "status": "completed"
    },
    "tags": []
   },
   "outputs": [
    {
     "name": "stdout",
     "output_type": "stream",
     "text": [
      "Model: \"sequential_1\"\n",
      "_________________________________________________________________\n",
      "Layer (type)                 Output Shape              Param #   \n",
      "=================================================================\n",
      "sequential (Sequential)      (None, 224, 224, 3)       0         \n",
      "_________________________________________________________________\n",
      "rescaling (Rescaling)        (None, 224, 224, 3)       0         \n",
      "_________________________________________________________________\n",
      "conv2d (Conv2D)              (None, 220, 220, 16)      1216      \n",
      "_________________________________________________________________\n",
      "max_pooling2d (MaxPooling2D) (None, 110, 110, 16)      0         \n",
      "_________________________________________________________________\n",
      "conv2d_1 (Conv2D)            (None, 108, 108, 64)      9280      \n",
      "_________________________________________________________________\n",
      "max_pooling2d_1 (MaxPooling2 (None, 54, 54, 64)        0         \n",
      "_________________________________________________________________\n",
      "conv2d_2 (Conv2D)            (None, 52, 52, 256)       147712    \n",
      "_________________________________________________________________\n",
      "max_pooling2d_2 (MaxPooling2 (None, 26, 26, 256)       0         \n",
      "_________________________________________________________________\n",
      "dropout (Dropout)            (None, 26, 26, 256)       0         \n",
      "_________________________________________________________________\n",
      "flatten (Flatten)            (None, 173056)            0         \n",
      "_________________________________________________________________\n",
      "dense (Dense)                (None, 256)               44302592  \n",
      "_________________________________________________________________\n",
      "dense_1 (Dense)              (None, 128)               32896     \n",
      "_________________________________________________________________\n",
      "dense_2 (Dense)              (None, 32)                4128      \n",
      "_________________________________________________________________\n",
      "dropout_1 (Dropout)          (None, 32)                0         \n",
      "_________________________________________________________________\n",
      "dense_3 (Dense)              (None, 5)                 165       \n",
      "=================================================================\n",
      "Total params: 44,497,989\n",
      "Trainable params: 44,497,989\n",
      "Non-trainable params: 0\n",
      "_________________________________________________________________\n"
     ]
    }
   ],
   "source": [
    "model1.summary()"
   ]
  },
  {
   "cell_type": "code",
   "execution_count": 15,
   "id": "abf585b6",
   "metadata": {
    "execution": {
     "iopub.execute_input": "2022-07-06T07:30:08.455484Z",
     "iopub.status.busy": "2022-07-06T07:30:08.455112Z",
     "iopub.status.idle": "2022-07-06T07:30:08.712849Z",
     "shell.execute_reply": "2022-07-06T07:30:08.711574Z"
    },
    "papermill": {
     "duration": 0.272692,
     "end_time": "2022-07-06T07:30:08.716162",
     "exception": false,
     "start_time": "2022-07-06T07:30:08.443470",
     "status": "completed"
    },
    "tags": []
   },
   "outputs": [],
   "source": [
    "model2 = Sequential([\n",
    "  data_augmentation,\n",
    "  Rescaling(1./255),\n",
    "  Conv2D(16, 3, padding='same', activation='relu'),\n",
    "  MaxPooling2D(),\n",
    "  Conv2D(32, 3, padding='same', activation='relu'),\n",
    "  MaxPooling2D(),\n",
    "  Conv2D(64, 3, padding='same', activation='relu'),\n",
    "  MaxPooling2D(),\n",
    "  Dropout(0.2),\n",
    "  Flatten(),\n",
    "  Dense(128, activation='relu'),\n",
    "  Dense(5)\n",
    "])"
   ]
  },
  {
   "cell_type": "code",
   "execution_count": 16,
   "id": "23d676db",
   "metadata": {
    "execution": {
     "iopub.execute_input": "2022-07-06T07:30:08.745204Z",
     "iopub.status.busy": "2022-07-06T07:30:08.744174Z",
     "iopub.status.idle": "2022-07-06T07:30:08.751990Z",
     "shell.execute_reply": "2022-07-06T07:30:08.750861Z"
    },
    "papermill": {
     "duration": 0.02786,
     "end_time": "2022-07-06T07:30:08.756042",
     "exception": false,
     "start_time": "2022-07-06T07:30:08.728182",
     "status": "completed"
    },
    "tags": []
   },
   "outputs": [
    {
     "name": "stdout",
     "output_type": "stream",
     "text": [
      "Model: \"sequential_2\"\n",
      "_________________________________________________________________\n",
      "Layer (type)                 Output Shape              Param #   \n",
      "=================================================================\n",
      "sequential (Sequential)      (None, 224, 224, 3)       0         \n",
      "_________________________________________________________________\n",
      "rescaling_1 (Rescaling)      (None, 224, 224, 3)       0         \n",
      "_________________________________________________________________\n",
      "conv2d_3 (Conv2D)            (None, 224, 224, 16)      448       \n",
      "_________________________________________________________________\n",
      "max_pooling2d_3 (MaxPooling2 (None, 112, 112, 16)      0         \n",
      "_________________________________________________________________\n",
      "conv2d_4 (Conv2D)            (None, 112, 112, 32)      4640      \n",
      "_________________________________________________________________\n",
      "max_pooling2d_4 (MaxPooling2 (None, 56, 56, 32)        0         \n",
      "_________________________________________________________________\n",
      "conv2d_5 (Conv2D)            (None, 56, 56, 64)        18496     \n",
      "_________________________________________________________________\n",
      "max_pooling2d_5 (MaxPooling2 (None, 28, 28, 64)        0         \n",
      "_________________________________________________________________\n",
      "dropout_2 (Dropout)          (None, 28, 28, 64)        0         \n",
      "_________________________________________________________________\n",
      "flatten_1 (Flatten)          (None, 50176)             0         \n",
      "_________________________________________________________________\n",
      "dense_4 (Dense)              (None, 128)               6422656   \n",
      "_________________________________________________________________\n",
      "dense_5 (Dense)              (None, 5)                 645       \n",
      "=================================================================\n",
      "Total params: 6,446,885\n",
      "Trainable params: 6,446,885\n",
      "Non-trainable params: 0\n",
      "_________________________________________________________________\n"
     ]
    }
   ],
   "source": [
    "model2.summary()"
   ]
  },
  {
   "cell_type": "code",
   "execution_count": 17,
   "id": "122876a5",
   "metadata": {
    "execution": {
     "iopub.execute_input": "2022-07-06T07:30:08.781398Z",
     "iopub.status.busy": "2022-07-06T07:30:08.779382Z",
     "iopub.status.idle": "2022-07-06T07:30:09.027826Z",
     "shell.execute_reply": "2022-07-06T07:30:09.026317Z"
    },
    "papermill": {
     "duration": 0.264049,
     "end_time": "2022-07-06T07:30:09.032288",
     "exception": false,
     "start_time": "2022-07-06T07:30:08.768239",
     "status": "completed"
    },
    "tags": []
   },
   "outputs": [],
   "source": [
    "model3 = Sequential([\n",
    "    data_augmentation,\n",
    "    Rescaling(1./255),\n",
    "    Conv2D(16, 5, activation='relu'),\n",
    "    MaxPooling2D(),\n",
    "    Conv2D(16, 3, activation='relu'),\n",
    "    MaxPooling2D(),\n",
    "    Conv2D(64, 3, activation='relu'),\n",
    "    MaxPooling2D(),\n",
    "    Conv2D(64, 3, activation='relu'),\n",
    "    MaxPooling2D(),\n",
    "    Dropout(0.2),\n",
    "    Flatten(),\n",
    "    Dense(256, activation='relu'),\n",
    "    Dense(16, activation='relu'),\n",
    "    Dropout(0.3),\n",
    "    Dense(5)\n",
    "])"
   ]
  },
  {
   "cell_type": "code",
   "execution_count": 18,
   "id": "a83cca22",
   "metadata": {
    "execution": {
     "iopub.execute_input": "2022-07-06T07:30:09.057744Z",
     "iopub.status.busy": "2022-07-06T07:30:09.057323Z",
     "iopub.status.idle": "2022-07-06T07:30:09.064708Z",
     "shell.execute_reply": "2022-07-06T07:30:09.063686Z"
    },
    "papermill": {
     "duration": 0.023311,
     "end_time": "2022-07-06T07:30:09.068490",
     "exception": false,
     "start_time": "2022-07-06T07:30:09.045179",
     "status": "completed"
    },
    "tags": []
   },
   "outputs": [
    {
     "name": "stdout",
     "output_type": "stream",
     "text": [
      "Model: \"sequential_3\"\n",
      "_________________________________________________________________\n",
      "Layer (type)                 Output Shape              Param #   \n",
      "=================================================================\n",
      "sequential (Sequential)      (None, 224, 224, 3)       0         \n",
      "_________________________________________________________________\n",
      "rescaling_2 (Rescaling)      (None, 224, 224, 3)       0         \n",
      "_________________________________________________________________\n",
      "conv2d_6 (Conv2D)            (None, 220, 220, 16)      1216      \n",
      "_________________________________________________________________\n",
      "max_pooling2d_6 (MaxPooling2 (None, 110, 110, 16)      0         \n",
      "_________________________________________________________________\n",
      "conv2d_7 (Conv2D)            (None, 108, 108, 16)      2320      \n",
      "_________________________________________________________________\n",
      "max_pooling2d_7 (MaxPooling2 (None, 54, 54, 16)        0         \n",
      "_________________________________________________________________\n",
      "conv2d_8 (Conv2D)            (None, 52, 52, 64)        9280      \n",
      "_________________________________________________________________\n",
      "max_pooling2d_8 (MaxPooling2 (None, 26, 26, 64)        0         \n",
      "_________________________________________________________________\n",
      "conv2d_9 (Conv2D)            (None, 24, 24, 64)        36928     \n",
      "_________________________________________________________________\n",
      "max_pooling2d_9 (MaxPooling2 (None, 12, 12, 64)        0         \n",
      "_________________________________________________________________\n",
      "dropout_3 (Dropout)          (None, 12, 12, 64)        0         \n",
      "_________________________________________________________________\n",
      "flatten_2 (Flatten)          (None, 9216)              0         \n",
      "_________________________________________________________________\n",
      "dense_6 (Dense)              (None, 256)               2359552   \n",
      "_________________________________________________________________\n",
      "dense_7 (Dense)              (None, 16)                4112      \n",
      "_________________________________________________________________\n",
      "dropout_4 (Dropout)          (None, 16)                0         \n",
      "_________________________________________________________________\n",
      "dense_8 (Dense)              (None, 5)                 85        \n",
      "=================================================================\n",
      "Total params: 2,413,493\n",
      "Trainable params: 2,413,493\n",
      "Non-trainable params: 0\n",
      "_________________________________________________________________\n"
     ]
    }
   ],
   "source": [
    "model3.summary()"
   ]
  },
  {
   "cell_type": "code",
   "execution_count": 19,
   "id": "774ce96a",
   "metadata": {
    "execution": {
     "iopub.execute_input": "2022-07-06T07:30:09.091529Z",
     "iopub.status.busy": "2022-07-06T07:30:09.091118Z",
     "iopub.status.idle": "2022-07-06T07:30:09.326234Z",
     "shell.execute_reply": "2022-07-06T07:30:09.324462Z"
    },
    "papermill": {
     "duration": 0.251848,
     "end_time": "2022-07-06T07:30:09.330233",
     "exception": false,
     "start_time": "2022-07-06T07:30:09.078385",
     "status": "completed"
    },
    "tags": []
   },
   "outputs": [],
   "source": [
    "model4 = Sequential([\n",
    "    data_augmentation,\n",
    "    Rescaling(1./255),\n",
    "    Conv2D(16, 5, activation='relu'),\n",
    "    MaxPooling2D(),\n",
    "    Conv2D(32, 5, activation='relu'),\n",
    "    MaxPooling2D(),\n",
    "    Conv2D(64, 3, activation='relu'),\n",
    "    MaxPooling2D(),\n",
    "    Dropout(0.2),\n",
    "    Flatten(),\n",
    "    Dense(256, activation='relu'),\n",
    "    Dropout(0.2),\n",
    "    Dense(64, activation='relu'),\n",
    "    Dense(5)\n",
    "])"
   ]
  },
  {
   "cell_type": "code",
   "execution_count": 20,
   "id": "c4572475",
   "metadata": {
    "execution": {
     "iopub.execute_input": "2022-07-06T07:30:09.358230Z",
     "iopub.status.busy": "2022-07-06T07:30:09.356316Z",
     "iopub.status.idle": "2022-07-06T07:30:09.365309Z",
     "shell.execute_reply": "2022-07-06T07:30:09.363685Z"
    },
    "papermill": {
     "duration": 0.023279,
     "end_time": "2022-07-06T07:30:09.367625",
     "exception": false,
     "start_time": "2022-07-06T07:30:09.344346",
     "status": "completed"
    },
    "tags": []
   },
   "outputs": [
    {
     "name": "stdout",
     "output_type": "stream",
     "text": [
      "Model: \"sequential_4\"\n",
      "_________________________________________________________________\n",
      "Layer (type)                 Output Shape              Param #   \n",
      "=================================================================\n",
      "sequential (Sequential)      (None, 224, 224, 3)       0         \n",
      "_________________________________________________________________\n",
      "rescaling_3 (Rescaling)      (None, 224, 224, 3)       0         \n",
      "_________________________________________________________________\n",
      "conv2d_10 (Conv2D)           (None, 220, 220, 16)      1216      \n",
      "_________________________________________________________________\n",
      "max_pooling2d_10 (MaxPooling (None, 110, 110, 16)      0         \n",
      "_________________________________________________________________\n",
      "conv2d_11 (Conv2D)           (None, 106, 106, 32)      12832     \n",
      "_________________________________________________________________\n",
      "max_pooling2d_11 (MaxPooling (None, 53, 53, 32)        0         \n",
      "_________________________________________________________________\n",
      "conv2d_12 (Conv2D)           (None, 51, 51, 64)        18496     \n",
      "_________________________________________________________________\n",
      "max_pooling2d_12 (MaxPooling (None, 25, 25, 64)        0         \n",
      "_________________________________________________________________\n",
      "dropout_5 (Dropout)          (None, 25, 25, 64)        0         \n",
      "_________________________________________________________________\n",
      "flatten_3 (Flatten)          (None, 40000)             0         \n",
      "_________________________________________________________________\n",
      "dense_9 (Dense)              (None, 256)               10240256  \n",
      "_________________________________________________________________\n",
      "dropout_6 (Dropout)          (None, 256)               0         \n",
      "_________________________________________________________________\n",
      "dense_10 (Dense)             (None, 64)                16448     \n",
      "_________________________________________________________________\n",
      "dense_11 (Dense)             (None, 5)                 325       \n",
      "=================================================================\n",
      "Total params: 10,289,573\n",
      "Trainable params: 10,289,573\n",
      "Non-trainable params: 0\n",
      "_________________________________________________________________\n"
     ]
    }
   ],
   "source": [
    "model4.summary()"
   ]
  },
  {
   "cell_type": "code",
   "execution_count": 21,
   "id": "d7cf6066",
   "metadata": {
    "execution": {
     "iopub.execute_input": "2022-07-06T07:30:09.390714Z",
     "iopub.status.busy": "2022-07-06T07:30:09.390276Z",
     "iopub.status.idle": "2022-07-06T07:30:09.484028Z",
     "shell.execute_reply": "2022-07-06T07:30:09.482887Z"
    },
    "papermill": {
     "duration": 0.108877,
     "end_time": "2022-07-06T07:30:09.486878",
     "exception": false,
     "start_time": "2022-07-06T07:30:09.378001",
     "status": "completed"
    },
    "tags": []
   },
   "outputs": [],
   "source": [
    "model5 = Sequential([\n",
    "    Rescaling(1./255,  input_shape=(*Config.img_dim, 3)),\n",
    "    Conv2D(32, 5, activation='relu',),\n",
    "    MaxPooling2D(),\n",
    "    Conv2D(64, 5, activation='relu'),\n",
    "    MaxPooling2D(),\n",
    "    Conv2D(128, 5, activation='relu'),\n",
    "    MaxPooling2D(),\n",
    "    Flatten(),\n",
    "    Dropout(0.5),\n",
    "    Dense(512, activation='relu'),\n",
    "    Dropout(0.5),\n",
    "    Dense(128, activation='relu'),\n",
    "    Dropout(0.3),\n",
    "    Dense(5)\n",
    "])"
   ]
  },
  {
   "cell_type": "code",
   "execution_count": 22,
   "id": "34e7fabe",
   "metadata": {
    "execution": {
     "iopub.execute_input": "2022-07-06T07:30:09.514362Z",
     "iopub.status.busy": "2022-07-06T07:30:09.513026Z",
     "iopub.status.idle": "2022-07-06T07:30:09.522478Z",
     "shell.execute_reply": "2022-07-06T07:30:09.521032Z"
    },
    "papermill": {
     "duration": 0.027762,
     "end_time": "2022-07-06T07:30:09.526813",
     "exception": false,
     "start_time": "2022-07-06T07:30:09.499051",
     "status": "completed"
    },
    "tags": []
   },
   "outputs": [
    {
     "name": "stdout",
     "output_type": "stream",
     "text": [
      "Model: \"sequential_5\"\n",
      "_________________________________________________________________\n",
      "Layer (type)                 Output Shape              Param #   \n",
      "=================================================================\n",
      "rescaling_4 (Rescaling)      (None, 224, 224, 3)       0         \n",
      "_________________________________________________________________\n",
      "conv2d_13 (Conv2D)           (None, 220, 220, 32)      2432      \n",
      "_________________________________________________________________\n",
      "max_pooling2d_13 (MaxPooling (None, 110, 110, 32)      0         \n",
      "_________________________________________________________________\n",
      "conv2d_14 (Conv2D)           (None, 106, 106, 64)      51264     \n",
      "_________________________________________________________________\n",
      "max_pooling2d_14 (MaxPooling (None, 53, 53, 64)        0         \n",
      "_________________________________________________________________\n",
      "conv2d_15 (Conv2D)           (None, 49, 49, 128)       204928    \n",
      "_________________________________________________________________\n",
      "max_pooling2d_15 (MaxPooling (None, 24, 24, 128)       0         \n",
      "_________________________________________________________________\n",
      "flatten_4 (Flatten)          (None, 73728)             0         \n",
      "_________________________________________________________________\n",
      "dropout_7 (Dropout)          (None, 73728)             0         \n",
      "_________________________________________________________________\n",
      "dense_12 (Dense)             (None, 512)               37749248  \n",
      "_________________________________________________________________\n",
      "dropout_8 (Dropout)          (None, 512)               0         \n",
      "_________________________________________________________________\n",
      "dense_13 (Dense)             (None, 128)               65664     \n",
      "_________________________________________________________________\n",
      "dropout_9 (Dropout)          (None, 128)               0         \n",
      "_________________________________________________________________\n",
      "dense_14 (Dense)             (None, 5)                 645       \n",
      "=================================================================\n",
      "Total params: 38,074,181\n",
      "Trainable params: 38,074,181\n",
      "Non-trainable params: 0\n",
      "_________________________________________________________________\n"
     ]
    }
   ],
   "source": [
    "model5.summary()"
   ]
  },
  {
   "cell_type": "code",
   "execution_count": 23,
   "id": "9c66dbb0",
   "metadata": {
    "execution": {
     "iopub.execute_input": "2022-07-06T07:30:09.557336Z",
     "iopub.status.busy": "2022-07-06T07:30:09.556945Z",
     "iopub.status.idle": "2022-07-06T07:30:09.656369Z",
     "shell.execute_reply": "2022-07-06T07:30:09.655288Z"
    },
    "papermill": {
     "duration": 0.114741,
     "end_time": "2022-07-06T07:30:09.658995",
     "exception": false,
     "start_time": "2022-07-06T07:30:09.544254",
     "status": "completed"
    },
    "tags": []
   },
   "outputs": [],
   "source": [
    "model6 = Sequential([\n",
    "    Rescaling(1./255,  input_shape=(*Config.img_dim, 3)),\n",
    "    Conv2D(16, 7, activation='relu',),\n",
    "    MaxPooling2D(),\n",
    "    Conv2D(64, 5, activation='relu'),\n",
    "    MaxPooling2D(),\n",
    "    Conv2D(128, 3, activation='relu'),\n",
    "    MaxPooling2D(),\n",
    "    Flatten(),\n",
    "    Dense(128, activation='relu'),\n",
    "    Dropout(0.5),\n",
    "    Dense(64, activation='relu'),\n",
    "    Dropout(0.3),\n",
    "    Dense(5)\n",
    "])"
   ]
  },
  {
   "cell_type": "code",
   "execution_count": 24,
   "id": "8c539540",
   "metadata": {
    "execution": {
     "iopub.execute_input": "2022-07-06T07:30:09.682344Z",
     "iopub.status.busy": "2022-07-06T07:30:09.681939Z",
     "iopub.status.idle": "2022-07-06T07:30:09.689554Z",
     "shell.execute_reply": "2022-07-06T07:30:09.688407Z"
    },
    "papermill": {
     "duration": 0.024475,
     "end_time": "2022-07-06T07:30:09.694015",
     "exception": false,
     "start_time": "2022-07-06T07:30:09.669540",
     "status": "completed"
    },
    "tags": []
   },
   "outputs": [
    {
     "name": "stdout",
     "output_type": "stream",
     "text": [
      "Model: \"sequential_6\"\n",
      "_________________________________________________________________\n",
      "Layer (type)                 Output Shape              Param #   \n",
      "=================================================================\n",
      "rescaling_5 (Rescaling)      (None, 224, 224, 3)       0         \n",
      "_________________________________________________________________\n",
      "conv2d_16 (Conv2D)           (None, 218, 218, 16)      2368      \n",
      "_________________________________________________________________\n",
      "max_pooling2d_16 (MaxPooling (None, 109, 109, 16)      0         \n",
      "_________________________________________________________________\n",
      "conv2d_17 (Conv2D)           (None, 105, 105, 64)      25664     \n",
      "_________________________________________________________________\n",
      "max_pooling2d_17 (MaxPooling (None, 52, 52, 64)        0         \n",
      "_________________________________________________________________\n",
      "conv2d_18 (Conv2D)           (None, 50, 50, 128)       73856     \n",
      "_________________________________________________________________\n",
      "max_pooling2d_18 (MaxPooling (None, 25, 25, 128)       0         \n",
      "_________________________________________________________________\n",
      "flatten_5 (Flatten)          (None, 80000)             0         \n",
      "_________________________________________________________________\n",
      "dense_15 (Dense)             (None, 128)               10240128  \n",
      "_________________________________________________________________\n",
      "dropout_10 (Dropout)         (None, 128)               0         \n",
      "_________________________________________________________________\n",
      "dense_16 (Dense)             (None, 64)                8256      \n",
      "_________________________________________________________________\n",
      "dropout_11 (Dropout)         (None, 64)                0         \n",
      "_________________________________________________________________\n",
      "dense_17 (Dense)             (None, 5)                 325       \n",
      "=================================================================\n",
      "Total params: 10,350,597\n",
      "Trainable params: 10,350,597\n",
      "Non-trainable params: 0\n",
      "_________________________________________________________________\n"
     ]
    }
   ],
   "source": [
    "model6.summary()"
   ]
  },
  {
   "cell_type": "code",
   "execution_count": 25,
   "id": "cf8ed9db",
   "metadata": {
    "execution": {
     "iopub.execute_input": "2022-07-06T07:30:09.724043Z",
     "iopub.status.busy": "2022-07-06T07:30:09.722768Z",
     "iopub.status.idle": "2022-07-06T07:30:10.048892Z",
     "shell.execute_reply": "2022-07-06T07:30:10.047488Z"
    },
    "papermill": {
     "duration": 0.343473,
     "end_time": "2022-07-06T07:30:10.052230",
     "exception": false,
     "start_time": "2022-07-06T07:30:09.708757",
     "status": "completed"
    },
    "tags": []
   },
   "outputs": [],
   "source": [
    "model7 = Sequential([\n",
    "    data_augmentation,\n",
    "    Rescaling(1./255),\n",
    "    Conv2D(16, 3, activation='relu',),\n",
    "    MaxPooling2D(),\n",
    "    Conv2D(32, 5, activation='relu'),\n",
    "    MaxPooling2D(),\n",
    "    Conv2D(64, 7, activation='relu'),\n",
    "    MaxPooling2D(),\n",
    "    Flatten(),\n",
    "    Dense(128, activation='relu'),\n",
    "    Dropout(0.3),\n",
    "    Dense(32, activation='relu'),\n",
    "    Dense(5)\n",
    "])"
   ]
  },
  {
   "cell_type": "code",
   "execution_count": 26,
   "id": "f19232da",
   "metadata": {
    "execution": {
     "iopub.execute_input": "2022-07-06T07:30:10.090125Z",
     "iopub.status.busy": "2022-07-06T07:30:10.089281Z",
     "iopub.status.idle": "2022-07-06T07:30:10.102495Z",
     "shell.execute_reply": "2022-07-06T07:30:10.098464Z"
    },
    "papermill": {
     "duration": 0.039301,
     "end_time": "2022-07-06T07:30:10.109087",
     "exception": false,
     "start_time": "2022-07-06T07:30:10.069786",
     "status": "completed"
    },
    "tags": []
   },
   "outputs": [
    {
     "name": "stdout",
     "output_type": "stream",
     "text": [
      "Model: \"sequential_7\"\n",
      "_________________________________________________________________\n",
      "Layer (type)                 Output Shape              Param #   \n",
      "=================================================================\n",
      "sequential (Sequential)      (None, 224, 224, 3)       0         \n",
      "_________________________________________________________________\n",
      "rescaling_6 (Rescaling)      (None, 224, 224, 3)       0         \n",
      "_________________________________________________________________\n",
      "conv2d_19 (Conv2D)           (None, 222, 222, 16)      448       \n",
      "_________________________________________________________________\n",
      "max_pooling2d_19 (MaxPooling (None, 111, 111, 16)      0         \n",
      "_________________________________________________________________\n",
      "conv2d_20 (Conv2D)           (None, 107, 107, 32)      12832     \n",
      "_________________________________________________________________\n",
      "max_pooling2d_20 (MaxPooling (None, 53, 53, 32)        0         \n",
      "_________________________________________________________________\n",
      "conv2d_21 (Conv2D)           (None, 47, 47, 64)        100416    \n",
      "_________________________________________________________________\n",
      "max_pooling2d_21 (MaxPooling (None, 23, 23, 64)        0         \n",
      "_________________________________________________________________\n",
      "flatten_6 (Flatten)          (None, 33856)             0         \n",
      "_________________________________________________________________\n",
      "dense_18 (Dense)             (None, 128)               4333696   \n",
      "_________________________________________________________________\n",
      "dropout_12 (Dropout)         (None, 128)               0         \n",
      "_________________________________________________________________\n",
      "dense_19 (Dense)             (None, 32)                4128      \n",
      "_________________________________________________________________\n",
      "dense_20 (Dense)             (None, 5)                 165       \n",
      "=================================================================\n",
      "Total params: 4,451,685\n",
      "Trainable params: 4,451,685\n",
      "Non-trainable params: 0\n",
      "_________________________________________________________________\n"
     ]
    }
   ],
   "source": [
    "model7.summary()"
   ]
  },
  {
   "cell_type": "code",
   "execution_count": 27,
   "id": "6ef6d9d7",
   "metadata": {
    "execution": {
     "iopub.execute_input": "2022-07-06T07:30:10.157854Z",
     "iopub.status.busy": "2022-07-06T07:30:10.156934Z",
     "iopub.status.idle": "2022-07-06T07:30:10.279105Z",
     "shell.execute_reply": "2022-07-06T07:30:10.273685Z"
    },
    "papermill": {
     "duration": 0.149048,
     "end_time": "2022-07-06T07:30:10.282425",
     "exception": false,
     "start_time": "2022-07-06T07:30:10.133377",
     "status": "completed"
    },
    "tags": []
   },
   "outputs": [],
   "source": [
    "model8 = Sequential([\n",
    "    Rescaling(1./255,  input_shape=(*Config.img_dim, 3)),\n",
    "    Conv2D(16, 5, activation='relu',),\n",
    "    MaxPooling2D(),\n",
    "    Conv2D(32, 5, activation='relu'),\n",
    "    MaxPooling2D(),\n",
    "    Flatten(),\n",
    "    Dense(256, activation='relu'),\n",
    "    Dropout(0.1),\n",
    "    Dense(32, activation='relu'),\n",
    "    Dense(5)\n",
    "])"
   ]
  },
  {
   "cell_type": "code",
   "execution_count": 28,
   "id": "974509da",
   "metadata": {
    "execution": {
     "iopub.execute_input": "2022-07-06T07:30:10.324890Z",
     "iopub.status.busy": "2022-07-06T07:30:10.324291Z",
     "iopub.status.idle": "2022-07-06T07:30:10.339572Z",
     "shell.execute_reply": "2022-07-06T07:30:10.337478Z"
    },
    "papermill": {
     "duration": 0.040506,
     "end_time": "2022-07-06T07:30:10.343831",
     "exception": false,
     "start_time": "2022-07-06T07:30:10.303325",
     "status": "completed"
    },
    "tags": []
   },
   "outputs": [
    {
     "name": "stdout",
     "output_type": "stream",
     "text": [
      "Model: \"sequential_8\"\n",
      "_________________________________________________________________\n",
      "Layer (type)                 Output Shape              Param #   \n",
      "=================================================================\n",
      "rescaling_7 (Rescaling)      (None, 224, 224, 3)       0         \n",
      "_________________________________________________________________\n",
      "conv2d_22 (Conv2D)           (None, 220, 220, 16)      1216      \n",
      "_________________________________________________________________\n",
      "max_pooling2d_22 (MaxPooling (None, 110, 110, 16)      0         \n",
      "_________________________________________________________________\n",
      "conv2d_23 (Conv2D)           (None, 106, 106, 32)      12832     \n",
      "_________________________________________________________________\n",
      "max_pooling2d_23 (MaxPooling (None, 53, 53, 32)        0         \n",
      "_________________________________________________________________\n",
      "flatten_7 (Flatten)          (None, 89888)             0         \n",
      "_________________________________________________________________\n",
      "dense_21 (Dense)             (None, 256)               23011584  \n",
      "_________________________________________________________________\n",
      "dropout_13 (Dropout)         (None, 256)               0         \n",
      "_________________________________________________________________\n",
      "dense_22 (Dense)             (None, 32)                8224      \n",
      "_________________________________________________________________\n",
      "dense_23 (Dense)             (None, 5)                 165       \n",
      "=================================================================\n",
      "Total params: 23,034,021\n",
      "Trainable params: 23,034,021\n",
      "Non-trainable params: 0\n",
      "_________________________________________________________________\n"
     ]
    }
   ],
   "source": [
    "model8.summary()"
   ]
  },
  {
   "cell_type": "code",
   "execution_count": 29,
   "id": "7cb17942",
   "metadata": {
    "execution": {
     "iopub.execute_input": "2022-07-06T07:30:10.382277Z",
     "iopub.status.busy": "2022-07-06T07:30:10.381782Z",
     "iopub.status.idle": "2022-07-06T07:30:10.560054Z",
     "shell.execute_reply": "2022-07-06T07:30:10.559006Z"
    },
    "papermill": {
     "duration": 0.199868,
     "end_time": "2022-07-06T07:30:10.562778",
     "exception": false,
     "start_time": "2022-07-06T07:30:10.362910",
     "status": "completed"
    },
    "tags": []
   },
   "outputs": [],
   "source": [
    "model9 = Sequential([\n",
    "    Rescaling(1./255,  input_shape=(*Config.img_dim, 3)),\n",
    "    Conv2D(16, 3, activation='relu',),\n",
    "    MaxPooling2D(),\n",
    "    Conv2D(32, 3, activation='relu'),\n",
    "    MaxPooling2D(),\n",
    "    Conv2D(128, 3, activation='relu'),\n",
    "    MaxPooling2D(),\n",
    "    Flatten(),\n",
    "    Dense(1024, activation='relu'),\n",
    "    Dense(512, activation='relu'),\n",
    "    Dense(256, activation='relu'),\n",
    "    Dense(128, activation='relu'),\n",
    "    Dense(64, activation='relu'),\n",
    "    Dense(32, activation='relu'),\n",
    "    Dense(16, activation='relu'),\n",
    "    Dense(5)\n",
    "])"
   ]
  },
  {
   "cell_type": "code",
   "execution_count": 30,
   "id": "47cabae2",
   "metadata": {
    "execution": {
     "iopub.execute_input": "2022-07-06T07:30:10.587567Z",
     "iopub.status.busy": "2022-07-06T07:30:10.587154Z",
     "iopub.status.idle": "2022-07-06T07:30:10.599344Z",
     "shell.execute_reply": "2022-07-06T07:30:10.597703Z"
    },
    "papermill": {
     "duration": 0.031767,
     "end_time": "2022-07-06T07:30:10.605817",
     "exception": false,
     "start_time": "2022-07-06T07:30:10.574050",
     "status": "completed"
    },
    "tags": []
   },
   "outputs": [
    {
     "name": "stdout",
     "output_type": "stream",
     "text": [
      "Model: \"sequential_9\"\n",
      "_________________________________________________________________\n",
      "Layer (type)                 Output Shape              Param #   \n",
      "=================================================================\n",
      "rescaling_8 (Rescaling)      (None, 224, 224, 3)       0         \n",
      "_________________________________________________________________\n",
      "conv2d_24 (Conv2D)           (None, 222, 222, 16)      448       \n",
      "_________________________________________________________________\n",
      "max_pooling2d_24 (MaxPooling (None, 111, 111, 16)      0         \n",
      "_________________________________________________________________\n",
      "conv2d_25 (Conv2D)           (None, 109, 109, 32)      4640      \n",
      "_________________________________________________________________\n",
      "max_pooling2d_25 (MaxPooling (None, 54, 54, 32)        0         \n",
      "_________________________________________________________________\n",
      "conv2d_26 (Conv2D)           (None, 52, 52, 128)       36992     \n",
      "_________________________________________________________________\n",
      "max_pooling2d_26 (MaxPooling (None, 26, 26, 128)       0         \n",
      "_________________________________________________________________\n",
      "flatten_8 (Flatten)          (None, 86528)             0         \n",
      "_________________________________________________________________\n",
      "dense_24 (Dense)             (None, 1024)              88605696  \n",
      "_________________________________________________________________\n",
      "dense_25 (Dense)             (None, 512)               524800    \n",
      "_________________________________________________________________\n",
      "dense_26 (Dense)             (None, 256)               131328    \n",
      "_________________________________________________________________\n",
      "dense_27 (Dense)             (None, 128)               32896     \n",
      "_________________________________________________________________\n",
      "dense_28 (Dense)             (None, 64)                8256      \n",
      "_________________________________________________________________\n",
      "dense_29 (Dense)             (None, 32)                2080      \n",
      "_________________________________________________________________\n",
      "dense_30 (Dense)             (None, 16)                528       \n",
      "_________________________________________________________________\n",
      "dense_31 (Dense)             (None, 5)                 85        \n",
      "=================================================================\n",
      "Total params: 89,347,749\n",
      "Trainable params: 89,347,749\n",
      "Non-trainable params: 0\n",
      "_________________________________________________________________\n"
     ]
    }
   ],
   "source": [
    "model9.summary()"
   ]
  },
  {
   "cell_type": "code",
   "execution_count": 31,
   "id": "fe550cbc",
   "metadata": {
    "execution": {
     "iopub.execute_input": "2022-07-06T07:30:10.637114Z",
     "iopub.status.busy": "2022-07-06T07:30:10.636587Z",
     "iopub.status.idle": "2022-07-06T07:30:10.940926Z",
     "shell.execute_reply": "2022-07-06T07:30:10.939266Z"
    },
    "papermill": {
     "duration": 0.324697,
     "end_time": "2022-07-06T07:30:10.944098",
     "exception": false,
     "start_time": "2022-07-06T07:30:10.619401",
     "status": "completed"
    },
    "tags": []
   },
   "outputs": [],
   "source": [
    "model10 = Sequential([\n",
    "    data_augmentation,\n",
    "    Rescaling(1./255),\n",
    "    Conv2D(16, 5, activation='relu',),\n",
    "    MaxPooling2D(),\n",
    "    Conv2D(32, 5, activation='relu'),\n",
    "    MaxPooling2D(),\n",
    "    Conv2D(64, 3, activation='relu'),\n",
    "    MaxPooling2D(),\n",
    "    Conv2D(128, 3, activation='relu'),\n",
    "    MaxPooling2D(),\n",
    "    Conv2D(256, 3, activation='relu'),\n",
    "    MaxPooling2D(),\n",
    "    Flatten(),\n",
    "    Dense(1024, activation='relu'),\n",
    "    Dense(512, activation='relu'),\n",
    "    Dense(256, activation='relu'),\n",
    "    Dense(128, activation='relu'),\n",
    "    Dense(64, activation='relu'),\n",
    "    Dense(32, activation='relu'),\n",
    "    Dense(16, activation='relu'),\n",
    "    Dense(5)\n",
    "])"
   ]
  },
  {
   "cell_type": "code",
   "execution_count": 32,
   "id": "cf289d31",
   "metadata": {
    "execution": {
     "iopub.execute_input": "2022-07-06T07:30:10.969929Z",
     "iopub.status.busy": "2022-07-06T07:30:10.967963Z",
     "iopub.status.idle": "2022-07-06T07:30:10.976272Z",
     "shell.execute_reply": "2022-07-06T07:30:10.975221Z"
    },
    "papermill": {
     "duration": 0.024761,
     "end_time": "2022-07-06T07:30:10.980885",
     "exception": false,
     "start_time": "2022-07-06T07:30:10.956124",
     "status": "completed"
    },
    "tags": []
   },
   "outputs": [
    {
     "name": "stdout",
     "output_type": "stream",
     "text": [
      "Model: \"sequential_10\"\n",
      "_________________________________________________________________\n",
      "Layer (type)                 Output Shape              Param #   \n",
      "=================================================================\n",
      "sequential (Sequential)      (None, 224, 224, 3)       0         \n",
      "_________________________________________________________________\n",
      "rescaling_9 (Rescaling)      (None, 224, 224, 3)       0         \n",
      "_________________________________________________________________\n",
      "conv2d_27 (Conv2D)           (None, 220, 220, 16)      1216      \n",
      "_________________________________________________________________\n",
      "max_pooling2d_27 (MaxPooling (None, 110, 110, 16)      0         \n",
      "_________________________________________________________________\n",
      "conv2d_28 (Conv2D)           (None, 106, 106, 32)      12832     \n",
      "_________________________________________________________________\n",
      "max_pooling2d_28 (MaxPooling (None, 53, 53, 32)        0         \n",
      "_________________________________________________________________\n",
      "conv2d_29 (Conv2D)           (None, 51, 51, 64)        18496     \n",
      "_________________________________________________________________\n",
      "max_pooling2d_29 (MaxPooling (None, 25, 25, 64)        0         \n",
      "_________________________________________________________________\n",
      "conv2d_30 (Conv2D)           (None, 23, 23, 128)       73856     \n",
      "_________________________________________________________________\n",
      "max_pooling2d_30 (MaxPooling (None, 11, 11, 128)       0         \n",
      "_________________________________________________________________\n",
      "conv2d_31 (Conv2D)           (None, 9, 9, 256)         295168    \n",
      "_________________________________________________________________\n",
      "max_pooling2d_31 (MaxPooling (None, 4, 4, 256)         0         \n",
      "_________________________________________________________________\n",
      "flatten_9 (Flatten)          (None, 4096)              0         \n",
      "_________________________________________________________________\n",
      "dense_32 (Dense)             (None, 1024)              4195328   \n",
      "_________________________________________________________________\n",
      "dense_33 (Dense)             (None, 512)               524800    \n",
      "_________________________________________________________________\n",
      "dense_34 (Dense)             (None, 256)               131328    \n",
      "_________________________________________________________________\n",
      "dense_35 (Dense)             (None, 128)               32896     \n",
      "_________________________________________________________________\n",
      "dense_36 (Dense)             (None, 64)                8256      \n",
      "_________________________________________________________________\n",
      "dense_37 (Dense)             (None, 32)                2080      \n",
      "_________________________________________________________________\n",
      "dense_38 (Dense)             (None, 16)                528       \n",
      "_________________________________________________________________\n",
      "dense_39 (Dense)             (None, 5)                 85        \n",
      "=================================================================\n",
      "Total params: 5,296,869\n",
      "Trainable params: 5,296,869\n",
      "Non-trainable params: 0\n",
      "_________________________________________________________________\n"
     ]
    }
   ],
   "source": [
    "model10.summary()"
   ]
  },
  {
   "cell_type": "code",
   "execution_count": 33,
   "id": "730c90e9",
   "metadata": {
    "execution": {
     "iopub.execute_input": "2022-07-06T07:30:11.009165Z",
     "iopub.status.busy": "2022-07-06T07:30:11.008721Z",
     "iopub.status.idle": "2022-07-06T07:30:11.162065Z",
     "shell.execute_reply": "2022-07-06T07:30:11.161032Z"
    },
    "papermill": {
     "duration": 0.170651,
     "end_time": "2022-07-06T07:30:11.164490",
     "exception": false,
     "start_time": "2022-07-06T07:30:10.993839",
     "status": "completed"
    },
    "tags": []
   },
   "outputs": [],
   "source": [
    "model11 = Sequential([\n",
    "    Rescaling(1./255, input_shape=(*Config.img_dim, 3)),\n",
    "    Conv2D(16, 3, activation='relu',),\n",
    "    Conv2D(16, 3, activation='relu',),\n",
    "    MaxPooling2D(),\n",
    "    Conv2D(32, 3, activation='relu'),\n",
    "    Conv2D(32, 3, activation='relu'),\n",
    "    MaxPooling2D(),\n",
    "    Conv2D(64, 3, activation='relu'),\n",
    "    Conv2D(64, 3, activation='relu'),\n",
    "    MaxPooling2D(),\n",
    "    Conv2D(128, 3, activation='relu'),\n",
    "    Conv2D(128, 3, activation='relu'),\n",
    "    MaxPooling2D(),\n",
    "    Conv2D(256, 3, activation='relu'),\n",
    "    Conv2D(256, 3, activation='relu'),\n",
    "    MaxPooling2D(),\n",
    "    Flatten(),\n",
    "    Dense(256, activation='relu'),\n",
    "    Dense(32, activation='relu'),\n",
    "    Dense(5)\n",
    "])"
   ]
  },
  {
   "cell_type": "code",
   "execution_count": 34,
   "id": "64aa7265",
   "metadata": {
    "execution": {
     "iopub.execute_input": "2022-07-06T07:30:11.191458Z",
     "iopub.status.busy": "2022-07-06T07:30:11.189196Z",
     "iopub.status.idle": "2022-07-06T07:30:11.199494Z",
     "shell.execute_reply": "2022-07-06T07:30:11.198223Z"
    },
    "papermill": {
     "duration": 0.028576,
     "end_time": "2022-07-06T07:30:11.203729",
     "exception": false,
     "start_time": "2022-07-06T07:30:11.175153",
     "status": "completed"
    },
    "tags": []
   },
   "outputs": [
    {
     "name": "stdout",
     "output_type": "stream",
     "text": [
      "Model: \"sequential_11\"\n",
      "_________________________________________________________________\n",
      "Layer (type)                 Output Shape              Param #   \n",
      "=================================================================\n",
      "rescaling_10 (Rescaling)     (None, 224, 224, 3)       0         \n",
      "_________________________________________________________________\n",
      "conv2d_32 (Conv2D)           (None, 222, 222, 16)      448       \n",
      "_________________________________________________________________\n",
      "conv2d_33 (Conv2D)           (None, 220, 220, 16)      2320      \n",
      "_________________________________________________________________\n",
      "max_pooling2d_32 (MaxPooling (None, 110, 110, 16)      0         \n",
      "_________________________________________________________________\n",
      "conv2d_34 (Conv2D)           (None, 108, 108, 32)      4640      \n",
      "_________________________________________________________________\n",
      "conv2d_35 (Conv2D)           (None, 106, 106, 32)      9248      \n",
      "_________________________________________________________________\n",
      "max_pooling2d_33 (MaxPooling (None, 53, 53, 32)        0         \n",
      "_________________________________________________________________\n",
      "conv2d_36 (Conv2D)           (None, 51, 51, 64)        18496     \n",
      "_________________________________________________________________\n",
      "conv2d_37 (Conv2D)           (None, 49, 49, 64)        36928     \n",
      "_________________________________________________________________\n",
      "max_pooling2d_34 (MaxPooling (None, 24, 24, 64)        0         \n",
      "_________________________________________________________________\n",
      "conv2d_38 (Conv2D)           (None, 22, 22, 128)       73856     \n",
      "_________________________________________________________________\n",
      "conv2d_39 (Conv2D)           (None, 20, 20, 128)       147584    \n",
      "_________________________________________________________________\n",
      "max_pooling2d_35 (MaxPooling (None, 10, 10, 128)       0         \n",
      "_________________________________________________________________\n",
      "conv2d_40 (Conv2D)           (None, 8, 8, 256)         295168    \n",
      "_________________________________________________________________\n",
      "conv2d_41 (Conv2D)           (None, 6, 6, 256)         590080    \n",
      "_________________________________________________________________\n",
      "max_pooling2d_36 (MaxPooling (None, 3, 3, 256)         0         \n",
      "_________________________________________________________________\n",
      "flatten_10 (Flatten)         (None, 2304)              0         \n",
      "_________________________________________________________________\n",
      "dense_40 (Dense)             (None, 256)               590080    \n",
      "_________________________________________________________________\n",
      "dense_41 (Dense)             (None, 32)                8224      \n",
      "_________________________________________________________________\n",
      "dense_42 (Dense)             (None, 5)                 165       \n",
      "=================================================================\n",
      "Total params: 1,777,237\n",
      "Trainable params: 1,777,237\n",
      "Non-trainable params: 0\n",
      "_________________________________________________________________\n"
     ]
    }
   ],
   "source": [
    "model11.summary()"
   ]
  },
  {
   "cell_type": "code",
   "execution_count": 35,
   "id": "0e1da95e",
   "metadata": {
    "execution": {
     "iopub.execute_input": "2022-07-06T07:30:11.236828Z",
     "iopub.status.busy": "2022-07-06T07:30:11.236263Z",
     "iopub.status.idle": "2022-07-06T07:30:11.243061Z",
     "shell.execute_reply": "2022-07-06T07:30:11.241662Z"
    },
    "papermill": {
     "duration": 0.026862,
     "end_time": "2022-07-06T07:30:11.246318",
     "exception": false,
     "start_time": "2022-07-06T07:30:11.219456",
     "status": "completed"
    },
    "tags": []
   },
   "outputs": [],
   "source": [
    "models = [model1, model2, model3, model4, model5, model6, model7, model8, model9, model10, model11]"
   ]
  },
  {
   "cell_type": "code",
   "execution_count": 36,
   "id": "ede0a2c1",
   "metadata": {
    "execution": {
     "iopub.execute_input": "2022-07-06T07:30:11.270395Z",
     "iopub.status.busy": "2022-07-06T07:30:11.270055Z",
     "iopub.status.idle": "2022-07-06T07:41:03.085922Z",
     "shell.execute_reply": "2022-07-06T07:41:03.084329Z"
    },
    "papermill": {
     "duration": 651.830603,
     "end_time": "2022-07-06T07:41:03.089037",
     "exception": false,
     "start_time": "2022-07-06T07:30:11.258434",
     "status": "completed"
    },
    "tags": []
   },
   "outputs": [
    {
     "name": "stdout",
     "output_type": "stream",
     "text": [
      "\n",
      "\n",
      "\n",
      "========================= MODEL 1/11 =========================\n",
      "\n",
      "\n",
      "\n",
      "Epoch 1/20\n"
     ]
    },
    {
     "name": "stderr",
     "output_type": "stream",
     "text": [
      "2022-07-06 07:30:12.247735: I tensorflow/compiler/mlir/mlir_graph_optimization_pass.cc:185] None of the MLIR Optimization Passes are enabled (registered 2)\n",
      "2022-07-06 07:30:14.692634: I tensorflow/stream_executor/cuda/cuda_dnn.cc:369] Loaded cuDNN version 8005\n"
     ]
    },
    {
     "name": "stdout",
     "output_type": "stream",
     "text": [
      "13/13 [==============================] - 12s 151ms/step - loss: 2.4694 - accuracy: 0.1949 - val_loss: 1.5911 - val_accuracy: 0.1875\n",
      "Epoch 2/20\n",
      "13/13 [==============================] - 2s 97ms/step - loss: 1.5957 - accuracy: 0.2205 - val_loss: 1.6224 - val_accuracy: 0.1875\n",
      "Epoch 3/20\n",
      "13/13 [==============================] - 2s 95ms/step - loss: 1.5788 - accuracy: 0.2410 - val_loss: 1.5478 - val_accuracy: 0.2708\n",
      "Epoch 4/20\n",
      "13/13 [==============================] - 2s 93ms/step - loss: 1.5746 - accuracy: 0.2769 - val_loss: 1.5627 - val_accuracy: 0.2083\n",
      "Epoch 5/20\n",
      "13/13 [==============================] - 2s 93ms/step - loss: 1.5516 - accuracy: 0.2564 - val_loss: 1.6686 - val_accuracy: 0.1875\n",
      "Epoch 6/20\n",
      "13/13 [==============================] - 2s 95ms/step - loss: 1.5306 - accuracy: 0.2410 - val_loss: 1.5619 - val_accuracy: 0.2500\n",
      "Epoch 7/20\n",
      "13/13 [==============================] - 2s 96ms/step - loss: 1.4938 - accuracy: 0.3026 - val_loss: 1.6316 - val_accuracy: 0.3333\n",
      "Epoch 8/20\n",
      "13/13 [==============================] - 2s 94ms/step - loss: 1.5042 - accuracy: 0.3487 - val_loss: 1.4475 - val_accuracy: 0.3542\n",
      "Epoch 9/20\n",
      "13/13 [==============================] - 2s 91ms/step - loss: 1.4698 - accuracy: 0.2769 - val_loss: 1.3890 - val_accuracy: 0.4583\n",
      "Epoch 10/20\n",
      "13/13 [==============================] - 2s 111ms/step - loss: 1.4309 - accuracy: 0.3333 - val_loss: 2.0197 - val_accuracy: 0.2917\n",
      "Epoch 11/20\n",
      "13/13 [==============================] - 3s 94ms/step - loss: 1.5453 - accuracy: 0.2615 - val_loss: 1.5104 - val_accuracy: 0.2292\n",
      "Epoch 12/20\n",
      "13/13 [==============================] - 2s 94ms/step - loss: 1.4364 - accuracy: 0.3538 - val_loss: 1.6087 - val_accuracy: 0.2917\n",
      "Epoch 13/20\n",
      "13/13 [==============================] - 2s 93ms/step - loss: 1.4196 - accuracy: 0.3846 - val_loss: 1.4306 - val_accuracy: 0.4167\n",
      "Epoch 14/20\n",
      "13/13 [==============================] - 3s 103ms/step - loss: 1.4304 - accuracy: 0.3077 - val_loss: 1.3942 - val_accuracy: 0.3958\n",
      "Epoch 15/20\n",
      "13/13 [==============================] - 2s 101ms/step - loss: 1.3531 - accuracy: 0.3795 - val_loss: 1.9742 - val_accuracy: 0.2708\n",
      "Epoch 16/20\n",
      "13/13 [==============================] - 2s 93ms/step - loss: 1.3064 - accuracy: 0.4359 - val_loss: 1.3757 - val_accuracy: 0.5000\n",
      "Epoch 17/20\n",
      "13/13 [==============================] - 2s 100ms/step - loss: 1.3316 - accuracy: 0.3949 - val_loss: 1.6284 - val_accuracy: 0.3958\n",
      "Epoch 18/20\n",
      "13/13 [==============================] - 2s 112ms/step - loss: 1.3198 - accuracy: 0.4462 - val_loss: 1.9206 - val_accuracy: 0.2917\n",
      "Epoch 19/20\n",
      "13/13 [==============================] - 2s 91ms/step - loss: 1.3649 - accuracy: 0.3949 - val_loss: 1.5939 - val_accuracy: 0.3333\n",
      "Epoch 20/20\n",
      "13/13 [==============================] - 2s 95ms/step - loss: 1.2147 - accuracy: 0.4615 - val_loss: 1.3158 - val_accuracy: 0.5417\n",
      "\n",
      "\n",
      "\n",
      "========================= MODEL 2/11 =========================\n",
      "\n",
      "\n",
      "\n",
      "Epoch 1/20\n",
      "13/13 [==============================] - 3s 99ms/step - loss: 3.5664 - accuracy: 0.2256 - val_loss: 1.6111 - val_accuracy: 0.2292\n",
      "Epoch 2/20\n",
      "13/13 [==============================] - 2s 100ms/step - loss: 1.6080 - accuracy: 0.2462 - val_loss: 1.6358 - val_accuracy: 0.1875\n",
      "Epoch 3/20\n",
      "13/13 [==============================] - 3s 123ms/step - loss: 1.6104 - accuracy: 0.2462 - val_loss: 1.6122 - val_accuracy: 0.1875\n",
      "Epoch 4/20\n",
      "13/13 [==============================] - 2s 84ms/step - loss: 1.6062 - accuracy: 0.2308 - val_loss: 1.6104 - val_accuracy: 0.2917\n",
      "Epoch 5/20\n",
      "13/13 [==============================] - 2s 85ms/step - loss: 1.5966 - accuracy: 0.2615 - val_loss: 1.6228 - val_accuracy: 0.2083\n",
      "Epoch 6/20\n",
      "13/13 [==============================] - 2s 88ms/step - loss: 1.5899 - accuracy: 0.2308 - val_loss: 1.5849 - val_accuracy: 0.2708\n",
      "Epoch 7/20\n",
      "13/13 [==============================] - 2s 89ms/step - loss: 1.5905 - accuracy: 0.2256 - val_loss: 1.5656 - val_accuracy: 0.2292\n",
      "Epoch 8/20\n",
      "13/13 [==============================] - 2s 82ms/step - loss: 1.5760 - accuracy: 0.2923 - val_loss: 1.7154 - val_accuracy: 0.2292\n",
      "Epoch 9/20\n",
      "13/13 [==============================] - 2s 85ms/step - loss: 1.5896 - accuracy: 0.2462 - val_loss: 1.5592 - val_accuracy: 0.2500\n",
      "Epoch 10/20\n",
      "13/13 [==============================] - 2s 86ms/step - loss: 1.5584 - accuracy: 0.2615 - val_loss: 1.5342 - val_accuracy: 0.1875\n",
      "Epoch 11/20\n",
      "13/13 [==============================] - 2s 82ms/step - loss: 1.5216 - accuracy: 0.2667 - val_loss: 1.5436 - val_accuracy: 0.2083\n",
      "Epoch 12/20\n",
      "13/13 [==============================] - 2s 109ms/step - loss: 1.5035 - accuracy: 0.3128 - val_loss: 1.7466 - val_accuracy: 0.2292\n",
      "Epoch 13/20\n",
      "13/13 [==============================] - 2s 89ms/step - loss: 1.4779 - accuracy: 0.3436 - val_loss: 1.6497 - val_accuracy: 0.1667\n",
      "Epoch 14/20\n",
      "13/13 [==============================] - 2s 85ms/step - loss: 1.4404 - accuracy: 0.3179 - val_loss: 1.6597 - val_accuracy: 0.2708\n",
      "Epoch 15/20\n",
      "13/13 [==============================] - 2s 82ms/step - loss: 1.3857 - accuracy: 0.4051 - val_loss: 1.5299 - val_accuracy: 0.2708\n",
      "Epoch 16/20\n",
      "13/13 [==============================] - 2s 85ms/step - loss: 1.3237 - accuracy: 0.4410 - val_loss: 1.8175 - val_accuracy: 0.3750\n",
      "Epoch 17/20\n",
      "13/13 [==============================] - 3s 121ms/step - loss: 1.2737 - accuracy: 0.4513 - val_loss: 1.6024 - val_accuracy: 0.3542\n",
      "Epoch 18/20\n",
      "13/13 [==============================] - 2s 95ms/step - loss: 1.3644 - accuracy: 0.4256 - val_loss: 1.3800 - val_accuracy: 0.3958\n",
      "Epoch 19/20\n",
      "13/13 [==============================] - 2s 91ms/step - loss: 1.2655 - accuracy: 0.4615 - val_loss: 1.2608 - val_accuracy: 0.4792\n",
      "Epoch 20/20\n",
      "13/13 [==============================] - 2s 94ms/step - loss: 1.2311 - accuracy: 0.4667 - val_loss: 1.4972 - val_accuracy: 0.3958\n",
      "\n",
      "\n",
      "\n",
      "========================= MODEL 3/11 =========================\n",
      "\n",
      "\n",
      "\n",
      "Epoch 1/20\n",
      "13/13 [==============================] - 4s 107ms/step - loss: 1.6502 - accuracy: 0.2205 - val_loss: 1.6095 - val_accuracy: 0.2292\n",
      "Epoch 2/20\n",
      "13/13 [==============================] - 2s 91ms/step - loss: 1.6086 - accuracy: 0.2308 - val_loss: 1.6115 - val_accuracy: 0.1875\n",
      "Epoch 3/20\n",
      "13/13 [==============================] - 2s 94ms/step - loss: 1.6092 - accuracy: 0.2410 - val_loss: 1.6082 - val_accuracy: 0.1875\n",
      "Epoch 4/20\n",
      "13/13 [==============================] - 2s 95ms/step - loss: 1.6085 - accuracy: 0.2410 - val_loss: 1.6089 - val_accuracy: 0.1875\n",
      "Epoch 5/20\n",
      "13/13 [==============================] - 2s 119ms/step - loss: 1.6065 - accuracy: 0.2410 - val_loss: 1.6090 - val_accuracy: 0.1875\n",
      "Epoch 6/20\n",
      "13/13 [==============================] - 2s 91ms/step - loss: 1.6019 - accuracy: 0.2308 - val_loss: 1.6086 - val_accuracy: 0.1875\n",
      "Epoch 7/20\n",
      "13/13 [==============================] - 2s 91ms/step - loss: 1.6054 - accuracy: 0.2256 - val_loss: 1.6170 - val_accuracy: 0.1875\n",
      "Epoch 8/20\n",
      "13/13 [==============================] - 2s 90ms/step - loss: 1.6082 - accuracy: 0.2410 - val_loss: 1.6121 - val_accuracy: 0.1875\n",
      "Epoch 9/20\n",
      "13/13 [==============================] - 2s 91ms/step - loss: 1.6107 - accuracy: 0.2359 - val_loss: 1.6088 - val_accuracy: 0.1875\n",
      "Epoch 10/20\n",
      "13/13 [==============================] - 2s 106ms/step - loss: 1.6065 - accuracy: 0.2410 - val_loss: 1.6119 - val_accuracy: 0.1875\n",
      "Epoch 11/20\n",
      "13/13 [==============================] - 3s 96ms/step - loss: 1.6157 - accuracy: 0.2256 - val_loss: 1.6110 - val_accuracy: 0.1875\n",
      "Epoch 12/20\n",
      "13/13 [==============================] - 2s 96ms/step - loss: 1.6058 - accuracy: 0.2410 - val_loss: 1.6100 - val_accuracy: 0.1875\n",
      "Epoch 13/20\n",
      "13/13 [==============================] - 2s 98ms/step - loss: 1.6078 - accuracy: 0.2410 - val_loss: 1.6150 - val_accuracy: 0.1875\n",
      "Epoch 14/20\n",
      "13/13 [==============================] - 3s 137ms/step - loss: 1.6066 - accuracy: 0.2410 - val_loss: 1.6128 - val_accuracy: 0.1875\n",
      "Epoch 15/20\n",
      "13/13 [==============================] - 2s 99ms/step - loss: 1.6045 - accuracy: 0.2410 - val_loss: 1.6129 - val_accuracy: 0.1875\n",
      "Epoch 16/20\n",
      "13/13 [==============================] - 2s 92ms/step - loss: 1.6043 - accuracy: 0.2410 - val_loss: 1.6118 - val_accuracy: 0.1875\n",
      "Epoch 17/20\n",
      "13/13 [==============================] - 2s 95ms/step - loss: 1.6018 - accuracy: 0.2410 - val_loss: 1.6106 - val_accuracy: 0.1875\n",
      "Epoch 18/20\n",
      "13/13 [==============================] - 3s 94ms/step - loss: 1.6054 - accuracy: 0.2615 - val_loss: 1.6090 - val_accuracy: 0.1875\n",
      "Epoch 19/20\n",
      "13/13 [==============================] - 2s 93ms/step - loss: 1.6076 - accuracy: 0.2410 - val_loss: 1.6147 - val_accuracy: 0.1875\n",
      "Epoch 20/20\n",
      "13/13 [==============================] - 2s 97ms/step - loss: 1.6093 - accuracy: 0.2308 - val_loss: 1.6120 - val_accuracy: 0.1875\n",
      "\n",
      "\n",
      "\n",
      "========================= MODEL 4/11 =========================\n",
      "\n",
      "\n",
      "\n",
      "Epoch 1/20\n",
      "13/13 [==============================] - 4s 110ms/step - loss: 1.8084 - accuracy: 0.1795 - val_loss: 1.6104 - val_accuracy: 0.1875\n",
      "Epoch 2/20\n",
      "13/13 [==============================] - 3s 134ms/step - loss: 1.6043 - accuracy: 0.2154 - val_loss: 1.5933 - val_accuracy: 0.1875\n",
      "Epoch 3/20\n",
      "13/13 [==============================] - 3s 114ms/step - loss: 1.5989 - accuracy: 0.2256 - val_loss: 1.5862 - val_accuracy: 0.2500\n",
      "Epoch 4/20\n",
      "13/13 [==============================] - 2s 98ms/step - loss: 1.5919 - accuracy: 0.2103 - val_loss: 1.5838 - val_accuracy: 0.2500\n",
      "Epoch 5/20\n",
      "13/13 [==============================] - 2s 97ms/step - loss: 1.5958 - accuracy: 0.2205 - val_loss: 1.6097 - val_accuracy: 0.2292\n",
      "Epoch 6/20\n",
      "13/13 [==============================] - 3s 116ms/step - loss: 1.5952 - accuracy: 0.2205 - val_loss: 1.5799 - val_accuracy: 0.2708\n",
      "Epoch 7/20\n",
      "13/13 [==============================] - 2s 107ms/step - loss: 1.5764 - accuracy: 0.1949 - val_loss: 1.6054 - val_accuracy: 0.2292\n",
      "Epoch 8/20\n",
      "13/13 [==============================] - 2s 103ms/step - loss: 1.5446 - accuracy: 0.2462 - val_loss: 1.5504 - val_accuracy: 0.2292\n",
      "Epoch 9/20\n",
      "13/13 [==============================] - 2s 102ms/step - loss: 1.5601 - accuracy: 0.2615 - val_loss: 1.5670 - val_accuracy: 0.3750\n",
      "Epoch 10/20\n",
      "13/13 [==============================] - 3s 129ms/step - loss: 1.5588 - accuracy: 0.2718 - val_loss: 1.6238 - val_accuracy: 0.2083\n",
      "Epoch 11/20\n",
      "13/13 [==============================] - 2s 103ms/step - loss: 1.6091 - accuracy: 0.2103 - val_loss: 1.5474 - val_accuracy: 0.3333\n",
      "Epoch 12/20\n",
      "13/13 [==============================] - 2s 103ms/step - loss: 1.5519 - accuracy: 0.2923 - val_loss: 1.7069 - val_accuracy: 0.3125\n",
      "Epoch 13/20\n",
      "13/13 [==============================] - 2s 101ms/step - loss: 1.5383 - accuracy: 0.2974 - val_loss: 1.5126 - val_accuracy: 0.2708\n",
      "Epoch 14/20\n",
      "13/13 [==============================] - 3s 104ms/step - loss: 1.5327 - accuracy: 0.3538 - val_loss: 1.4613 - val_accuracy: 0.4583\n",
      "Epoch 15/20\n",
      "13/13 [==============================] - 3s 143ms/step - loss: 1.5972 - accuracy: 0.2718 - val_loss: 1.4976 - val_accuracy: 0.2708\n",
      "Epoch 16/20\n",
      "13/13 [==============================] - 2s 103ms/step - loss: 1.4832 - accuracy: 0.3385 - val_loss: 1.3826 - val_accuracy: 0.3958\n",
      "Epoch 17/20\n",
      "13/13 [==============================] - 3s 110ms/step - loss: 1.4049 - accuracy: 0.3487 - val_loss: 1.5310 - val_accuracy: 0.2917\n",
      "Epoch 18/20\n",
      "13/13 [==============================] - 2s 102ms/step - loss: 1.4065 - accuracy: 0.3949 - val_loss: 1.8289 - val_accuracy: 0.2917\n",
      "Epoch 19/20\n",
      "13/13 [==============================] - 2s 101ms/step - loss: 1.4263 - accuracy: 0.4051 - val_loss: 1.4224 - val_accuracy: 0.3125\n",
      "Epoch 20/20\n",
      "13/13 [==============================] - 2s 98ms/step - loss: 1.3381 - accuracy: 0.4000 - val_loss: 1.4274 - val_accuracy: 0.3333\n",
      "\n",
      "\n",
      "\n",
      "========================= MODEL 5/11 =========================\n",
      "\n",
      "\n",
      "\n",
      "Epoch 1/20\n",
      "13/13 [==============================] - 4s 147ms/step - loss: 1.9215 - accuracy: 0.2564 - val_loss: 1.5989 - val_accuracy: 0.2500\n",
      "Epoch 2/20\n",
      "13/13 [==============================] - 2s 103ms/step - loss: 1.6121 - accuracy: 0.2513 - val_loss: 1.6105 - val_accuracy: 0.1875\n",
      "Epoch 3/20\n",
      "13/13 [==============================] - 2s 107ms/step - loss: 1.6055 - accuracy: 0.2615 - val_loss: 1.6096 - val_accuracy: 0.1875\n",
      "Epoch 4/20\n",
      "13/13 [==============================] - 2s 109ms/step - loss: 1.6065 - accuracy: 0.2359 - val_loss: 1.6159 - val_accuracy: 0.1875\n",
      "Epoch 5/20\n",
      "13/13 [==============================] - 3s 134ms/step - loss: 1.5985 - accuracy: 0.2513 - val_loss: 1.6007 - val_accuracy: 0.1875\n",
      "Epoch 6/20\n",
      "13/13 [==============================] - 3s 145ms/step - loss: 1.5929 - accuracy: 0.2410 - val_loss: 1.6027 - val_accuracy: 0.1875\n",
      "Epoch 7/20\n",
      "13/13 [==============================] - 3s 106ms/step - loss: 1.5943 - accuracy: 0.2513 - val_loss: 1.5727 - val_accuracy: 0.2083\n",
      "Epoch 8/20\n",
      "13/13 [==============================] - 2s 105ms/step - loss: 1.5308 - accuracy: 0.2359 - val_loss: 1.5188 - val_accuracy: 0.2500\n",
      "Epoch 9/20\n",
      "13/13 [==============================] - 2s 107ms/step - loss: 1.4848 - accuracy: 0.3231 - val_loss: 1.4468 - val_accuracy: 0.2500\n",
      "Epoch 10/20\n",
      "13/13 [==============================] - 2s 104ms/step - loss: 1.5084 - accuracy: 0.2872 - val_loss: 1.4536 - val_accuracy: 0.2292\n",
      "Epoch 11/20\n",
      "13/13 [==============================] - 2s 108ms/step - loss: 1.3866 - accuracy: 0.3692 - val_loss: 1.2834 - val_accuracy: 0.2917\n",
      "Epoch 12/20\n",
      "13/13 [==============================] - 3s 107ms/step - loss: 1.4189 - accuracy: 0.4000 - val_loss: 1.3811 - val_accuracy: 0.4375\n",
      "Epoch 13/20\n",
      "13/13 [==============================] - 2s 104ms/step - loss: 1.3091 - accuracy: 0.4410 - val_loss: 1.2576 - val_accuracy: 0.4167\n",
      "Epoch 14/20\n",
      "13/13 [==============================] - 2s 107ms/step - loss: 1.2178 - accuracy: 0.4821 - val_loss: 1.6966 - val_accuracy: 0.3333\n",
      "Epoch 15/20\n",
      "13/13 [==============================] - 3s 126ms/step - loss: 1.2490 - accuracy: 0.4718 - val_loss: 1.2645 - val_accuracy: 0.4792\n",
      "Epoch 16/20\n",
      "13/13 [==============================] - 2s 104ms/step - loss: 1.0888 - accuracy: 0.5538 - val_loss: 1.2555 - val_accuracy: 0.5208\n",
      "Epoch 17/20\n",
      "13/13 [==============================] - 3s 167ms/step - loss: 0.9051 - accuracy: 0.6256 - val_loss: 1.3340 - val_accuracy: 0.4375\n",
      "Epoch 18/20\n",
      "13/13 [==============================] - 3s 132ms/step - loss: 0.8431 - accuracy: 0.7026 - val_loss: 1.2777 - val_accuracy: 0.4583\n",
      "Epoch 19/20\n",
      "13/13 [==============================] - 2s 106ms/step - loss: 0.6938 - accuracy: 0.7282 - val_loss: 1.3564 - val_accuracy: 0.4167\n",
      "Epoch 20/20\n",
      "13/13 [==============================] - 2s 103ms/step - loss: 0.6001 - accuracy: 0.7846 - val_loss: 1.6116 - val_accuracy: 0.4375\n",
      "\n",
      "\n",
      "\n",
      "========================= MODEL 6/11 =========================\n",
      "\n",
      "\n",
      "\n",
      "Epoch 1/20\n",
      "13/13 [==============================] - 4s 132ms/step - loss: 1.8019 - accuracy: 0.2051 - val_loss: 1.5952 - val_accuracy: 0.2500\n",
      "Epoch 2/20\n",
      "13/13 [==============================] - 2s 99ms/step - loss: 1.5937 - accuracy: 0.2000 - val_loss: 1.5976 - val_accuracy: 0.2708\n",
      "Epoch 3/20\n",
      "13/13 [==============================] - 2s 98ms/step - loss: 1.5995 - accuracy: 0.2513 - val_loss: 1.5699 - val_accuracy: 0.2292\n",
      "Epoch 4/20\n",
      "13/13 [==============================] - 2s 102ms/step - loss: 1.5708 - accuracy: 0.3128 - val_loss: 1.5233 - val_accuracy: 0.2292\n",
      "Epoch 5/20\n",
      "13/13 [==============================] - 2s 110ms/step - loss: 1.5144 - accuracy: 0.2615 - val_loss: 1.4063 - val_accuracy: 0.3333\n",
      "Epoch 6/20\n",
      "13/13 [==============================] - 3s 101ms/step - loss: 1.5995 - accuracy: 0.2923 - val_loss: 1.5724 - val_accuracy: 0.3125\n",
      "Epoch 7/20\n",
      "13/13 [==============================] - 3s 126ms/step - loss: 1.5201 - accuracy: 0.2923 - val_loss: 1.4734 - val_accuracy: 0.2083\n",
      "Epoch 8/20\n",
      "13/13 [==============================] - 2s 100ms/step - loss: 1.4583 - accuracy: 0.3333 - val_loss: 1.3492 - val_accuracy: 0.2708\n",
      "Epoch 9/20\n",
      "13/13 [==============================] - 3s 104ms/step - loss: 1.3555 - accuracy: 0.4205 - val_loss: 1.3231 - val_accuracy: 0.2917\n",
      "Epoch 10/20\n",
      "13/13 [==============================] - 2s 103ms/step - loss: 1.4272 - accuracy: 0.3487 - val_loss: 1.3433 - val_accuracy: 0.3333\n",
      "Epoch 11/20\n",
      "13/13 [==============================] - 2s 101ms/step - loss: 1.3225 - accuracy: 0.3897 - val_loss: 1.2992 - val_accuracy: 0.4167\n",
      "Epoch 12/20\n",
      "13/13 [==============================] - 2s 104ms/step - loss: 1.2607 - accuracy: 0.4410 - val_loss: 1.2955 - val_accuracy: 0.3333\n",
      "Epoch 13/20\n",
      "13/13 [==============================] - 3s 126ms/step - loss: 1.2695 - accuracy: 0.4410 - val_loss: 1.2211 - val_accuracy: 0.5417\n",
      "Epoch 14/20\n",
      "13/13 [==============================] - 2s 94ms/step - loss: 1.2138 - accuracy: 0.4513 - val_loss: 1.2318 - val_accuracy: 0.5000\n",
      "Epoch 15/20\n",
      "13/13 [==============================] - 2s 102ms/step - loss: 1.1911 - accuracy: 0.4564 - val_loss: 1.2511 - val_accuracy: 0.4167\n",
      "Epoch 16/20\n",
      "13/13 [==============================] - 2s 98ms/step - loss: 1.1127 - accuracy: 0.5026 - val_loss: 1.2984 - val_accuracy: 0.5000\n",
      "Epoch 17/20\n",
      "13/13 [==============================] - 3s 101ms/step - loss: 1.0216 - accuracy: 0.5436 - val_loss: 1.3798 - val_accuracy: 0.4167\n",
      "Epoch 18/20\n",
      "13/13 [==============================] - 3s 145ms/step - loss: 0.9942 - accuracy: 0.5641 - val_loss: 1.4007 - val_accuracy: 0.2917\n",
      "Epoch 19/20\n",
      "13/13 [==============================] - 2s 101ms/step - loss: 0.8907 - accuracy: 0.6205 - val_loss: 1.3227 - val_accuracy: 0.2500\n",
      "Epoch 20/20\n",
      "13/13 [==============================] - 3s 120ms/step - loss: 0.8069 - accuracy: 0.6667 - val_loss: 1.2945 - val_accuracy: 0.3333\n",
      "\n",
      "\n",
      "\n",
      "========================= MODEL 7/11 =========================\n",
      "\n",
      "\n",
      "\n",
      "Epoch 1/20\n",
      "13/13 [==============================] - 4s 113ms/step - loss: 1.7204 - accuracy: 0.1949 - val_loss: 1.6143 - val_accuracy: 0.1875\n",
      "Epoch 2/20\n",
      "13/13 [==============================] - 2s 103ms/step - loss: 1.5985 - accuracy: 0.2513 - val_loss: 1.6427 - val_accuracy: 0.1875\n",
      "Epoch 3/20\n",
      "13/13 [==============================] - 3s 172ms/step - loss: 1.5965 - accuracy: 0.2462 - val_loss: 1.6114 - val_accuracy: 0.1875\n",
      "Epoch 4/20\n",
      "13/13 [==============================] - 2s 103ms/step - loss: 1.5958 - accuracy: 0.2615 - val_loss: 1.6643 - val_accuracy: 0.1250\n",
      "Epoch 5/20\n",
      "13/13 [==============================] - 2s 109ms/step - loss: 1.6174 - accuracy: 0.2564 - val_loss: 1.6122 - val_accuracy: 0.2292\n",
      "Epoch 6/20\n",
      "13/13 [==============================] - 2s 102ms/step - loss: 1.6047 - accuracy: 0.2667 - val_loss: 1.6315 - val_accuracy: 0.1875\n",
      "Epoch 7/20\n",
      "13/13 [==============================] - 2s 104ms/step - loss: 1.5919 - accuracy: 0.2462 - val_loss: 1.6062 - val_accuracy: 0.1667\n",
      "Epoch 8/20\n",
      "13/13 [==============================] - 3s 101ms/step - loss: 1.5875 - accuracy: 0.2410 - val_loss: 1.6501 - val_accuracy: 0.2292\n",
      "Epoch 9/20\n",
      "13/13 [==============================] - 3s 132ms/step - loss: 1.5680 - accuracy: 0.2718 - val_loss: 1.5427 - val_accuracy: 0.2292\n",
      "Epoch 10/20\n",
      "13/13 [==============================] - 2s 104ms/step - loss: 1.5322 - accuracy: 0.2615 - val_loss: 1.5536 - val_accuracy: 0.3333\n",
      "Epoch 11/20\n",
      "13/13 [==============================] - 3s 101ms/step - loss: 1.5107 - accuracy: 0.3128 - val_loss: 1.6890 - val_accuracy: 0.2292\n",
      "Epoch 12/20\n",
      "13/13 [==============================] - 2s 101ms/step - loss: 1.5025 - accuracy: 0.3026 - val_loss: 1.8015 - val_accuracy: 0.2292\n",
      "Epoch 13/20\n",
      "13/13 [==============================] - 2s 104ms/step - loss: 1.4346 - accuracy: 0.2974 - val_loss: 1.6469 - val_accuracy: 0.3542\n",
      "Epoch 14/20\n",
      "13/13 [==============================] - 2s 102ms/step - loss: 1.4348 - accuracy: 0.3538 - val_loss: 1.7252 - val_accuracy: 0.2500\n",
      "Epoch 15/20\n",
      "13/13 [==============================] - 3s 130ms/step - loss: 1.3945 - accuracy: 0.2974 - val_loss: 1.9563 - val_accuracy: 0.2292\n",
      "Epoch 16/20\n",
      "13/13 [==============================] - 2s 113ms/step - loss: 1.3331 - accuracy: 0.3897 - val_loss: 3.3170 - val_accuracy: 0.2292\n",
      "Epoch 17/20\n",
      "13/13 [==============================] - 2s 97ms/step - loss: 1.3408 - accuracy: 0.4256 - val_loss: 1.5015 - val_accuracy: 0.3125\n",
      "Epoch 18/20\n",
      "13/13 [==============================] - 2s 99ms/step - loss: 1.4027 - accuracy: 0.3385 - val_loss: 1.5567 - val_accuracy: 0.3333\n",
      "Epoch 19/20\n",
      "13/13 [==============================] - 2s 100ms/step - loss: 1.4102 - accuracy: 0.4000 - val_loss: 1.3038 - val_accuracy: 0.2083\n",
      "Epoch 20/20\n",
      "13/13 [==============================] - 3s 96ms/step - loss: 1.6220 - accuracy: 0.2154 - val_loss: 1.6543 - val_accuracy: 0.1042\n",
      "\n",
      "\n",
      "\n",
      "========================= MODEL 8/11 =========================\n",
      "\n",
      "\n",
      "\n",
      "Epoch 1/20\n",
      "13/13 [==============================] - 4s 125ms/step - loss: 2.0291 - accuracy: 0.2154 - val_loss: 1.5969 - val_accuracy: 0.1875\n",
      "Epoch 2/20\n",
      "13/13 [==============================] - 2s 89ms/step - loss: 1.6047 - accuracy: 0.2513 - val_loss: 1.5626 - val_accuracy: 0.2500\n",
      "Epoch 3/20\n",
      "13/13 [==============================] - 2s 90ms/step - loss: 1.4395 - accuracy: 0.3538 - val_loss: 1.6673 - val_accuracy: 0.2083\n",
      "Epoch 4/20\n",
      "13/13 [==============================] - 2s 95ms/step - loss: 1.2395 - accuracy: 0.4923 - val_loss: 1.5576 - val_accuracy: 0.3542\n",
      "Epoch 5/20\n",
      "13/13 [==============================] - 2s 91ms/step - loss: 0.8558 - accuracy: 0.6513 - val_loss: 1.5586 - val_accuracy: 0.2708\n",
      "Epoch 6/20\n",
      "13/13 [==============================] - 2s 116ms/step - loss: 0.6832 - accuracy: 0.8051 - val_loss: 1.6669 - val_accuracy: 0.3333\n",
      "Epoch 7/20\n",
      "13/13 [==============================] - 2s 90ms/step - loss: 0.2882 - accuracy: 0.9231 - val_loss: 2.5783 - val_accuracy: 0.3125\n",
      "Epoch 8/20\n",
      "13/13 [==============================] - 2s 91ms/step - loss: 0.2505 - accuracy: 0.9436 - val_loss: 2.3573 - val_accuracy: 0.3125\n",
      "Epoch 9/20\n",
      "13/13 [==============================] - 2s 90ms/step - loss: 0.1386 - accuracy: 0.9641 - val_loss: 1.9867 - val_accuracy: 0.3958\n",
      "Epoch 10/20\n",
      "13/13 [==============================] - 2s 93ms/step - loss: 0.0668 - accuracy: 0.9949 - val_loss: 2.3548 - val_accuracy: 0.3750\n",
      "Epoch 11/20\n",
      "13/13 [==============================] - 3s 99ms/step - loss: 0.0418 - accuracy: 0.9897 - val_loss: 2.1525 - val_accuracy: 0.4583\n",
      "Epoch 12/20\n",
      "13/13 [==============================] - 2s 118ms/step - loss: 0.0320 - accuracy: 0.9949 - val_loss: 3.8963 - val_accuracy: 0.2917\n",
      "Epoch 13/20\n",
      "13/13 [==============================] - 3s 92ms/step - loss: 0.0864 - accuracy: 0.9846 - val_loss: 1.9899 - val_accuracy: 0.3333\n",
      "Epoch 14/20\n",
      "13/13 [==============================] - 2s 112ms/step - loss: 0.0297 - accuracy: 0.9949 - val_loss: 2.9251 - val_accuracy: 0.3542\n",
      "Epoch 15/20\n",
      "13/13 [==============================] - 2s 96ms/step - loss: 0.0299 - accuracy: 0.9897 - val_loss: 2.7002 - val_accuracy: 0.3750\n",
      "Epoch 16/20\n",
      "13/13 [==============================] - 2s 92ms/step - loss: 0.0254 - accuracy: 1.0000 - val_loss: 3.8422 - val_accuracy: 0.2917\n",
      "Epoch 17/20\n",
      "13/13 [==============================] - 2s 92ms/step - loss: 0.0037 - accuracy: 1.0000 - val_loss: 3.7369 - val_accuracy: 0.3542\n",
      "Epoch 18/20\n",
      "13/13 [==============================] - 2s 95ms/step - loss: 7.4102e-04 - accuracy: 1.0000 - val_loss: 3.6291 - val_accuracy: 0.4167\n",
      "Epoch 19/20\n",
      "13/13 [==============================] - 3s 96ms/step - loss: 0.0012 - accuracy: 1.0000 - val_loss: 3.3668 - val_accuracy: 0.4375\n",
      "Epoch 20/20\n",
      "13/13 [==============================] - 2s 95ms/step - loss: 5.1820e-04 - accuracy: 1.0000 - val_loss: 3.9985 - val_accuracy: 0.2917\n",
      "\n",
      "\n",
      "\n",
      "========================= MODEL 9/11 =========================\n",
      "\n",
      "\n",
      "\n",
      "Epoch 1/20\n",
      "13/13 [==============================] - 3s 116ms/step - loss: 1.6568 - accuracy: 0.2051 - val_loss: 1.6091 - val_accuracy: 0.2083\n",
      "Epoch 2/20\n",
      "13/13 [==============================] - 3s 118ms/step - loss: 1.6065 - accuracy: 0.2051 - val_loss: 1.5995 - val_accuracy: 0.1875\n",
      "Epoch 3/20\n",
      "13/13 [==============================] - 2s 99ms/step - loss: 1.5975 - accuracy: 0.2205 - val_loss: 1.5926 - val_accuracy: 0.1875\n",
      "Epoch 4/20\n",
      "13/13 [==============================] - 2s 98ms/step - loss: 1.5783 - accuracy: 0.2103 - val_loss: 1.5966 - val_accuracy: 0.1875\n",
      "Epoch 5/20\n",
      "13/13 [==============================] - 3s 126ms/step - loss: 1.5438 - accuracy: 0.2513 - val_loss: 1.5255 - val_accuracy: 0.2083\n",
      "Epoch 6/20\n",
      "13/13 [==============================] - 3s 134ms/step - loss: 1.5035 - accuracy: 0.2308 - val_loss: 1.5788 - val_accuracy: 0.2083\n",
      "Epoch 7/20\n",
      "13/13 [==============================] - 2s 102ms/step - loss: 1.5330 - accuracy: 0.2564 - val_loss: 1.5309 - val_accuracy: 0.2500\n",
      "Epoch 8/20\n",
      "13/13 [==============================] - 2s 104ms/step - loss: 1.3540 - accuracy: 0.3436 - val_loss: 1.6876 - val_accuracy: 0.1875\n",
      "Epoch 9/20\n",
      "13/13 [==============================] - 2s 100ms/step - loss: 1.3275 - accuracy: 0.3641 - val_loss: 1.4773 - val_accuracy: 0.2917\n",
      "Epoch 10/20\n",
      "13/13 [==============================] - 2s 98ms/step - loss: 1.2366 - accuracy: 0.3641 - val_loss: 1.3503 - val_accuracy: 0.3750\n",
      "Epoch 11/20\n",
      "13/13 [==============================] - 2s 95ms/step - loss: 1.0531 - accuracy: 0.4974 - val_loss: 1.3150 - val_accuracy: 0.3542\n",
      "Epoch 12/20\n",
      "13/13 [==============================] - 2s 97ms/step - loss: 0.9748 - accuracy: 0.5179 - val_loss: 1.5246 - val_accuracy: 0.3333\n",
      "Epoch 13/20\n",
      "13/13 [==============================] - 2s 97ms/step - loss: 0.7684 - accuracy: 0.6564 - val_loss: 1.7963 - val_accuracy: 0.2708\n",
      "Epoch 14/20\n",
      "13/13 [==============================] - 2s 98ms/step - loss: 0.5843 - accuracy: 0.7231 - val_loss: 1.4708 - val_accuracy: 0.3333\n",
      "Epoch 15/20\n",
      "13/13 [==============================] - 2s 121ms/step - loss: 0.5057 - accuracy: 0.8564 - val_loss: 2.3663 - val_accuracy: 0.2708\n",
      "Epoch 16/20\n",
      "13/13 [==============================] - 2s 99ms/step - loss: 0.4150 - accuracy: 0.8718 - val_loss: 2.3224 - val_accuracy: 0.3125\n",
      "Epoch 17/20\n",
      "13/13 [==============================] - 2s 101ms/step - loss: 0.3171 - accuracy: 0.8769 - val_loss: 1.8508 - val_accuracy: 0.4167\n",
      "Epoch 18/20\n",
      "13/13 [==============================] - 3s 128ms/step - loss: 0.2226 - accuracy: 0.9538 - val_loss: 2.5773 - val_accuracy: 0.3750\n",
      "Epoch 19/20\n",
      "13/13 [==============================] - 3s 125ms/step - loss: 0.2718 - accuracy: 0.9128 - val_loss: 1.6726 - val_accuracy: 0.4792\n",
      "Epoch 20/20\n",
      "13/13 [==============================] - 2s 106ms/step - loss: 0.2635 - accuracy: 0.9538 - val_loss: 2.0195 - val_accuracy: 0.3542\n",
      "\n",
      "\n",
      "\n",
      "========================= MODEL 10/11 =========================\n",
      "\n",
      "\n",
      "\n",
      "Epoch 1/20\n",
      "13/13 [==============================] - 4s 122ms/step - loss: 1.6144 - accuracy: 0.1538 - val_loss: 1.6099 - val_accuracy: 0.1875\n",
      "Epoch 2/20\n",
      "13/13 [==============================] - 3s 128ms/step - loss: 1.6091 - accuracy: 0.1744 - val_loss: 1.6081 - val_accuracy: 0.2292\n",
      "Epoch 3/20\n",
      "13/13 [==============================] - 2s 99ms/step - loss: 1.6064 - accuracy: 0.2564 - val_loss: 1.6087 - val_accuracy: 0.1875\n",
      "Epoch 4/20\n",
      "13/13 [==============================] - 2s 94ms/step - loss: 1.6078 - accuracy: 0.2410 - val_loss: 1.6042 - val_accuracy: 0.1875\n",
      "Epoch 5/20\n",
      "13/13 [==============================] - 2s 98ms/step - loss: 1.6066 - accuracy: 0.2051 - val_loss: 1.5633 - val_accuracy: 0.2708\n",
      "Epoch 6/20\n",
      "13/13 [==============================] - 2s 99ms/step - loss: 1.5854 - accuracy: 0.2462 - val_loss: 1.8684 - val_accuracy: 0.2292\n",
      "Epoch 7/20\n",
      "13/13 [==============================] - 2s 99ms/step - loss: 1.5929 - accuracy: 0.2308 - val_loss: 1.5863 - val_accuracy: 0.2708\n",
      "Epoch 8/20\n",
      "13/13 [==============================] - 3s 151ms/step - loss: 1.5820 - accuracy: 0.2000 - val_loss: 1.4808 - val_accuracy: 0.2500\n",
      "Epoch 9/20\n",
      "13/13 [==============================] - 2s 103ms/step - loss: 1.5298 - accuracy: 0.2564 - val_loss: 1.7121 - val_accuracy: 0.2292\n",
      "Epoch 10/20\n",
      "13/13 [==============================] - 3s 114ms/step - loss: 1.4761 - accuracy: 0.3026 - val_loss: 3.1121 - val_accuracy: 0.1875\n",
      "Epoch 11/20\n",
      "13/13 [==============================] - 2s 104ms/step - loss: 1.6257 - accuracy: 0.2974 - val_loss: 1.5351 - val_accuracy: 0.2083\n",
      "Epoch 12/20\n",
      "13/13 [==============================] - 2s 101ms/step - loss: 1.5543 - accuracy: 0.2564 - val_loss: 1.4987 - val_accuracy: 0.2708\n",
      "Epoch 13/20\n",
      "13/13 [==============================] - 3s 141ms/step - loss: 1.4446 - accuracy: 0.2615 - val_loss: 1.4998 - val_accuracy: 0.4792\n",
      "Epoch 14/20\n",
      "13/13 [==============================] - 3s 116ms/step - loss: 1.4798 - accuracy: 0.2872 - val_loss: 1.3341 - val_accuracy: 0.2708\n",
      "Epoch 15/20\n",
      "13/13 [==============================] - 2s 107ms/step - loss: 1.4637 - accuracy: 0.3128 - val_loss: 1.4568 - val_accuracy: 0.2500\n",
      "Epoch 16/20\n",
      "13/13 [==============================] - 2s 109ms/step - loss: 1.4578 - accuracy: 0.3128 - val_loss: 1.7061 - val_accuracy: 0.2500\n",
      "Epoch 17/20\n",
      "13/13 [==============================] - 3s 108ms/step - loss: 1.3878 - accuracy: 0.3333 - val_loss: 1.2737 - val_accuracy: 0.4792\n",
      "Epoch 18/20\n",
      "13/13 [==============================] - 3s 162ms/step - loss: 1.5616 - accuracy: 0.2513 - val_loss: 1.3802 - val_accuracy: 0.3542\n",
      "Epoch 19/20\n",
      "13/13 [==============================] - 3s 100ms/step - loss: 1.5475 - accuracy: 0.2205 - val_loss: 1.4048 - val_accuracy: 0.3333\n",
      "Epoch 20/20\n",
      "13/13 [==============================] - 2s 100ms/step - loss: 1.4147 - accuracy: 0.3179 - val_loss: 1.4233 - val_accuracy: 0.3750\n",
      "\n",
      "\n",
      "\n",
      "========================= MODEL 11/11 =========================\n",
      "\n",
      "\n",
      "\n",
      "Epoch 1/20\n",
      "13/13 [==============================] - 4s 132ms/step - loss: 1.6133 - accuracy: 0.2359 - val_loss: 1.5853 - val_accuracy: 0.1875\n",
      "Epoch 2/20\n",
      "13/13 [==============================] - 2s 115ms/step - loss: 1.5503 - accuracy: 0.2359 - val_loss: 1.5455 - val_accuracy: 0.2500\n",
      "Epoch 3/20\n",
      "13/13 [==============================] - 3s 106ms/step - loss: 1.4848 - accuracy: 0.2462 - val_loss: 1.4460 - val_accuracy: 0.2292\n",
      "Epoch 4/20\n",
      "13/13 [==============================] - 2s 106ms/step - loss: 1.4037 - accuracy: 0.2821 - val_loss: 1.3553 - val_accuracy: 0.2292\n",
      "Epoch 5/20\n",
      "13/13 [==============================] - 2s 106ms/step - loss: 1.5031 - accuracy: 0.2615 - val_loss: 1.4850 - val_accuracy: 0.1875\n",
      "Epoch 6/20\n",
      "13/13 [==============================] - 3s 110ms/step - loss: 1.4600 - accuracy: 0.2718 - val_loss: 1.3554 - val_accuracy: 0.2708\n",
      "Epoch 7/20\n",
      "13/13 [==============================] - 3s 136ms/step - loss: 1.3918 - accuracy: 0.3333 - val_loss: 1.3689 - val_accuracy: 0.2292\n",
      "Epoch 8/20\n",
      "13/13 [==============================] - 3s 130ms/step - loss: 1.2528 - accuracy: 0.4410 - val_loss: 1.2541 - val_accuracy: 0.3958\n",
      "Epoch 9/20\n",
      "13/13 [==============================] - 2s 107ms/step - loss: 1.1967 - accuracy: 0.4410 - val_loss: 1.3359 - val_accuracy: 0.2500\n",
      "Epoch 10/20\n",
      "13/13 [==============================] - 2s 106ms/step - loss: 1.1440 - accuracy: 0.4821 - val_loss: 1.2985 - val_accuracy: 0.4167\n",
      "Epoch 11/20\n",
      "13/13 [==============================] - 2s 108ms/step - loss: 1.1293 - accuracy: 0.4462 - val_loss: 1.2316 - val_accuracy: 0.3958\n",
      "Epoch 12/20\n",
      "13/13 [==============================] - 3s 129ms/step - loss: 1.1751 - accuracy: 0.4615 - val_loss: 1.2795 - val_accuracy: 0.3542\n",
      "Epoch 13/20\n",
      "13/13 [==============================] - 2s 104ms/step - loss: 1.1566 - accuracy: 0.4615 - val_loss: 1.3519 - val_accuracy: 0.3958\n",
      "Epoch 14/20\n",
      "13/13 [==============================] - 2s 109ms/step - loss: 1.0665 - accuracy: 0.4872 - val_loss: 1.5074 - val_accuracy: 0.3542\n",
      "Epoch 15/20\n",
      "13/13 [==============================] - 2s 105ms/step - loss: 1.0703 - accuracy: 0.4974 - val_loss: 1.4271 - val_accuracy: 0.4375\n",
      "Epoch 16/20\n",
      "13/13 [==============================] - 3s 104ms/step - loss: 0.9716 - accuracy: 0.5436 - val_loss: 1.3655 - val_accuracy: 0.3958\n",
      "Epoch 17/20\n",
      "13/13 [==============================] - 3s 160ms/step - loss: 0.9873 - accuracy: 0.5846 - val_loss: 1.3602 - val_accuracy: 0.3958\n",
      "Epoch 18/20\n",
      "13/13 [==============================] - 3s 105ms/step - loss: 1.0424 - accuracy: 0.5436 - val_loss: 1.2508 - val_accuracy: 0.4583\n",
      "Epoch 19/20\n",
      "13/13 [==============================] - 3s 121ms/step - loss: 0.9329 - accuracy: 0.5795 - val_loss: 2.1034 - val_accuracy: 0.3542\n",
      "Epoch 20/20\n",
      "13/13 [==============================] - 2s 105ms/step - loss: 1.0781 - accuracy: 0.5385 - val_loss: 1.4664 - val_accuracy: 0.3750\n"
     ]
    }
   ],
   "source": [
    "model_stats = []\n",
    "for i, model in enumerate(models, start=1):\n",
    "    print(f\"\\n\\n\\n{'='*25} MODEL {i}/{len(models)} {'='*25}\\n\\n\\n\")\n",
    "    model.compile(optimizer='adam', \n",
    "              loss=keras.losses.SparseCategoricalCrossentropy(from_logits=True), \n",
    "              metrics=['accuracy'],\n",
    "             )\n",
    "    model.fit(train_ds, validation_data=val_ds, epochs=Config.epochs)\n",
    "    params = model.count_params()\n",
    "    loss = model.history.history['loss'][-1]\n",
    "    acc = model.history.history['accuracy'][-1]\n",
    "    val_acc = model.history.history['val_accuracy'][-1]\n",
    "    model_stats.append((params, loss, acc, val_acc))"
   ]
  },
  {
   "cell_type": "code",
   "execution_count": 37,
   "id": "0e531d9b",
   "metadata": {
    "execution": {
     "iopub.execute_input": "2022-07-06T07:41:03.532431Z",
     "iopub.status.busy": "2022-07-06T07:41:03.531976Z",
     "iopub.status.idle": "2022-07-06T07:41:03.541407Z",
     "shell.execute_reply": "2022-07-06T07:41:03.539883Z"
    },
    "papermill": {
     "duration": 0.276793,
     "end_time": "2022-07-06T07:41:03.547539",
     "exception": false,
     "start_time": "2022-07-06T07:41:03.270746",
     "status": "completed"
    },
    "tags": []
   },
   "outputs": [
    {
     "name": "stdout",
     "output_type": "stream",
     "text": [
      "Model 1: 44497989 parameters\n",
      "\n",
      "Loss: 1.2147085666656494\n",
      "Train Accuracy: 0.4615384638309479\n",
      "Vallidation Accuracy: 0.5416666865348816\n",
      " --------------------------------------------------\n",
      "Model 2: 6446885 parameters\n",
      "\n",
      "Loss: 1.231062889099121\n",
      "Train Accuracy: 0.46666666865348816\n",
      "Vallidation Accuracy: 0.3958333432674408\n",
      " --------------------------------------------------\n",
      "Model 3: 2413493 parameters\n",
      "\n",
      "Loss: 1.6092618703842163\n",
      "Train Accuracy: 0.23076923191547394\n",
      "Vallidation Accuracy: 0.1875\n",
      " --------------------------------------------------\n",
      "Model 4: 10289573 parameters\n",
      "\n",
      "Loss: 1.3380918502807617\n",
      "Train Accuracy: 0.4000000059604645\n",
      "Vallidation Accuracy: 0.3333333432674408\n",
      " --------------------------------------------------\n",
      "Model 5: 38074181 parameters\n",
      "\n",
      "Loss: 0.6000689268112183\n",
      "Train Accuracy: 0.7846153974533081\n",
      "Vallidation Accuracy: 0.4375\n",
      " --------------------------------------------------\n",
      "Model 6: 10350597 parameters\n",
      "\n",
      "Loss: 0.8069069385528564\n",
      "Train Accuracy: 0.6666666865348816\n",
      "Vallidation Accuracy: 0.3333333432674408\n",
      " --------------------------------------------------\n",
      "Model 7: 4451685 parameters\n",
      "\n",
      "Loss: 1.6219511032104492\n",
      "Train Accuracy: 0.2153846174478531\n",
      "Vallidation Accuracy: 0.1041666641831398\n",
      " --------------------------------------------------\n",
      "Model 8: 23034021 parameters\n",
      "\n",
      "Loss: 0.0005181964370422065\n",
      "Train Accuracy: 1.0\n",
      "Vallidation Accuracy: 0.2916666567325592\n",
      " --------------------------------------------------\n",
      "Model 9: 89347749 parameters\n",
      "\n",
      "Loss: 0.26345235109329224\n",
      "Train Accuracy: 0.9538461565971375\n",
      "Vallidation Accuracy: 0.3541666567325592\n",
      " --------------------------------------------------\n",
      "Model 10: 5296869 parameters\n",
      "\n",
      "Loss: 1.4147127866744995\n",
      "Train Accuracy: 0.31794872879981995\n",
      "Vallidation Accuracy: 0.375\n",
      " --------------------------------------------------\n",
      "Model 11: 1777237 parameters\n",
      "\n",
      "Loss: 1.0781477689743042\n",
      "Train Accuracy: 0.5384615659713745\n",
      "Vallidation Accuracy: 0.375\n",
      " --------------------------------------------------\n"
     ]
    }
   ],
   "source": [
    "for i, (params, loss, acc, val_acc) in enumerate(model_stats, start=1):\n",
    "    print(f\"Model {i}: {params} parameters\\n\")\n",
    "    print(f\"Loss: {loss}\")\n",
    "    print(f\"Train Accuracy: {acc}\")\n",
    "    print(f\"Vallidation Accuracy: {val_acc}\\n {'-'*50}\")"
   ]
  }
 ],
 "metadata": {
  "kernelspec": {
   "display_name": "Python 3",
   "language": "python",
   "name": "python3"
  },
  "language_info": {
   "codemirror_mode": {
    "name": "ipython",
    "version": 3
   },
   "file_extension": ".py",
   "mimetype": "text/x-python",
   "name": "python",
   "nbconvert_exporter": "python",
   "pygments_lexer": "ipython3",
   "version": "3.7.12"
  },
  "papermill": {
   "default_parameters": {},
   "duration": 711.382076,
   "end_time": "2022-07-06T07:41:07.234800",
   "environment_variables": {},
   "exception": null,
   "input_path": "__notebook__.ipynb",
   "output_path": "__notebook__.ipynb",
   "parameters": {},
   "start_time": "2022-07-06T07:29:15.852724",
   "version": "2.3.4"
  }
 },
 "nbformat": 4,
 "nbformat_minor": 5
}
